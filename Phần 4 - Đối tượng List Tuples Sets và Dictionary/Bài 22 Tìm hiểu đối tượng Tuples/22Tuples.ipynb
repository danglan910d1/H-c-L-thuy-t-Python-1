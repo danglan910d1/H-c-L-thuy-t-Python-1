{
 "cells": [
  {
   "cell_type": "code",
   "execution_count": 8,
   "metadata": {},
   "outputs": [
    {
     "name": "stdout",
     "output_type": "stream",
     "text": [
      "(1, 2, 3) <class 'tuple'> 2442469447360\n"
     ]
    }
   ],
   "source": [
    "t = (1,2,3)\n",
    "print(t, type(t), id(t) )\n"
   ]
  },
  {
   "cell_type": "code",
   "execution_count": 9,
   "metadata": {},
   "outputs": [
    {
     "data": {
      "text/plain": [
       "3"
      ]
     },
     "execution_count": 9,
     "metadata": {},
     "output_type": "execute_result"
    }
   ],
   "source": [
    "t [1]\n",
    "t[2]"
   ]
  },
  {
   "cell_type": "code",
   "execution_count": 15,
   "metadata": {},
   "outputs": [
    {
     "name": "stdout",
     "output_type": "stream",
     "text": [
      "(1, 2, 3, 1, 2, 3, 1, 2, 3, 1, 2, 3)\n",
      "(1, 2, 3, 1, 2, 3, 1, 2, 3)\n",
      "(1, 2, 3, 1, 2, 3, 1, 2, 3, 1, 2, 3)\n"
     ]
    }
   ],
   "source": [
    "# Cộng dồn Tuples\n",
    "# t = (1, 2, 3)\n",
    "t1 = t + t + t + t\n",
    "print(t1)\n",
    "t2 = t + t + t\n",
    "print(t2)\n",
    "t3 = t * 4\n",
    "print(t3)\n"
   ]
  },
  {
   "cell_type": "code",
   "execution_count": 22,
   "metadata": {},
   "outputs": [
    {
     "data": {
      "text/plain": [
       "(1, 2, 3, 1, 2, 3, 1, 2, 3)"
      ]
     },
     "execution_count": 22,
     "metadata": {},
     "output_type": "execute_result"
    }
   ],
   "source": [
    "# Trích xuất từ vị trí from đến to trong Tuples\n",
    "t1[1:5]\n",
    "t2[1:-1]\n",
    "t1[:]\n",
    "t2[:3]\n",
    "t1[3:]"
   ]
  },
  {
   "cell_type": "code",
   "execution_count": 32,
   "metadata": {},
   "outputs": [
    {
     "name": "stdout",
     "output_type": "stream",
     "text": [
      "((1, 2, 3), (4, 5, 6))\n",
      "(1, 2, 3, (1, 2, 3))\n"
     ]
    },
    {
     "data": {
      "text/plain": [
       "(1, 2, 3)"
      ]
     },
     "execution_count": 32,
     "metadata": {},
     "output_type": "execute_result"
    }
   ],
   "source": [
    "# Có thể gộp Tuples con và list con\n",
    "t1 = (1, 2, 3)\n",
    "t2 = (4, 5, 6)\n",
    "t = (t1,t2)\n",
    "print(t)\n",
    "t3 = (1, 2, 3, t1)\n",
    "print(t3)\n",
    "t3[3]"
   ]
  },
  {
   "cell_type": "code",
   "execution_count": 35,
   "metadata": {},
   "outputs": [
    {
     "data": {
      "text/plain": [
       "(('Trần', 'Thị'), ['Thu', 'Hà'])"
      ]
     },
     "execution_count": 35,
     "metadata": {},
     "output_type": "execute_result"
    }
   ],
   "source": [
    "t1 = (\"Trần\", \"Thị\")\n",
    "l1 = [\"Thu\", \"Hà\"]\n",
    "t = (t1, l1)\n",
    "t"
   ]
  },
  {
   "cell_type": "code",
   "execution_count": 40,
   "metadata": {},
   "outputs": [
    {
     "name": "stdout",
     "output_type": "stream",
     "text": [
      "(0, (8, 9, 10), [1, 2, 3, 4, 5, 6, 7])\n"
     ]
    },
    {
     "data": {
      "text/plain": [
       "(0, (8, 9, 10), [1, 2, 18, 4, 5, 6, 7])"
      ]
     },
     "execution_count": 40,
     "metadata": {},
     "output_type": "execute_result"
    }
   ],
   "source": [
    "# Tuple không thể thay đổi phần tử\n",
    "l = [1, 2, 3, 4, 5, 6, 7]\n",
    "t1 = (8, 9 , 10)\n",
    "t2 = (0, t1, l)\n",
    "print(t2)\n",
    "t2[2][2] = 18\n",
    "t2"
   ]
  },
  {
   "cell_type": "code",
   "execution_count": null,
   "metadata": {},
   "outputs": [],
   "source": []
  }
 ],
 "metadata": {
  "interpreter": {
   "hash": "c7bee57b26c58cc7fda6ebbba85bbc81dac28551bf90007b61a71bf47794e6d8"
  },
  "kernelspec": {
   "display_name": "Python 3.9.9 64-bit",
   "language": "python",
   "name": "python3"
  },
  "language_info": {
   "codemirror_mode": {
    "name": "ipython",
    "version": 3
   },
   "file_extension": ".py",
   "mimetype": "text/x-python",
   "name": "python",
   "nbconvert_exporter": "python",
   "pygments_lexer": "ipython3",
   "version": "3.9.9"
  },
  "orig_nbformat": 4
 },
 "nbformat": 4,
 "nbformat_minor": 2
}
