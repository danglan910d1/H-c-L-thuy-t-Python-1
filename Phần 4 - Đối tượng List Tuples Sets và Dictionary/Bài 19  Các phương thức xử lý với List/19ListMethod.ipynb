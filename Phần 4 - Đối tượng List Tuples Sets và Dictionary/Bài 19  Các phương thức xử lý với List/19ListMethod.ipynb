{
 "cells": [
  {
   "cell_type": "markdown",
   "metadata": {},
   "source": [
    "List Method"
   ]
  },
  {
   "cell_type": "code",
   "execution_count": 39,
   "metadata": {},
   "outputs": [
    {
     "name": "stdout",
     "output_type": "stream",
     "text": [
      "<class 'list'>\n",
      "[0, 1, 2, 3, 4, 5, 7]\n",
      "[0, 1, 2, 3, 4, 5, 7, 6] <class 'list'>\n"
     ]
    }
   ],
   "source": [
    "# Thêm phần tử vào cuối list \n",
    "x = range(0,6)\n",
    "y = list(x)\n",
    "print(type(y))\n",
    "y = y + [7]\n",
    "print(y)\n",
    "# Thêm phần tử vào cuối list bằng hàm append (chỉ cho phép thêm vào một số sau nó)\n",
    "y.append(6)\n",
    "print(y, type(y))"
   ]
  },
  {
   "cell_type": "code",
   "execution_count": 45,
   "metadata": {},
   "outputs": [
    {
     "name": "stdout",
     "output_type": "stream",
     "text": [
      "[1, 9, 2, 3, 4, 5, 6, 7, 8]\n",
      "[2, 8, 3, 4, 5, 6, 7, 8, 9]\n"
     ]
    }
   ],
   "source": [
    "# Thêm phần tử vào vị trí index + 1 bằng hàm l.insert(index,n)\n",
    "x = [1, 2, 3, 4, 5, 6, 7, 8]\n",
    "x.insert(1, 9)\n",
    "print(x)\n",
    "y = range(2, 10)\n",
    "y = list(y)\n",
    "y.insert(1,8)\n",
    "print(y)\n"
   ]
  },
  {
   "cell_type": "code",
   "execution_count": 49,
   "metadata": {},
   "outputs": [
    {
     "name": "stdout",
     "output_type": "stream",
     "text": [
      "[1, 9, 2, 3, 6, 7, 8]\n"
     ]
    },
    {
     "data": {
      "text/plain": [
       "[2, 8, 7, 8, 9]"
      ]
     },
     "execution_count": 49,
     "metadata": {},
     "output_type": "execute_result"
    }
   ],
   "source": [
    "# Xoá phần tử ở vị trí index bằng hàm l.pop(index)\n",
    "x.pop(4)\n",
    "print(x)\n",
    "y.pop(2)\n",
    "y\n"
   ]
  },
  {
   "cell_type": "code",
   "execution_count": 64,
   "metadata": {},
   "outputs": [
    {
     "name": "stdout",
     "output_type": "stream",
     "text": [
      "1\n",
      "0\n",
      "2\n",
      "1\n"
     ]
    }
   ],
   "source": [
    "# Đếm số lần xuất hiện của phần tử\n",
    "print(x.count(2))\n",
    "print(x.count(5))\n",
    "k = range(1,10)\n",
    "k = list(k) + [9]\n",
    "print(k.count(9))\n",
    "print(y.count(7))"
   ]
  },
  {
   "cell_type": "code",
   "execution_count": 74,
   "metadata": {},
   "outputs": [
    {
     "name": "stdout",
     "output_type": "stream",
     "text": [
      "[1, 2, 3, 6, 7, 8, 9]\n",
      "['I', 'Love', 'You']\n"
     ]
    }
   ],
   "source": [
    "# Sắp xếp theo thứ tự tăng dần dùng hàm l.sort()\n",
    "x.sort()\n",
    "print(x)\n",
    "ten = [\"You\", \"Love\", \"I\"]\n",
    "ten.sort()\n",
    "print(ten)\n"
   ]
  },
  {
   "cell_type": "code",
   "execution_count": 77,
   "metadata": {},
   "outputs": [
    {
     "name": "stdout",
     "output_type": "stream",
     "text": [
      "[9, 8, 7, 6, 3, 2, 1]\n",
      "['You', 'Love', 'I']\n"
     ]
    }
   ],
   "source": [
    "# Đảo ngược vị trí phần tử dùng hàm l.reverse()\n",
    "x.reverse()\n",
    "print(x)\n",
    "ten = [\"I\", \"Love\", \"You\"]\n",
    "ten.reverse()\n",
    "print(ten)"
   ]
  },
  {
   "cell_type": "code",
   "execution_count": 84,
   "metadata": {},
   "outputs": [
    {
     "name": "stdout",
     "output_type": "stream",
     "text": [
      "['Cảnh', 'Quân', 'Xuyên']\n",
      "['Quân', 'Xuyên']\n",
      "['Xuyên']\n",
      "[]\n"
     ]
    }
   ],
   "source": [
    "# Xoá phần tử từ vị trí from đến to dùng hàm del l[from:to]\n",
    "n = [\"Cảnh\", \"Quân\", \"Xuyên\"]\n",
    "print(n)\n",
    "del n[0]\n",
    "print(n)\n",
    "del n [0:1]\n",
    "print(n)\n",
    "del n [:]\n",
    "print(n)\n"
   ]
  },
  {
   "cell_type": "code",
   "execution_count": null,
   "metadata": {},
   "outputs": [],
   "source": []
  }
 ],
 "metadata": {
  "interpreter": {
   "hash": "c7bee57b26c58cc7fda6ebbba85bbc81dac28551bf90007b61a71bf47794e6d8"
  },
  "kernelspec": {
   "display_name": "Python 3.9.9 64-bit",
   "language": "python",
   "name": "python3"
  },
  "language_info": {
   "codemirror_mode": {
    "name": "ipython",
    "version": 3
   },
   "file_extension": ".py",
   "mimetype": "text/x-python",
   "name": "python",
   "nbconvert_exporter": "python",
   "pygments_lexer": "ipython3",
   "version": "3.9.9"
  },
  "orig_nbformat": 4
 },
 "nbformat": 4,
 "nbformat_minor": 2
}
