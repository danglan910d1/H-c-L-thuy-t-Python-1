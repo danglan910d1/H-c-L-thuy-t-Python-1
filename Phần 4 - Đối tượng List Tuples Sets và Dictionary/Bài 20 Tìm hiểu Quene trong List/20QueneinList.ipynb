{
 "cells": [
  {
   "cell_type": "code",
   "execution_count": 12,
   "metadata": {},
   "outputs": [
    {
     "name": "stdout",
     "output_type": "stream",
     "text": [
      "<class 'list'> 0\n",
      "[5]\n",
      "[5, 9]\n",
      "[5, 9, 5, 18, 20, 79]\n",
      "[5, 9, 5, 18, 20]\n",
      "[5, 9, 18, 20]\n"
     ]
    }
   ],
   "source": [
    "s = []\n",
    "print(type(s), len(s))\n",
    "s.append(5)\n",
    "print(s)\n",
    "s.append(9)\n",
    "print(s)\n",
    "s.append(5)\n",
    "s.append(18)\n",
    "s.append(20)\n",
    "s.append(79)\n",
    "print(s)\n",
    "s.pop(5)\n",
    "print(s)\n",
    "s.pop(2)\n",
    "print(s)\n"
   ]
  },
  {
   "cell_type": "code",
   "execution_count": null,
   "metadata": {},
   "outputs": [],
   "source": []
  }
 ],
 "metadata": {
  "interpreter": {
   "hash": "c7bee57b26c58cc7fda6ebbba85bbc81dac28551bf90007b61a71bf47794e6d8"
  },
  "kernelspec": {
   "display_name": "Python 3.9.9 64-bit",
   "language": "python",
   "name": "python3"
  },
  "language_info": {
   "codemirror_mode": {
    "name": "ipython",
    "version": 3
   },
   "file_extension": ".py",
   "mimetype": "text/x-python",
   "name": "python",
   "nbconvert_exporter": "python",
   "pygments_lexer": "ipython3",
   "version": "3.9.9"
  },
  "orig_nbformat": 4
 },
 "nbformat": 4,
 "nbformat_minor": 2
}
