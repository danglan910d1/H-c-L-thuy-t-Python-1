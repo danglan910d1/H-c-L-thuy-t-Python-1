{
 "cells": [
  {
   "cell_type": "markdown",
   "metadata": {},
   "source": [
    "Biểu thức          Kết quả\n",
    "x = x + 1          x +=1\n",
    "x = x - 5          x -=5\n",
    "x = x * 2          x *=2\n",
    "x = x / 3          x /=3\n",
    "x = x ** 2         x **= 2\n",
    "math.cell(x/3)     x //= 3\n",
    "(chia làm tròn xuống)  \n",
    "x <<= 3            x = x << 3 * (x * 3 * 3)\n",
    "x >>= 3            x = x >> 3 * (x / 3 / 3)"
   ]
  },
  {
   "cell_type": "code",
   "execution_count": 45,
   "metadata": {},
   "outputs": [
    {
     "name": "stdout",
     "output_type": "stream",
     "text": [
      "Assignment Operators\n",
      "Biểu thức          Kết quả\n",
      "x = x + 1          x +=1\n",
      "x = x - 5          x -=5\n",
      "x = x * 2          x *=2\n",
      "x = x / 3          x /=3\n",
      "x = x ** 2         x **= 2\n",
      "math.cell(x/3)     x //= 3\n",
      "(chia làm tròn xuống)  \n",
      "x = (x * 3 * 3)    x <<= 3\n",
      "x = (x / 3 / 3)    x >>= 3\n"
     ]
    }
   ],
   "source": [
    "print(\"Assignment Operators\")\n",
    "print(\"\"\"Biểu thức          Kết quả\n",
    "x = x + 1          x +=1\n",
    "x = x - 5          x -=5\n",
    "x = x * 2          x *=2\n",
    "x = x / 3          x /=3\n",
    "x = x ** 2         x **= 2\n",
    "math.cell(x/3)     x //= 3\n",
    "(chia làm tròn xuống)  \n",
    "x = (x * 3 * 3)    x <<= 3\n",
    "x = (x / 3 / 3)    x >>= 3\"\"\")"
   ]
  },
  {
   "cell_type": "code",
   "execution_count": 17,
   "metadata": {},
   "outputs": [],
   "source": [
    "x = 2"
   ]
  },
  {
   "cell_type": "code",
   "execution_count": 18,
   "metadata": {},
   "outputs": [],
   "source": [
    "x += 2"
   ]
  },
  {
   "cell_type": "code",
   "execution_count": 19,
   "metadata": {},
   "outputs": [
    {
     "data": {
      "text/plain": [
       "4"
      ]
     },
     "execution_count": 19,
     "metadata": {},
     "output_type": "execute_result"
    }
   ],
   "source": [
    "x"
   ]
  },
  {
   "cell_type": "code",
   "execution_count": 22,
   "metadata": {},
   "outputs": [
    {
     "name": "stdout",
     "output_type": "stream",
     "text": [
      "4\n",
      "2\n",
      "8\n",
      "2.6666666666666665\n",
      "7.111111111111111\n",
      "2.0\n"
     ]
    }
   ],
   "source": [
    "x = 2\n",
    "x += 2\n",
    "print(x)\n",
    "x -= 2\n",
    "print(x)\n",
    "x *= 4\n",
    "print(x)\n",
    "x /= 3\n",
    "print(x)\n",
    "x **=2\n",
    "print(x)\n",
    "x //= 3\n",
    "print(x)"
   ]
  },
  {
   "cell_type": "code",
   "execution_count": 32,
   "metadata": {},
   "outputs": [],
   "source": [
    "x = 4\n",
    "x <<= 2"
   ]
  },
  {
   "cell_type": "code",
   "execution_count": 33,
   "metadata": {},
   "outputs": [
    {
     "data": {
      "text/plain": [
       "16"
      ]
     },
     "execution_count": 33,
     "metadata": {},
     "output_type": "execute_result"
    }
   ],
   "source": [
    "x"
   ]
  },
  {
   "cell_type": "code",
   "execution_count": 41,
   "metadata": {},
   "outputs": [],
   "source": [
    "x = 16"
   ]
  },
  {
   "cell_type": "code",
   "execution_count": 42,
   "metadata": {},
   "outputs": [
    {
     "data": {
      "text/plain": [
       "16"
      ]
     },
     "execution_count": 42,
     "metadata": {},
     "output_type": "execute_result"
    }
   ],
   "source": [
    "x"
   ]
  },
  {
   "cell_type": "code",
   "execution_count": 43,
   "metadata": {},
   "outputs": [],
   "source": [
    "x >>= 2"
   ]
  },
  {
   "cell_type": "code",
   "execution_count": 44,
   "metadata": {},
   "outputs": [
    {
     "data": {
      "text/plain": [
       "4"
      ]
     },
     "execution_count": 44,
     "metadata": {},
     "output_type": "execute_result"
    }
   ],
   "source": [
    "x"
   ]
  },
  {
   "cell_type": "code",
   "execution_count": null,
   "metadata": {},
   "outputs": [],
   "source": []
  }
 ],
 "metadata": {
  "interpreter": {
   "hash": "cc5f16ed1e8213855e14cde998c704f4766ebded5720537ab94f972a6c458cc7"
  },
  "kernelspec": {
   "display_name": "Python 3.9.9 64-bit",
   "language": "python",
   "name": "python3"
  },
  "language_info": {
   "codemirror_mode": {
    "name": "ipython",
    "version": 3
   },
   "file_extension": ".py",
   "mimetype": "text/x-python",
   "name": "python",
   "nbconvert_exporter": "python",
   "pygments_lexer": "ipython3",
   "version": "3.9.9"
  },
  "orig_nbformat": 4
 },
 "nbformat": 4,
 "nbformat_minor": 2
}
