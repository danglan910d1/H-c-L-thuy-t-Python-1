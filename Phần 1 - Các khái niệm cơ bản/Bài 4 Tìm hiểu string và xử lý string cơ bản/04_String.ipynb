{
 "cells": [
  {
   "cell_type": "code",
   "execution_count": 1,
   "metadata": {},
   "outputs": [],
   "source": [
    "s = 'Python3'"
   ]
  },
  {
   "cell_type": "code",
   "execution_count": 2,
   "metadata": {},
   "outputs": [
    {
     "data": {
      "text/plain": [
       "'Python3'"
      ]
     },
     "execution_count": 2,
     "metadata": {},
     "output_type": "execute_result"
    }
   ],
   "source": [
    "s"
   ]
  },
  {
   "cell_type": "code",
   "execution_count": 3,
   "metadata": {},
   "outputs": [
    {
     "data": {
      "text/plain": [
       "str"
      ]
     },
     "execution_count": 3,
     "metadata": {},
     "output_type": "execute_result"
    }
   ],
   "source": [
    "type(s)"
   ]
  },
  {
   "cell_type": "code",
   "execution_count": 9,
   "metadata": {},
   "outputs": [
    {
     "name": "stdout",
     "output_type": "stream",
     "text": [
      "Python3\n"
     ]
    }
   ],
   "source": [
    "print(s)"
   ]
  },
  {
   "cell_type": "code",
   "execution_count": 6,
   "metadata": {},
   "outputs": [],
   "source": [
    "t = \"Love 'you'\""
   ]
  },
  {
   "cell_type": "code",
   "execution_count": 7,
   "metadata": {},
   "outputs": [
    {
     "data": {
      "text/plain": [
       "\"Love 'you'\""
      ]
     },
     "execution_count": 7,
     "metadata": {},
     "output_type": "execute_result"
    }
   ],
   "source": [
    "t"
   ]
  },
  {
   "cell_type": "code",
   "execution_count": 8,
   "metadata": {},
   "outputs": [
    {
     "name": "stdout",
     "output_type": "stream",
     "text": [
      "Love 'you'\n"
     ]
    }
   ],
   "source": [
    "print(t)"
   ]
  },
  {
   "cell_type": "code",
   "execution_count": 12,
   "metadata": {},
   "outputs": [
    {
     "ename": "SyntaxError",
     "evalue": "invalid syntax (3577468940.py, line 1)",
     "output_type": "error",
     "traceback": [
      "\u001b[1;36m  Input \u001b[1;32mIn [12]\u001b[1;36m\u001b[0m\n\u001b[1;33m    t = \"I love \"you\"\"\u001b[0m\n\u001b[1;37m                 ^\u001b[0m\n\u001b[1;31mSyntaxError\u001b[0m\u001b[1;31m:\u001b[0m invalid syntax\n"
     ]
    }
   ],
   "source": [
    "t = \"I love \"you\"\""
   ]
  },
  {
   "cell_type": "code",
   "execution_count": 16,
   "metadata": {},
   "outputs": [],
   "source": [
    "# \"a \\\"b\\\"\"\n",
    "t = \"I love \\\"you\\\"\""
   ]
  },
  {
   "cell_type": "code",
   "execution_count": 17,
   "metadata": {},
   "outputs": [
    {
     "name": "stdout",
     "output_type": "stream",
     "text": [
      "I love \"you\"\n"
     ]
    }
   ],
   "source": [
    "print(t)"
   ]
  },
  {
   "cell_type": "code",
   "execution_count": 18,
   "metadata": {},
   "outputs": [],
   "source": [
    "d = \"a \\\"b\\\"\""
   ]
  },
  {
   "cell_type": "code",
   "execution_count": 19,
   "metadata": {},
   "outputs": [
    {
     "name": "stdout",
     "output_type": "stream",
     "text": [
      "a \"b\"\n"
     ]
    }
   ],
   "source": [
    "print(d)"
   ]
  },
  {
   "cell_type": "code",
   "execution_count": 20,
   "metadata": {},
   "outputs": [],
   "source": [
    "c = \"My name \\\"is\\\" Lan and I \\\"love\\\" you very \\\"much\\\"\""
   ]
  },
  {
   "cell_type": "code",
   "execution_count": 21,
   "metadata": {},
   "outputs": [
    {
     "name": "stdout",
     "output_type": "stream",
     "text": [
      "My name \"is\" Lan and I \"love\" you very \"much\"\n"
     ]
    }
   ],
   "source": [
    "print(c)"
   ]
  },
  {
   "cell_type": "code",
   "execution_count": 22,
   "metadata": {},
   "outputs": [
    {
     "name": "stdout",
     "output_type": "stream",
     "text": [
      "c:\folder\n",
      "ame\n"
     ]
    }
   ],
   "source": [
    "print(\"c:\\folder\\name\")"
   ]
  },
  {
   "cell_type": "code",
   "execution_count": 23,
   "metadata": {},
   "outputs": [
    {
     "name": "stdout",
     "output_type": "stream",
     "text": [
      "c:\folder\\name\n"
     ]
    }
   ],
   "source": [
    "print(\"c:\\folder\\\\name\")"
   ]
  },
  {
   "cell_type": "code",
   "execution_count": 25,
   "metadata": {},
   "outputs": [
    {
     "name": "stdout",
     "output_type": "stream",
     "text": [
      "c:\\folder\\name\n"
     ]
    }
   ],
   "source": [
    "print(\"c:\\\\folder\\\\name\")"
   ]
  },
  {
   "cell_type": "code",
   "execution_count": 26,
   "metadata": {},
   "outputs": [
    {
     "name": "stdout",
     "output_type": "stream",
     "text": [
      "Welcome my house \n",
      "My name is Lan\n"
     ]
    }
   ],
   "source": [
    "print(\"Welcome my house \\nMy name is Lan\")"
   ]
  },
  {
   "cell_type": "code",
   "execution_count": 27,
   "metadata": {},
   "outputs": [
    {
     "name": "stdout",
     "output_type": "stream",
     "text": [
      "Welcome my house \fMy name is Lan\n"
     ]
    }
   ],
   "source": [
    "print(\"Welcome my house \\fMy name is Lan\")\n"
   ]
  },
  {
   "cell_type": "code",
   "execution_count": 28,
   "metadata": {},
   "outputs": [
    {
     "ename": "SyntaxError",
     "evalue": "EOL while scanning string literal (2973561347.py, line 1)",
     "output_type": "error",
     "traceback": [
      "\u001b[1;36m  Input \u001b[1;32mIn [28]\u001b[1;36m\u001b[0m\n\u001b[1;33m    print(\"Chào bạn đến với\u001b[0m\n\u001b[1;37m                           ^\u001b[0m\n\u001b[1;31mSyntaxError\u001b[0m\u001b[1;31m:\u001b[0m EOL while scanning string literal\n"
     ]
    }
   ],
   "source": [
    "print(\"Chào bạn đến với\n",
    "         ngôi nhà của tôi\n",
    "         \n",
    "         cùng với gia đình tôi\")"
   ]
  },
  {
   "cell_type": "code",
   "execution_count": 30,
   "metadata": {},
   "outputs": [
    {
     "name": "stdout",
     "output_type": "stream",
     "text": [
      "Chào bạn đến với\n",
      "         ngôi nhà của tôi\n",
      "         \n",
      "         cùng với gia đình tôi\n"
     ]
    }
   ],
   "source": [
    "# Muốn in đúng cấu trúc gõ thì sử dụng \"\"\"\n",
    "print(\"\"\"Chào bạn đến với\n",
    "         ngôi nhà của tôi\n",
    "         \n",
    "         cùng với gia đình tôi\"\"\")"
   ]
  },
  {
   "cell_type": "code",
   "execution_count": 31,
   "metadata": {},
   "outputs": [],
   "source": [
    "# Cộng hai chuỗi\n",
    "k1 = \"Minh\"\n",
    "k2 = \"Yến\""
   ]
  },
  {
   "cell_type": "code",
   "execution_count": 36,
   "metadata": {},
   "outputs": [],
   "source": [
    " k = k1 + k2"
   ]
  },
  {
   "cell_type": "code",
   "execution_count": 37,
   "metadata": {},
   "outputs": [
    {
     "data": {
      "text/plain": [
       "'MinhYến'"
      ]
     },
     "execution_count": 37,
     "metadata": {},
     "output_type": "execute_result"
    }
   ],
   "source": [
    "k"
   ]
  },
  {
   "cell_type": "code",
   "execution_count": 38,
   "metadata": {},
   "outputs": [
    {
     "name": "stdout",
     "output_type": "stream",
     "text": [
      "MinhYến\n"
     ]
    }
   ],
   "source": [
    "print(k)"
   ]
  },
  {
   "cell_type": "code",
   "execution_count": 39,
   "metadata": {},
   "outputs": [],
   "source": [
    "# Lặp lại chuỗi n lần\n",
    "h = \"My name is Lan\""
   ]
  },
  {
   "cell_type": "code",
   "execution_count": 40,
   "metadata": {},
   "outputs": [],
   "source": [
    "h = \"My name is Lan\" * 100"
   ]
  },
  {
   "cell_type": "code",
   "execution_count": 41,
   "metadata": {},
   "outputs": [
    {
     "data": {
      "text/plain": [
       "'My name is LanMy name is LanMy name is LanMy name is LanMy name is LanMy name is LanMy name is LanMy name is LanMy name is LanMy name is LanMy name is LanMy name is LanMy name is LanMy name is LanMy name is LanMy name is LanMy name is LanMy name is LanMy name is LanMy name is LanMy name is LanMy name is LanMy name is LanMy name is LanMy name is LanMy name is LanMy name is LanMy name is LanMy name is LanMy name is LanMy name is LanMy name is LanMy name is LanMy name is LanMy name is LanMy name is LanMy name is LanMy name is LanMy name is LanMy name is LanMy name is LanMy name is LanMy name is LanMy name is LanMy name is LanMy name is LanMy name is LanMy name is LanMy name is LanMy name is LanMy name is LanMy name is LanMy name is LanMy name is LanMy name is LanMy name is LanMy name is LanMy name is LanMy name is LanMy name is LanMy name is LanMy name is LanMy name is LanMy name is LanMy name is LanMy name is LanMy name is LanMy name is LanMy name is LanMy name is LanMy name is LanMy name is LanMy name is LanMy name is LanMy name is LanMy name is LanMy name is LanMy name is LanMy name is LanMy name is LanMy name is LanMy name is LanMy name is LanMy name is LanMy name is LanMy name is LanMy name is LanMy name is LanMy name is LanMy name is LanMy name is LanMy name is LanMy name is LanMy name is LanMy name is LanMy name is LanMy name is LanMy name is LanMy name is LanMy name is Lan'"
      ]
     },
     "execution_count": 41,
     "metadata": {},
     "output_type": "execute_result"
    }
   ],
   "source": [
    "h"
   ]
  },
  {
   "cell_type": "code",
   "execution_count": 42,
   "metadata": {},
   "outputs": [
    {
     "name": "stdout",
     "output_type": "stream",
     "text": [
      "My name is LanMy name is LanMy name is LanMy name is LanMy name is LanMy name is LanMy name is LanMy name is LanMy name is LanMy name is LanMy name is LanMy name is LanMy name is LanMy name is LanMy name is LanMy name is LanMy name is LanMy name is LanMy name is LanMy name is LanMy name is LanMy name is LanMy name is LanMy name is LanMy name is LanMy name is LanMy name is LanMy name is LanMy name is LanMy name is LanMy name is LanMy name is LanMy name is LanMy name is LanMy name is LanMy name is LanMy name is LanMy name is LanMy name is LanMy name is LanMy name is LanMy name is LanMy name is LanMy name is LanMy name is LanMy name is LanMy name is LanMy name is LanMy name is LanMy name is LanMy name is LanMy name is LanMy name is LanMy name is LanMy name is LanMy name is LanMy name is LanMy name is LanMy name is LanMy name is LanMy name is LanMy name is LanMy name is LanMy name is LanMy name is LanMy name is LanMy name is LanMy name is LanMy name is LanMy name is LanMy name is LanMy name is LanMy name is LanMy name is LanMy name is LanMy name is LanMy name is LanMy name is LanMy name is LanMy name is LanMy name is LanMy name is LanMy name is LanMy name is LanMy name is LanMy name is LanMy name is LanMy name is LanMy name is LanMy name is LanMy name is LanMy name is LanMy name is LanMy name is LanMy name is LanMy name is LanMy name is LanMy name is LanMy name is LanMy name is Lan\n"
     ]
    }
   ],
   "source": [
    "print(h)"
   ]
  },
  {
   "cell_type": "code",
   "execution_count": 43,
   "metadata": {},
   "outputs": [],
   "source": [
    "h = \"My name is Lan \" * 100\n"
   ]
  },
  {
   "cell_type": "code",
   "execution_count": 44,
   "metadata": {},
   "outputs": [
    {
     "data": {
      "text/plain": [
       "'My name is Lan My name is Lan My name is Lan My name is Lan My name is Lan My name is Lan My name is Lan My name is Lan My name is Lan My name is Lan My name is Lan My name is Lan My name is Lan My name is Lan My name is Lan My name is Lan My name is Lan My name is Lan My name is Lan My name is Lan My name is Lan My name is Lan My name is Lan My name is Lan My name is Lan My name is Lan My name is Lan My name is Lan My name is Lan My name is Lan My name is Lan My name is Lan My name is Lan My name is Lan My name is Lan My name is Lan My name is Lan My name is Lan My name is Lan My name is Lan My name is Lan My name is Lan My name is Lan My name is Lan My name is Lan My name is Lan My name is Lan My name is Lan My name is Lan My name is Lan My name is Lan My name is Lan My name is Lan My name is Lan My name is Lan My name is Lan My name is Lan My name is Lan My name is Lan My name is Lan My name is Lan My name is Lan My name is Lan My name is Lan My name is Lan My name is Lan My name is Lan My name is Lan My name is Lan My name is Lan My name is Lan My name is Lan My name is Lan My name is Lan My name is Lan My name is Lan My name is Lan My name is Lan My name is Lan My name is Lan My name is Lan My name is Lan My name is Lan My name is Lan My name is Lan My name is Lan My name is Lan My name is Lan My name is Lan My name is Lan My name is Lan My name is Lan My name is Lan My name is Lan My name is Lan My name is Lan My name is Lan My name is Lan My name is Lan My name is Lan '"
      ]
     },
     "execution_count": 44,
     "metadata": {},
     "output_type": "execute_result"
    }
   ],
   "source": [
    "h"
   ]
  },
  {
   "cell_type": "code",
   "execution_count": 45,
   "metadata": {},
   "outputs": [
    {
     "name": "stdout",
     "output_type": "stream",
     "text": [
      "My name is Lan My name is Lan My name is Lan My name is Lan My name is Lan My name is Lan My name is Lan My name is Lan My name is Lan My name is Lan My name is Lan My name is Lan My name is Lan My name is Lan My name is Lan My name is Lan My name is Lan My name is Lan My name is Lan My name is Lan My name is Lan My name is Lan My name is Lan My name is Lan My name is Lan My name is Lan My name is Lan My name is Lan My name is Lan My name is Lan My name is Lan My name is Lan My name is Lan My name is Lan My name is Lan My name is Lan My name is Lan My name is Lan My name is Lan My name is Lan My name is Lan My name is Lan My name is Lan My name is Lan My name is Lan My name is Lan My name is Lan My name is Lan My name is Lan My name is Lan My name is Lan My name is Lan My name is Lan My name is Lan My name is Lan My name is Lan My name is Lan My name is Lan My name is Lan My name is Lan My name is Lan My name is Lan My name is Lan My name is Lan My name is Lan My name is Lan My name is Lan My name is Lan My name is Lan My name is Lan My name is Lan My name is Lan My name is Lan My name is Lan My name is Lan My name is Lan My name is Lan My name is Lan My name is Lan My name is Lan My name is Lan My name is Lan My name is Lan My name is Lan My name is Lan My name is Lan My name is Lan My name is Lan My name is Lan My name is Lan My name is Lan My name is Lan My name is Lan My name is Lan My name is Lan My name is Lan My name is Lan My name is Lan My name is Lan My name is Lan \n"
     ]
    }
   ],
   "source": [
    "print(h)"
   ]
  },
  {
   "cell_type": "code",
   "execution_count": null,
   "metadata": {},
   "outputs": [],
   "source": []
  }
 ],
 "metadata": {
  "interpreter": {
   "hash": "cc5f16ed1e8213855e14cde998c704f4766ebded5720537ab94f972a6c458cc7"
  },
  "kernelspec": {
   "display_name": "Python 3.9.9 64-bit",
   "language": "python",
   "name": "python3"
  },
  "language_info": {
   "codemirror_mode": {
    "name": "ipython",
    "version": 3
   },
   "file_extension": ".py",
   "mimetype": "text/x-python",
   "name": "python",
   "nbconvert_exporter": "python",
   "pygments_lexer": "ipython3",
   "version": "3.9.9"
  },
  "orig_nbformat": 4
 },
 "nbformat": 4,
 "nbformat_minor": 2
}
