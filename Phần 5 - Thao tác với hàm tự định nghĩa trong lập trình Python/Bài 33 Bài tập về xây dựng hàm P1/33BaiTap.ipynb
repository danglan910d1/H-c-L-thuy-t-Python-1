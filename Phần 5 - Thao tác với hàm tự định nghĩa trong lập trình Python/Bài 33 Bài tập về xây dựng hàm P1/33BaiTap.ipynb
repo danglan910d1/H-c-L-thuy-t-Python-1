{
 "cells": [
  {
   "cell_type": "markdown",
   "metadata": {},
   "source": [
    "Bài tập 1: Cho hàm truyền vào n tham số (không giới hạn), ví dụ ham(\"Trần Thu Hà\", \"Trần\", \"Thu\", \"Hà\", \"Trần Thu Hà)\n",
    "- Tìm xem trong hàm có tổng cộng bao nhiêu kí tự giống nhau, ví dụ \"T\" có 6, \"r\" có 3, ... Tất cả lưu vào dic.\n"
   ]
  },
  {
   "cell_type": "code",
   "execution_count": 14,
   "metadata": {},
   "outputs": [
    {
     "data": {
      "text/plain": [
       "{'T': 6, 'R': 3, 'Ầ': 3, 'N': 3, ' ': 4, 'H': 6, 'U': 3, 'À': 3}"
      ]
     },
     "execution_count": 14,
     "metadata": {},
     "output_type": "execute_result"
    }
   ],
   "source": [
    "def ham(*data) :\n",
    "    dic = {}\n",
    "    for item in data :\n",
    "        for i in item :\n",
    "            i = i.upper()\n",
    "            if i in dic :\n",
    "                dic[i] = dic[i] + 1 \n",
    "            else :\n",
    "                dic[i] = 1\n",
    "    return dic\n",
    "ham(\"Trần Thu Hà\", \"Trần\", \"Thu\", \"Hà\", \"Trần Thu Hà\")\n",
    "\n"
   ]
  }
 ],
 "metadata": {
  "interpreter": {
   "hash": "c7bee57b26c58cc7fda6ebbba85bbc81dac28551bf90007b61a71bf47794e6d8"
  },
  "kernelspec": {
   "display_name": "Python 3.9.9 64-bit",
   "language": "python",
   "name": "python3"
  },
  "language_info": {
   "codemirror_mode": {
    "name": "ipython",
    "version": 3
   },
   "file_extension": ".py",
   "mimetype": "text/x-python",
   "name": "python",
   "nbconvert_exporter": "python",
   "pygments_lexer": "ipython3",
   "version": "3.9.9"
  },
  "orig_nbformat": 4
 },
 "nbformat": 4,
 "nbformat_minor": 2
}
