{
 "cells": [
  {
   "cell_type": "code",
   "execution_count": 5,
   "metadata": {},
   "outputs": [
    {
     "data": {
      "text/plain": [
       "9"
      ]
     },
     "execution_count": 5,
     "metadata": {},
     "output_type": "execute_result"
    }
   ],
   "source": [
    "# Truyền tham số cho hàm:\n",
    "# Chưa truyền tham số cho hàm thì chưa có chỗ để chứa giá trị n1, n2, n3\n",
    "def tong() :\n",
    "    t = n1 + n2 + n3   \n",
    "    return t\n",
    "# Truyền tham số cho hàm để cấp chỗ chứa giá trị cho n1, n2, n4\n",
    "def tong(n1, n2, n3) :\n",
    "    t = n1 + n2 + n3   \n",
    "    return t\n",
    "# Truyền giá trị n1, n2, n3 vào hàm\n",
    "tong(2, 3, 4)"
   ]
  },
  {
   "cell_type": "code",
   "execution_count": 8,
   "metadata": {},
   "outputs": [
    {
     "name": "stdout",
     "output_type": "stream",
     "text": [
      "Tong:  9\n"
     ]
    }
   ],
   "source": [
    "# Sử dụng return để lấy giá trị\n",
    "ketqua = tong(2, 3, 4)\n",
    "print(\"Tong: \", ketqua)"
   ]
  },
  {
   "cell_type": "code",
   "execution_count": 22,
   "metadata": {},
   "outputs": [
    {
     "name": "stdout",
     "output_type": "stream",
     "text": [
      "Hieu:  -14\n"
     ]
    }
   ],
   "source": [
    "# Chỉ điền vào một giá trị cho hàm thì phải thêm giá trị vào các biến còn lại trực tiếp trong hàm. \n",
    "def hieu(n1, n2 = 8, n3 = 8) :\n",
    "    t = n1 - n2 - n3   \n",
    "    return t\n",
    "hieu(2)\n",
    "ketqua = hieu(2)\n",
    "print(\"Hieu: \", hieu(2))"
   ]
  },
  {
   "cell_type": "code",
   "execution_count": 31,
   "metadata": {},
   "outputs": [
    {
     "ename": "SyntaxError",
     "evalue": "non-default argument follows default argument (2495482291.py, line 3)",
     "output_type": "error",
     "traceback": [
      "\u001b[1;36m  Input \u001b[1;32mIn [31]\u001b[1;36m\u001b[0m\n\u001b[1;33m    def hieu(n1 = 2, n2, n3 = 8) :\u001b[0m\n\u001b[1;37m                         ^\u001b[0m\n\u001b[1;31mSyntaxError\u001b[0m\u001b[1;31m:\u001b[0m non-default argument follows default argument\n"
     ]
    }
   ],
   "source": [
    "# Chỉ được gán giá trị từ phải sang trái\n",
    "# Lỗi1\n",
    "def hieu(n1 = 2, n2, n3 = 8) :\n",
    "    t = n1 - n2 - n3   \n",
    "    return t\n",
    "hieu(2)\n",
    "ketqua = hieu(2)\n",
    "print(\"Hieu: \", hieu(2))\n"
   ]
  },
  {
   "cell_type": "code",
   "execution_count": 32,
   "metadata": {},
   "outputs": [
    {
     "ename": "SyntaxError",
     "evalue": "non-default argument follows default argument (297267539.py, line 2)",
     "output_type": "error",
     "traceback": [
      "\u001b[1;36m  Input \u001b[1;32mIn [32]\u001b[1;36m\u001b[0m\n\u001b[1;33m    def hieu(n1 = 2, n2 = 7, n3) :\u001b[0m\n\u001b[1;37m                               ^\u001b[0m\n\u001b[1;31mSyntaxError\u001b[0m\u001b[1;31m:\u001b[0m non-default argument follows default argument\n"
     ]
    }
   ],
   "source": [
    "# Lỗi2\n",
    "def hieu(n1 = 2, n2 = 7, n3) :\n",
    "    t = n1 - n2 - n3   \n",
    "    return t\n",
    "hieu(2)\n",
    "ketqua = hieu(2)\n",
    "print(\"Hieu: \", hieu(2))"
   ]
  },
  {
   "cell_type": "code",
   "execution_count": 35,
   "metadata": {},
   "outputs": [
    {
     "ename": "SyntaxError",
     "evalue": "non-default argument follows default argument (2460092475.py, line 2)",
     "output_type": "error",
     "traceback": [
      "\u001b[1;36m  Input \u001b[1;32mIn [35]\u001b[1;36m\u001b[0m\n\u001b[1;33m    def hieu(n1 = 2, n2, n3 ) :\u001b[0m\n\u001b[1;37m                         ^\u001b[0m\n\u001b[1;31mSyntaxError\u001b[0m\u001b[1;31m:\u001b[0m non-default argument follows default argument\n"
     ]
    }
   ],
   "source": [
    "# Lỗi3\n",
    "def hieu(n1 = 2, n2, n3 ) :\n",
    "    t = n1 - n2 - n3   \n",
    "    return t\n",
    "hieu(2,3)\n",
    "ketqua = hieu(2,3)\n",
    "print(\"Hieu: \", hieu(2,3))"
   ]
  },
  {
   "cell_type": "code",
   "execution_count": 36,
   "metadata": {},
   "outputs": [
    {
     "name": "stdout",
     "output_type": "stream",
     "text": [
      "Hieu:  -1\n"
     ]
    }
   ],
   "source": [
    "# Đúng\n",
    "def hieu(n1, n2, n3 = 2 ) :\n",
    "    t = n1 - n2 - n3   \n",
    "    return t\n",
    "hieu(6,5)\n",
    "ketqua = hieu(6,5)\n",
    "print(\"Hieu: \", hieu(6,5))"
   ]
  },
  {
   "cell_type": "code",
   "execution_count": null,
   "metadata": {},
   "outputs": [],
   "source": []
  }
 ],
 "metadata": {
  "interpreter": {
   "hash": "c7bee57b26c58cc7fda6ebbba85bbc81dac28551bf90007b61a71bf47794e6d8"
  },
  "kernelspec": {
   "display_name": "Python 3.9.9 64-bit",
   "language": "python",
   "name": "python3"
  },
  "language_info": {
   "codemirror_mode": {
    "name": "ipython",
    "version": 3
   },
   "file_extension": ".py",
   "mimetype": "text/x-python",
   "name": "python",
   "nbconvert_exporter": "python",
   "pygments_lexer": "ipython3",
   "version": "3.9.9"
  },
  "orig_nbformat": 4
 },
 "nbformat": 4,
 "nbformat_minor": 2
}
