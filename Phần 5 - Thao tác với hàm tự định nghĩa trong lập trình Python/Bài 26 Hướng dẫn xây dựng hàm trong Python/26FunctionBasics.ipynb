{
 "cells": [
  {
   "cell_type": "code",
   "execution_count": 4,
   "metadata": {},
   "outputs": [],
   "source": [
    "# Xây dựng một hàm hello chứ \"Hello Word\"\n",
    "def hello () :\n",
    "    print(\"Hello word\")"
   ]
  },
  {
   "cell_type": "code",
   "execution_count": 3,
   "metadata": {},
   "outputs": [
    {
     "name": "stdout",
     "output_type": "stream",
     "text": [
      "Hello word\n"
     ]
    }
   ],
   "source": [
    "hello()"
   ]
  },
  {
   "cell_type": "code",
   "execution_count": 6,
   "metadata": {},
   "outputs": [
    {
     "name": "stdout",
     "output_type": "stream",
     "text": [
      "Hello word\n",
      "Hello word\n",
      "Hello word\n"
     ]
    }
   ],
   "source": [
    "hello()\n",
    "hello()\n",
    "hello()"
   ]
  },
  {
   "cell_type": "code",
   "execution_count": 20,
   "metadata": {},
   "outputs": [],
   "source": [
    "# Dung return khi muon lay gia tri return ra de xu ly tiep tuc\n",
    "def goodbye () :\n",
    "    print(\"Canh Quan Xuyen\")\n",
    "    return (\":V\")\n"
   ]
  },
  {
   "cell_type": "code",
   "execution_count": 21,
   "metadata": {},
   "outputs": [
    {
     "name": "stdout",
     "output_type": "stream",
     "text": [
      "Canh Quan Xuyen\n"
     ]
    },
    {
     "data": {
      "text/plain": [
       "':V'"
      ]
     },
     "execution_count": 21,
     "metadata": {},
     "output_type": "execute_result"
    }
   ],
   "source": [
    "goodbye()"
   ]
  },
  {
   "cell_type": "code",
   "execution_count": 22,
   "metadata": {},
   "outputs": [
    {
     "data": {
      "text/plain": [
       "'Tam biet!'"
      ]
     },
     "execution_count": 22,
     "metadata": {},
     "output_type": "execute_result"
    }
   ],
   "source": [
    "def goodbye() :\n",
    "    return(\"Tam biet!\")\n",
    "goodbye()"
   ]
  },
  {
   "cell_type": "code",
   "execution_count": 23,
   "metadata": {},
   "outputs": [
    {
     "name": "stdout",
     "output_type": "stream",
     "text": [
      "Tam biet!\n"
     ]
    }
   ],
   "source": [
    "bye = goodbye()\n",
    "print(bye)"
   ]
  },
  {
   "cell_type": "code",
   "execution_count": 45,
   "metadata": {},
   "outputs": [
    {
     "name": "stdout",
     "output_type": "stream",
     "text": [
      "See you again!\n"
     ]
    }
   ],
   "source": [
    "# Ví dụ cách dùng của return\n",
    "def saybye() :\n",
    "    print(\"See you again!\")\n",
    "so = saybye()\n"
   ]
  },
  {
   "cell_type": "code",
   "execution_count": 47,
   "metadata": {},
   "outputs": [],
   "source": [
    "# Hàm saybye không được lưu vào biến\n",
    "so"
   ]
  },
  {
   "cell_type": "code",
   "execution_count": 49,
   "metadata": {},
   "outputs": [],
   "source": [
    "# Sử dụng return\n",
    "def saybye() :\n",
    "    return(\"See you again!\")\n",
    "so = saybye()"
   ]
  },
  {
   "cell_type": "code",
   "execution_count": 52,
   "metadata": {},
   "outputs": [
    {
     "data": {
      "text/plain": [
       "'See you again!'"
      ]
     },
     "execution_count": 52,
     "metadata": {},
     "output_type": "execute_result"
    }
   ],
   "source": [
    "# Hàm saybye được lưu vào biến\n",
    "so"
   ]
  },
  {
   "cell_type": "code",
   "execution_count": 38,
   "metadata": {},
   "outputs": [
    {
     "name": "stdout",
     "output_type": "stream",
     "text": [
      "I love my life\n",
      "I love my life\n",
      "I love my life\n",
      "I love my life\n",
      "I love my life\n",
      "I love my life\n",
      "I love my life\n",
      "I love my life\n",
      "I love my life\n",
      "I love my life\n"
     ]
    }
   ],
   "source": [
    "# Xây dựng hàm có vòng lặp\n",
    "def love () :\n",
    "    i = 0\n",
    "    while (i < 10) :\n",
    "        print(\"I love my life\")\n",
    "        i = i + 1\n",
    "love()\n",
    "    "
   ]
  },
  {
   "cell_type": "code",
   "execution_count": 37,
   "metadata": {},
   "outputs": [
    {
     "name": "stdout",
     "output_type": "stream",
     "text": [
      "I love my life\n",
      "I love my life\n",
      "I love my life\n",
      "I love my life\n",
      "I love my life\n",
      "None\n",
      "I love my life\n",
      "I love my life\n",
      "I love my life\n",
      "I love my life\n",
      "I love my life\n",
      "I love my life\n",
      "I love my life\n",
      "I love my life\n",
      "I love my life\n",
      "I love my life\n"
     ]
    }
   ],
   "source": [
    "# Truyền tham số vào một hàm trong Python\n",
    "def love (n) :\n",
    "    i = 0\n",
    "    while (i < n) :\n",
    "        print(\"I love my life\")\n",
    "        i = i + 1\n",
    "print(love(5))\n",
    "love(10)"
   ]
  },
  {
   "cell_type": "code",
   "execution_count": null,
   "metadata": {},
   "outputs": [],
   "source": []
  }
 ],
 "metadata": {
  "interpreter": {
   "hash": "c7bee57b26c58cc7fda6ebbba85bbc81dac28551bf90007b61a71bf47794e6d8"
  },
  "kernelspec": {
   "display_name": "Python 3.9.9 64-bit",
   "language": "python",
   "name": "python3"
  },
  "language_info": {
   "codemirror_mode": {
    "name": "ipython",
    "version": 3
   },
   "file_extension": ".py",
   "mimetype": "text/x-python",
   "name": "python",
   "nbconvert_exporter": "python",
   "pygments_lexer": "ipython3",
   "version": "3.9.9"
  },
  "orig_nbformat": 4
 },
 "nbformat": 4,
 "nbformat_minor": 2
}
