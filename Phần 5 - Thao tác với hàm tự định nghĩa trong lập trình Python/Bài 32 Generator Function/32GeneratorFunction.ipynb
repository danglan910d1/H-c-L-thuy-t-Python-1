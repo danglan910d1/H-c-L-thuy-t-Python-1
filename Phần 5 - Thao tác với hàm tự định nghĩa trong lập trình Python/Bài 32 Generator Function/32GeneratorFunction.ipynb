{
 "cells": [
  {
   "cell_type": "markdown",
   "metadata": {},
   "source": [
    "- Generator Faction là phát sinh ra hàm, tự tạo ra hàm để xử lý"
   ]
  },
  {
   "cell_type": "code",
   "execution_count": 25,
   "metadata": {},
   "outputs": [
    {
     "data": {
      "text/plain": [
       "range(0, 5)"
      ]
     },
     "execution_count": 25,
     "metadata": {},
     "output_type": "execute_result"
    }
   ],
   "source": [
    "# Ôn tập:\n",
    "range(5)\n"
   ]
  },
  {
   "cell_type": "code",
   "execution_count": 26,
   "metadata": {},
   "outputs": [
    {
     "data": {
      "text/plain": [
       "range(0, 5)"
      ]
     },
     "execution_count": 26,
     "metadata": {},
     "output_type": "execute_result"
    }
   ],
   "source": [
    "#  Hàm range không có tự xử lý trả kết quả về mà phải tự hứng nó rồi lấy kết quả đó xử lý tiếp tục nữa\n",
    "x = range(5)\n",
    "x"
   ]
  },
  {
   "cell_type": "code",
   "execution_count": 27,
   "metadata": {},
   "outputs": [
    {
     "name": "stdout",
     "output_type": "stream",
     "text": [
      "0\n",
      "1\n",
      "2\n",
      "3\n",
      "4\n"
     ]
    }
   ],
   "source": [
    "for i in range(5) :\n",
    "    print(i)"
   ]
  },
  {
   "cell_type": "code",
   "execution_count": 28,
   "metadata": {},
   "outputs": [
    {
     "name": "stdout",
     "output_type": "stream",
     "text": [
      "0\n",
      "1\n",
      "2\n",
      "3\n",
      "4\n"
     ]
    }
   ],
   "source": [
    "# Ví dụ 2, cách 1\n",
    "x = range (0, 5, 1) # Tạo danh sách 5 phần tử, mỗi lần tăng lên 1 đơn vị\n",
    "for i in x :\n",
    "    print(i)"
   ]
  },
  {
   "cell_type": "code",
   "execution_count": 29,
   "metadata": {},
   "outputs": [
    {
     "name": "stdout",
     "output_type": "stream",
     "text": [
      "0\n",
      "1\n",
      "2\n",
      "3\n",
      "4\n"
     ]
    }
   ],
   "source": [
    "# Cách 2\n",
    "def myRange (start, length, step) :\n",
    "    i = start\n",
    "    while (i < length) :\n",
    "        print(i)\n",
    "        i = i + 1\n",
    "myRange(0, 5, 1)\n"
   ]
  },
  {
   "cell_type": "code",
   "execution_count": 30,
   "metadata": {},
   "outputs": [
    {
     "data": {
      "text/plain": [
       "<generator object myRange at 0x000001BF9C06A430>"
      ]
     },
     "execution_count": 30,
     "metadata": {},
     "output_type": "execute_result"
    }
   ],
   "source": [
    "# Hứng kết quả vào một giá trị nào đó dùng yield. Tạo ra hàm không được trực tiếp hiển thị ra ngoài mà phải chứa vào trong đó rồi mới hiển thị ra\n",
    "def myRange (start, length, step) :\n",
    "    i = start\n",
    "    while (i < length) :\n",
    "        yield i\n",
    "        i = i + 1\n",
    "myRange(0, 5, 1)"
   ]
  },
  {
   "cell_type": "code",
   "execution_count": 31,
   "metadata": {},
   "outputs": [
    {
     "data": {
      "text/plain": [
       "generator"
      ]
     },
     "execution_count": 31,
     "metadata": {},
     "output_type": "execute_result"
    }
   ],
   "source": [
    "t = myRange(0, 5, 1)\n",
    "type(t)"
   ]
  },
  {
   "cell_type": "code",
   "execution_count": 32,
   "metadata": {},
   "outputs": [
    {
     "name": "stdout",
     "output_type": "stream",
     "text": [
      "0\n",
      "1\n",
      "2\n",
      "3\n",
      "4\n"
     ]
    }
   ],
   "source": [
    "# Muốn chạy được phải dùng for như trên\n",
    "x = myRange(0, 5, 1)\n",
    "for i in x :\n",
    "    print(i)"
   ]
  },
  {
   "cell_type": "markdown",
   "metadata": {},
   "source": [
    "yield khác return ở điểm yield chạy xong rồi trả kết quả liên tục sau đó lưu vào hàm, không trả ra kết quả trực tiếp. Còn return chạy xong trả một kết quả rồi dừng hẳn\n",
    "* Giống: Đều phải lấy giá trị ra một biến mới sử dụng được\n",
    "* Khác: \n",
    "- yield\n",
    "+ Hàm sẽ trả ra giá trị giống return nhưng tiếp tục chạy\n",
    "- return: \n",
    "+ Hàm sẽ ngừng khi gặp return\n"
   ]
  },
  {
   "cell_type": "code",
   "execution_count": null,
   "metadata": {},
   "outputs": [],
   "source": []
  }
 ],
 "metadata": {
  "interpreter": {
   "hash": "c7bee57b26c58cc7fda6ebbba85bbc81dac28551bf90007b61a71bf47794e6d8"
  },
  "kernelspec": {
   "display_name": "Python 3.9.9 64-bit",
   "language": "python",
   "name": "python3"
  },
  "language_info": {
   "codemirror_mode": {
    "name": "ipython",
    "version": 3
   },
   "file_extension": ".py",
   "mimetype": "text/x-python",
   "name": "python",
   "nbconvert_exporter": "python",
   "pygments_lexer": "ipython3",
   "version": "3.9.9"
  },
  "orig_nbformat": 4
 },
 "nbformat": 4,
 "nbformat_minor": 2
}
