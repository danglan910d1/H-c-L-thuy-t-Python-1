{
 "cells": [
  {
   "cell_type": "markdown",
   "metadata": {},
   "source": [
    "Ví dụ: \n",
    "Cho tong(1, 2, 3, 4, 5, 6, 7, 8, 9, 10, m = 2, n = 3) theo dạng sum(n1, n2, n3, *data, **data) \n",
    "- t1 = n1 + n2 + n3 = 1 + 2 + 3\n",
    "- t2 = tong(*data)\n",
    "- t3 = tong(**data)\n"
   ]
  },
  {
   "cell_type": "code",
   "execution_count": 25,
   "metadata": {},
   "outputs": [
    {
     "data": {
      "text/plain": [
       "[6, 49, 5]"
      ]
     },
     "execution_count": 25,
     "metadata": {},
     "output_type": "execute_result"
    }
   ],
   "source": [
    "def tong (n1, n2, n3, *data, **list) :\n",
    "    t1 = t2 = t3 = 0\n",
    "    t1 = n1 + n2 + n3\n",
    "    for item in data :\n",
    "        t2 = t2 + item\n",
    "    for a,b in list.items() :\n",
    "        t3 = t3 + b\n",
    "    t = [t1, t2, t3]\n",
    "    return t\n",
    "tong(1, 2, 3, 4, 5, 6, 7, 8, 9, 10, m = 2, n = 3)\n",
    "\n"
   ]
  },
  {
   "cell_type": "code",
   "execution_count": null,
   "metadata": {},
   "outputs": [],
   "source": []
  }
 ],
 "metadata": {
  "interpreter": {
   "hash": "c7bee57b26c58cc7fda6ebbba85bbc81dac28551bf90007b61a71bf47794e6d8"
  },
  "kernelspec": {
   "display_name": "Python 3.9.9 64-bit",
   "language": "python",
   "name": "python3"
  },
  "language_info": {
   "codemirror_mode": {
    "name": "ipython",
    "version": 3
   },
   "file_extension": ".py",
   "mimetype": "text/x-python",
   "name": "python",
   "nbconvert_exporter": "python",
   "pygments_lexer": "ipython3",
   "version": "3.9.9"
  },
  "orig_nbformat": 4
 },
 "nbformat": 4,
 "nbformat_minor": 2
}
