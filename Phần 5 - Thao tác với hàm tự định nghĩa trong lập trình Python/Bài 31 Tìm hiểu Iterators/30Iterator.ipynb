{
 "cells": [
  {
   "cell_type": "markdown",
   "metadata": {},
   "source": [
    "Sử dụng iter truy xuất từng phần tử một"
   ]
  },
  {
   "cell_type": "code",
   "execution_count": 22,
   "metadata": {},
   "outputs": [
    {
     "name": "stdout",
     "output_type": "stream",
     "text": [
      "1\n",
      "2\n",
      "3\n",
      "4\n",
      "5\n",
      "6\n",
      "<class 'list_iterator'>\n",
      "1\n",
      "2\n",
      "3\n",
      "4\n",
      "5\n",
      "6\n"
     ]
    }
   ],
   "source": [
    "# Ví dụ 1\n",
    "li = [1, 2, 3, 4, 5, 6]\n",
    "# Lấy phần tử ra \n",
    "# Cachs 1: Dùng for\n",
    "for i in li :\n",
    "    print(i)\n",
    "# Cách 2: Dùng iter\n",
    "I = iter(li)\n",
    "print(type(I))\n",
    "print(I.__next__())\n",
    "print(I.__next__())\n",
    "print(I.__next__())\n",
    "print(I.__next__())\n",
    "print(I.__next__())\n",
    "print(I.__next__())\n",
    "\n",
    "\n"
   ]
  },
  {
   "cell_type": "code",
   "execution_count": null,
   "metadata": {},
   "outputs": [],
   "source": []
  },
  {
   "cell_type": "code",
   "execution_count": 21,
   "metadata": {},
   "outputs": [
    {
     "name": "stdout",
     "output_type": "stream",
     "text": [
      "T\n",
      "r\n",
      "ầ\n",
      "n\n",
      " \n",
      "T\n",
      "h\n",
      "u\n",
      " \n",
      "H\n",
      "à\n",
      "T\n",
      "r\n",
      "ầ\n",
      "n\n",
      " \n",
      "T\n",
      "h\n",
      "u\n",
      " \n",
      "H\n",
      "à\n",
      "<class 'str_iterator'>\n"
     ]
    }
   ],
   "source": [
    "# Ví dụ 2: \n",
    "l = \"Trần Thu Hà\"\n",
    "# Lấy phần tử ra cắt thành từng từ\n",
    "# Cách 1: Dùng for\n",
    "for i in l :\n",
    "    print(i)\n",
    "# Cách 2: \n",
    "K = iter(l)\n",
    "print(K.__next__())\n",
    "print(K.__next__())\n",
    "print(K.__next__())\n",
    "print(K.__next__())\n",
    "print(K.__next__())\n",
    "print(K.__next__())\n",
    "print(K.__next__())\n",
    "print(K.__next__())\n",
    "print(K.__next__())\n",
    "print(K.__next__())\n",
    "print(K.__next__())\n",
    "print(type(K))\n",
    "\n",
    "\n"
   ]
  },
  {
   "cell_type": "code",
   "execution_count": null,
   "metadata": {},
   "outputs": [],
   "source": []
  }
 ],
 "metadata": {
  "interpreter": {
   "hash": "c7bee57b26c58cc7fda6ebbba85bbc81dac28551bf90007b61a71bf47794e6d8"
  },
  "kernelspec": {
   "display_name": "Python 3.9.9 64-bit",
   "language": "python",
   "name": "python3"
  },
  "language_info": {
   "codemirror_mode": {
    "name": "ipython",
    "version": 3
   },
   "file_extension": ".py",
   "mimetype": "text/x-python",
   "name": "python",
   "nbconvert_exporter": "python",
   "pygments_lexer": "ipython3",
   "version": "3.9.9"
  },
  "orig_nbformat": 4
 },
 "nbformat": 4,
 "nbformat_minor": 2
}
