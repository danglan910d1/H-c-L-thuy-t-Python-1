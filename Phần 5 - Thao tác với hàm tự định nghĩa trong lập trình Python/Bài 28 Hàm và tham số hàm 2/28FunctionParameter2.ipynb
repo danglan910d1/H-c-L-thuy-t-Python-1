{
 "cells": [
  {
   "cell_type": "code",
   "execution_count": 49,
   "metadata": {},
   "outputs": [
    {
     "ename": "NameError",
     "evalue": "name 't1' is not defined",
     "output_type": "error",
     "traceback": [
      "\u001b[1;31m---------------------------------------------------------------------------\u001b[0m",
      "\u001b[1;31mNameError\u001b[0m                                 Traceback (most recent call last)",
      "\u001b[1;32mf:\\landang\\Lập trình Python từ hero-zero\\Phần 5 - Thao tác với hàm tự định nghĩa trong lập trình Python\\Bài 28 Hàm và tham số hàm 2\\28FunctionParameter2.ipynb Cell 1'\u001b[0m in \u001b[0;36m<module>\u001b[1;34m\u001b[0m\n\u001b[0;32m      <a href='vscode-notebook-cell:/f%3A/landang/L%E1%BA%ADp%20tr%C3%ACnh%20Python%20t%E1%BB%AB%20hero-zero/Ph%E1%BA%A7n%205%20-%20Thao%20t%C3%A1c%20v%E1%BB%9Bi%20h%C3%A0m%20t%E1%BB%B1%20%C4%91%E1%BB%8Bnh%20ngh%C4%A9a%20trong%20l%E1%BA%ADp%20tr%C3%ACnh%20Python/B%C3%A0i%2028%20H%C3%A0m%20v%C3%A0%20tham%20s%E1%BB%91%20h%C3%A0m%202/28FunctionParameter2.ipynb#ch0000000?line=3'>4</a>\u001b[0m         t \u001b[39m=\u001b[39m t1 \u001b[39m+\u001b[39m item\n\u001b[0;32m      <a href='vscode-notebook-cell:/f%3A/landang/L%E1%BA%ADp%20tr%C3%ACnh%20Python%20t%E1%BB%AB%20hero-zero/Ph%E1%BA%A7n%205%20-%20Thao%20t%C3%A1c%20v%E1%BB%9Bi%20h%C3%A0m%20t%E1%BB%B1%20%C4%91%E1%BB%8Bnh%20ngh%C4%A9a%20trong%20l%E1%BA%ADp%20tr%C3%ACnh%20Python/B%C3%A0i%2028%20H%C3%A0m%20v%C3%A0%20tham%20s%E1%BB%91%20h%C3%A0m%202/28FunctionParameter2.ipynb#ch0000000?line=4'>5</a>\u001b[0m     \u001b[39mreturn\u001b[39;00m t\n\u001b[1;32m----> <a href='vscode-notebook-cell:/f%3A/landang/L%E1%BA%ADp%20tr%C3%ACnh%20Python%20t%E1%BB%AB%20hero-zero/Ph%E1%BA%A7n%205%20-%20Thao%20t%C3%A1c%20v%E1%BB%9Bi%20h%C3%A0m%20t%E1%BB%B1%20%C4%91%E1%BB%8Bnh%20ngh%C4%A9a%20trong%20l%E1%BA%ADp%20tr%C3%ACnh%20Python/B%C3%A0i%2028%20H%C3%A0m%20v%C3%A0%20tham%20s%E1%BB%91%20h%C3%A0m%202/28FunctionParameter2.ipynb#ch0000000?line=5'>6</a>\u001b[0m tong(\u001b[39m10\u001b[39;49m)\n",
      "\u001b[1;32mf:\\landang\\Lập trình Python từ hero-zero\\Phần 5 - Thao tác với hàm tự định nghĩa trong lập trình Python\\Bài 28 Hàm và tham số hàm 2\\28FunctionParameter2.ipynb Cell 1'\u001b[0m in \u001b[0;36mtong\u001b[1;34m(*data)\u001b[0m\n\u001b[0;32m      <a href='vscode-notebook-cell:/f%3A/landang/L%E1%BA%ADp%20tr%C3%ACnh%20Python%20t%E1%BB%AB%20hero-zero/Ph%E1%BA%A7n%205%20-%20Thao%20t%C3%A1c%20v%E1%BB%9Bi%20h%C3%A0m%20t%E1%BB%B1%20%C4%91%E1%BB%8Bnh%20ngh%C4%A9a%20trong%20l%E1%BA%ADp%20tr%C3%ACnh%20Python/B%C3%A0i%2028%20H%C3%A0m%20v%C3%A0%20tham%20s%E1%BB%91%20h%C3%A0m%202/28FunctionParameter2.ipynb#ch0000000?line=1'>2</a>\u001b[0m \u001b[39mdef\u001b[39;00m \u001b[39mtong\u001b[39m(\u001b[39m*\u001b[39mdata) :\n\u001b[0;32m      <a href='vscode-notebook-cell:/f%3A/landang/L%E1%BA%ADp%20tr%C3%ACnh%20Python%20t%E1%BB%AB%20hero-zero/Ph%E1%BA%A7n%205%20-%20Thao%20t%C3%A1c%20v%E1%BB%9Bi%20h%C3%A0m%20t%E1%BB%B1%20%C4%91%E1%BB%8Bnh%20ngh%C4%A9a%20trong%20l%E1%BA%ADp%20tr%C3%ACnh%20Python/B%C3%A0i%2028%20H%C3%A0m%20v%C3%A0%20tham%20s%E1%BB%91%20h%C3%A0m%202/28FunctionParameter2.ipynb#ch0000000?line=2'>3</a>\u001b[0m     \u001b[39mfor\u001b[39;00m item \u001b[39min\u001b[39;00m data :\n\u001b[1;32m----> <a href='vscode-notebook-cell:/f%3A/landang/L%E1%BA%ADp%20tr%C3%ACnh%20Python%20t%E1%BB%AB%20hero-zero/Ph%E1%BA%A7n%205%20-%20Thao%20t%C3%A1c%20v%E1%BB%9Bi%20h%C3%A0m%20t%E1%BB%B1%20%C4%91%E1%BB%8Bnh%20ngh%C4%A9a%20trong%20l%E1%BA%ADp%20tr%C3%ACnh%20Python/B%C3%A0i%2028%20H%C3%A0m%20v%C3%A0%20tham%20s%E1%BB%91%20h%C3%A0m%202/28FunctionParameter2.ipynb#ch0000000?line=3'>4</a>\u001b[0m         t \u001b[39m=\u001b[39m t1 \u001b[39m+\u001b[39m item\n\u001b[0;32m      <a href='vscode-notebook-cell:/f%3A/landang/L%E1%BA%ADp%20tr%C3%ACnh%20Python%20t%E1%BB%AB%20hero-zero/Ph%E1%BA%A7n%205%20-%20Thao%20t%C3%A1c%20v%E1%BB%9Bi%20h%C3%A0m%20t%E1%BB%B1%20%C4%91%E1%BB%8Bnh%20ngh%C4%A9a%20trong%20l%E1%BA%ADp%20tr%C3%ACnh%20Python/B%C3%A0i%2028%20H%C3%A0m%20v%C3%A0%20tham%20s%E1%BB%91%20h%C3%A0m%202/28FunctionParameter2.ipynb#ch0000000?line=4'>5</a>\u001b[0m     \u001b[39mreturn\u001b[39;00m t\n",
      "\u001b[1;31mNameError\u001b[0m: name 't1' is not defined"
     ]
    }
   ],
   "source": [
    "# Ví dụ 1: Cho tong = (10, 20, 30, 40, 50), tìm giá trị của tổng các phần tử trong tong\n",
    "def tong(*data) :\n",
    "    for item in data :\n",
    "        t = t1 + item\n",
    "    return t\n",
    "tong(10) # Báo lỗi vì hàm trả về giá trị t nhưng t1 chưa có giá trị ban đầu\n"
   ]
  },
  {
   "cell_type": "code",
   "execution_count": 50,
   "metadata": {},
   "outputs": [
    {
     "name": "stdout",
     "output_type": "stream",
     "text": [
      "Ket qua la:  150\n"
     ]
    }
   ],
   "source": [
    "# # Đúng\n",
    "def tong(*data) :\n",
    "    t = 0\n",
    "    for item in data :\n",
    "        t = t + item\n",
    "    return t\n",
    "tong(10, 20, 30, 40, 50)\n",
    "ketqua = tong(10, 20, 30, 40, 50)\n",
    "print(\"Ket qua la: \", ketqua)"
   ]
  },
  {
   "cell_type": "code",
   "execution_count": 51,
   "metadata": {},
   "outputs": [
    {
     "data": {
      "text/plain": [
       "[60, 150]"
      ]
     },
     "execution_count": 51,
     "metadata": {},
     "output_type": "execute_result"
    }
   ],
   "source": [
    "# Ví dụ 2: Cho tong1 = ([10, 20, 30], [40, 50, 60]). Tìm giá trị tổng của từng phần tử trong tong1\n",
    "# Tổng có kiểu tuple, có hai thành phần là list, vậy kết quả trả về phải là tổng của từng thành phần kq = ([60], [130])\n",
    "def tong1(*data) : # 1, Tạo hàm\n",
    "    kq = [] # 2, Tạo một list rỗng để chứa khi có kết quả\n",
    "    for item in data : # 3, Truy xuất vào tong1 = ([10, 20, 30], [40, 50, 60]) để lấy giá trị\n",
    "        tong1 = 0\n",
    "        for n in item : \n",
    "            tong1 = tong1 + n\n",
    "        kq.append(tong1) # 5, Thêm kết quả của từng nhóm con vào\n",
    "    return kq\n",
    "tong1([10, 20, 30], [40, 50, 60])"
   ]
  },
  {
   "cell_type": "code",
   "execution_count": null,
   "metadata": {},
   "outputs": [],
   "source": []
  },
  {
   "cell_type": "code",
   "execution_count": 63,
   "metadata": {},
   "outputs": [
    {
     "data": {
      "text/plain": [
       "[50, 150, 5, 14]"
      ]
     },
     "execution_count": 63,
     "metadata": {},
     "output_type": "execute_result"
    }
   ],
   "source": [
    "# Ví dụ 2: Cho tong2 = ([10, 20, 20], [40, 50, 60], [1, 2, 2], [2, 4, 8]). Tìm giá trị tổng của từng phần tử trong tong2\n",
    "# Tổng có kiểu tuple, có hai thành phần là list, vậy kết quả trả về phải là tổng của từng thành phần kq = ([60], [120])\n",
    "def tong2(*data) : # 1, Tạo hàm\n",
    "    kq = [] # 2, Tạo một list rỗng để chứa khi có kết quả\n",
    "    for item in data : # 2, Truy xuất vào tong2 = ([10, 20, 20], [40, 50, 60], [1, 2, 2], [2, 4, 8]) để lấy giá trị\n",
    "        tong2 = 0\n",
    "        for n in item : \n",
    "            tong2 = tong2 + n\n",
    "        kq.append(tong2) # 5, Thêm kết quả của từng nhóm con vào\n",
    "    return kq\n",
    "tong2([10, 20, 20], [40, 50, 60], [1, 2, 2], [2, 4, 8])"
   ]
  },
  {
   "cell_type": "code",
   "execution_count": null,
   "metadata": {},
   "outputs": [],
   "source": []
  }
 ],
 "metadata": {
  "interpreter": {
   "hash": "c7bee57b26c58cc7fda6ebbba85bbc81dac28551bf90007b61a71bf47794e6d8"
  },
  "kernelspec": {
   "display_name": "Python 3.9.9 64-bit",
   "language": "python",
   "name": "python3"
  },
  "language_info": {
   "codemirror_mode": {
    "name": "ipython",
    "version": 3
   },
   "file_extension": ".py",
   "mimetype": "text/x-python",
   "name": "python",
   "nbconvert_exporter": "python",
   "pygments_lexer": "ipython3",
   "version": "3.9.9"
  },
  "orig_nbformat": 4
 },
 "nbformat": 4,
 "nbformat_minor": 2
}
