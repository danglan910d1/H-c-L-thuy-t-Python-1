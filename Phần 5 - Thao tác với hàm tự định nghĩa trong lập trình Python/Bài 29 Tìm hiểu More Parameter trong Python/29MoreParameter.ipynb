{
 "cells": [
  {
   "cell_type": "code",
   "execution_count": 17,
   "metadata": {},
   "outputs": [
    {
     "name": "stdout",
     "output_type": "stream",
     "text": [
      "Orange  2000\n"
     ]
    }
   ],
   "source": [
    "# Ôn lại\n",
    "# Ví dụ 1: \n",
    "chuoi = \"{:1} {:5}\". format(\"Orange\",2000) # {:1} là khoảng cách của \"Orange\" đối với 2000, {:5} là khoảng cách số 0 cuối cùng của 2000 (cuối phần tử) đối với \"Orange\"\n",
    "print(chuoi)"
   ]
  },
  {
   "cell_type": "code",
   "execution_count": 50,
   "metadata": {},
   "outputs": [
    {
     "name": "stdout",
     "output_type": "stream",
     "text": [
      "Lan              20\n",
      "Ha               23\n",
      "-------------------\n",
      "Tong             43\n"
     ]
    }
   ],
   "source": [
    "#  Ví dụ 2: \n",
    "# Cho tuoi (Lan = 20, Ha = 23), tính tổng của các phần tử\n",
    "# In ra Lan      20\n",
    "#       Ha       23\n",
    "#       ------------\n",
    "#       Tong     ....\n",
    "def tuoi (**data) : # số dấu * trước data thể hiện số lượng giá trị của phần tử, trường hợp này là 2. 1, Tạo hàm tuoi chứa dữ liệu\n",
    "    count = 0 # 4, gán giá trị price ban đầu là 0, gán trước khi duyệt\n",
    "    for name,price in data.items() : # 2, duyệt name, price của từng phần tử trong dữ liệu hàm\n",
    "        row = \"{:10} {:8}\".format(name,price) # 3, Thiết lập cách giá trị được in ra\n",
    "        print(row)\n",
    "        count = count + price # 5, Tính tổng các giá trị của các phần tử trong tuoi\n",
    "    return count # 6, return count để sử dụng giá trị count tiếp\n",
    "tong = tuoi(Lan = 20, Ha = 23) # 7, Lưu giá trị count vào tong\n",
    "print(\"-\" * 19) # 8, Tạo ra 19 dấu - để ngăn cách bên dưới theo đề\n",
    "print(\"{:10} {:8}\".format(\"Tong\", tong)) # 9, In ra Tổng và giá trị theo mẫu\n",
    "\n",
    "\n",
    "\n",
    "\n"
   ]
  },
  {
   "cell_type": "code",
   "execution_count": null,
   "metadata": {},
   "outputs": [],
   "source": []
  }
 ],
 "metadata": {
  "interpreter": {
   "hash": "c7bee57b26c58cc7fda6ebbba85bbc81dac28551bf90007b61a71bf47794e6d8"
  },
  "kernelspec": {
   "display_name": "Python 3.9.9 64-bit",
   "language": "python",
   "name": "python3"
  },
  "language_info": {
   "codemirror_mode": {
    "name": "ipython",
    "version": 3
   },
   "file_extension": ".py",
   "mimetype": "text/x-python",
   "name": "python",
   "nbconvert_exporter": "python",
   "pygments_lexer": "ipython3",
   "version": "3.9.9"
  },
  "orig_nbformat": 4
 },
 "nbformat": 4,
 "nbformat_minor": 2
}
