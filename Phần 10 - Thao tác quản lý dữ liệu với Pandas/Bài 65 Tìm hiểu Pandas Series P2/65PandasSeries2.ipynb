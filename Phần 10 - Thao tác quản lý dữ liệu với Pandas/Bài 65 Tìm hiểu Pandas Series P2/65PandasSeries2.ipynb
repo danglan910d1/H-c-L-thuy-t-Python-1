{
 "cells": [
  {
   "cell_type": "code",
   "execution_count": 3,
   "metadata": {},
   "outputs": [],
   "source": [
    "import numpy\n",
    "import pandas as pd\n",
    "from pandas import Series, DataFrame\n",
    "from numpy.random import randint"
   ]
  },
  {
   "cell_type": "code",
   "execution_count": 4,
   "metadata": {},
   "outputs": [
    {
     "data": {
      "text/plain": [
       "Xuân    10\n",
       "Hạ       9\n",
       "Thu     10\n",
       "Đông     7\n",
       "dtype: int64"
      ]
     },
     "execution_count": 4,
     "metadata": {},
     "output_type": "execute_result"
    }
   ],
   "source": [
    "diem = [10, 9, 10, 7]\n",
    "hocsinh= [\"Xuân\", \"Hạ\", \"Thu\", \"Đông\"]\n",
    "\n",
    "# Truyền dữ liệu thành pandas\n",
    "S3 = Series(diem, index = hocsinh)\n",
    "S3"
   ]
  },
  {
   "cell_type": "code",
   "execution_count": 6,
   "metadata": {},
   "outputs": [
    {
     "data": {
      "text/plain": [
       "{'Xuân': 10, 'Hạ': 9, 'Thu': 10, 'Đông': 7}"
      ]
     },
     "execution_count": 6,
     "metadata": {},
     "output_type": "execute_result"
    }
   ],
   "source": [
    "# Chuyển sang dict\n",
    "S3d = S3.to_dict()\n",
    "S3d"
   ]
  },
  {
   "cell_type": "code",
   "execution_count": 7,
   "metadata": {},
   "outputs": [
    {
     "data": {
      "text/plain": [
       "Xuân    10\n",
       "Hạ       9\n",
       "Thu     10\n",
       "Đông     7\n",
       "dtype: int64"
      ]
     },
     "execution_count": 7,
     "metadata": {},
     "output_type": "execute_result"
    }
   ],
   "source": [
    "# Chuyển lại Series\n",
    "S4 = Series(S3d)\n",
    "S4"
   ]
  },
  {
   "cell_type": "code",
   "execution_count": 8,
   "metadata": {},
   "outputs": [
    {
     "data": {
      "text/plain": [
       "Xuân    False\n",
       "Hạ      False\n",
       "Thu     False\n",
       "Đông    False\n",
       "dtype: bool"
      ]
     },
     "execution_count": 8,
     "metadata": {},
     "output_type": "execute_result"
    }
   ],
   "source": [
    "# Kiểm tra có giá trị nào trống không\n",
    "pd.isnull(S4)"
   ]
  },
  {
   "cell_type": "code",
   "execution_count": 10,
   "metadata": {},
   "outputs": [
    {
     "data": {
      "text/plain": [
       "Xuân    True\n",
       "Hạ      True\n",
       "Thu     True\n",
       "Đông    True\n",
       "dtype: bool"
      ]
     },
     "execution_count": 10,
     "metadata": {},
     "output_type": "execute_result"
    }
   ],
   "source": [
    "# Kiểm tra có giá trị không\n",
    "pd.notnull(S4)"
   ]
  },
  {
   "cell_type": "code",
   "execution_count": 11,
   "metadata": {},
   "outputs": [
    {
     "data": {
      "text/plain": [
       "Xuân    10\n",
       "Hạ       9\n",
       "Thu     10\n",
       "Đông     7\n",
       "dtype: int64"
      ]
     },
     "execution_count": 11,
     "metadata": {},
     "output_type": "execute_result"
    }
   ],
   "source": [
    "S3"
   ]
  },
  {
   "cell_type": "code",
   "execution_count": 14,
   "metadata": {},
   "outputs": [
    {
     "data": {
      "text/plain": [
       "Xuân    20\n",
       "Hạ      18\n",
       "Thu     20\n",
       "Đông    14\n",
       "dtype: int64"
      ]
     },
     "execution_count": 14,
     "metadata": {},
     "output_type": "execute_result"
    }
   ],
   "source": [
    "# Cộng hai Series thì sẽ cộng hàng giá trị với nhau\n",
    "S3 + S4"
   ]
  },
  {
   "cell_type": "code",
   "execution_count": 25,
   "metadata": {},
   "outputs": [
    {
     "data": {
      "text/plain": [
       "Xuân    10\n",
       "Hạ       9\n",
       "Thu     10\n",
       "Đông     7\n",
       "Name: Trần Thu Hà, dtype: int64"
      ]
     },
     "execution_count": 25,
     "metadata": {},
     "output_type": "execute_result"
    }
   ],
   "source": [
    "# Thêm thông tin của Series chứ không phải đối tượng thêm vào\n",
    "S4.name = \"Trần Thu Hà\"\n",
    "S4"
   ]
  },
  {
   "cell_type": "code",
   "execution_count": 26,
   "metadata": {},
   "outputs": [
    {
     "data": {
      "text/plain": [
       "Xuân    10\n",
       "Hạ       9\n",
       "Thu     10\n",
       "Đông     7\n",
       "Name: Trần Thu Hà, dtype: int64"
      ]
     },
     "execution_count": 26,
     "metadata": {},
     "output_type": "execute_result"
    }
   ],
   "source": [
    "# Name ở đây là tên gọi của cả bảng S4 ban đầu. Như bảng điểm môn Python\n",
    "S4.subject = \"Python\"\n",
    "S4"
   ]
  },
  {
   "cell_type": "code",
   "execution_count": 27,
   "metadata": {},
   "outputs": [
    {
     "data": {
      "text/plain": [
       "Xuân    10\n",
       "Hạ       9\n",
       "Thu     10\n",
       "Đông     7\n",
       "Name: Danh sách, dtype: int64"
      ]
     },
     "execution_count": 27,
     "metadata": {},
     "output_type": "execute_result"
    }
   ],
   "source": [
    "S4.name = \"Danh sách\"\n",
    "S4"
   ]
  },
  {
   "cell_type": "code",
   "execution_count": null,
   "metadata": {},
   "outputs": [],
   "source": []
  }
 ],
 "metadata": {
  "interpreter": {
   "hash": "bc0b6f3b0029d7a090d756cc63e60e5df88cf356e071dd8fd9c43da2a41c2a7a"
  },
  "kernelspec": {
   "display_name": "Python 3.10.2 64-bit (windows store)",
   "language": "python",
   "name": "python3"
  },
  "language_info": {
   "codemirror_mode": {
    "name": "ipython",
    "version": 3
   },
   "file_extension": ".py",
   "mimetype": "text/x-python",
   "name": "python",
   "nbconvert_exporter": "python",
   "pygments_lexer": "ipython3",
   "version": "3.10.2"
  },
  "orig_nbformat": 4
 },
 "nbformat": 4,
 "nbformat_minor": 2
}
