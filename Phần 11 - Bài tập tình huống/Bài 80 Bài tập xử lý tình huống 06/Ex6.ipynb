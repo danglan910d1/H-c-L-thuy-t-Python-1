{
 "cells": [
  {
   "cell_type": "markdown",
   "metadata": {},
   "source": [
    "# Bài 6: Xây dựng hàm chuyển từ 1 List km sang m\n",
    "vd: \n",
    "list = [10, 20, 30, 40, 50]\n",
    "- Chuyen 10 km sang m là 10000m\n",
    "- Chuyen 20 km sang m là 20000m\n",
    "- Chuyen 30 km sang m là 30000m\n",
    "- Chuyen 40 km sang m là 40000m\n",
    "- Chuyen 50 km sang m là 50000m\n",
    "\n"
   ]
  },
  {
   "cell_type": "code",
   "execution_count": 10,
   "metadata": {},
   "outputs": [
    {
     "name": "stdout",
     "output_type": "stream",
     "text": [
      "10 km thi bang 10000 m\n",
      "20 km thi bang 20000 m\n",
      "30 km thi bang 30000 m\n",
      "40 km thi bang 40000 m\n",
      "50 km thi bang 50000 m\n"
     ]
    }
   ],
   "source": [
    "km = [10, 20, 30, 40, 50]\n",
    "for k in km :\n",
    "    m = k * 1000\n",
    "    print(\"{} km thi bang {} m\".format(k, m))"
   ]
  }
 ],
 "metadata": {
  "interpreter": {
   "hash": "bc0b6f3b0029d7a090d756cc63e60e5df88cf356e071dd8fd9c43da2a41c2a7a"
  },
  "kernelspec": {
   "display_name": "Python 3.10.2 64-bit (windows store)",
   "language": "python",
   "name": "python3"
  },
  "language_info": {
   "codemirror_mode": {
    "name": "ipython",
    "version": 3
   },
   "file_extension": ".py",
   "mimetype": "text/x-python",
   "name": "python",
   "nbconvert_exporter": "python",
   "pygments_lexer": "ipython3",
   "version": "3.10.2"
  },
  "orig_nbformat": 4
 },
 "nbformat": 4,
 "nbformat_minor": 2
}
