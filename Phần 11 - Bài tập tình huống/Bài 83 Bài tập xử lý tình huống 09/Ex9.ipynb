{
 "cells": [
  {
   "cell_type": "markdown",
   "metadata": {},
   "source": [
    "Bài 10: Xây dựng 1 hàm myMap(Fn,C)\n",
    "- Trong đó: fn là 1 phép toán hoặc 1 hàm, C là 1 đối tương container(list)\n",
    "- Yêu cầu: Sau khi hàm chạy sẽ tạo ra 1 container mới với số lượng phần tử tương ứng trong container ban đầu "
   ]
  },
  {
   "cell_type": "code",
   "execution_count": 5,
   "metadata": {},
   "outputs": [
    {
     "data": {
      "text/plain": [
       "[3, 4, 5, 6, 7]"
      ]
     },
     "execution_count": 5,
     "metadata": {},
     "output_type": "execute_result"
    }
   ],
   "source": [
    "def myMap(fn, C) :\n",
    "    newC= []\n",
    "    for x in C :\n",
    "        newC.append(fn(x))\n",
    "    return newC\n",
    "A = [1, 2, 3, 4, 5]\n",
    "# Xây dựng một phép toán dùng lambda\n",
    "myMap(lambda y:y+2, A)"
   ]
  },
  {
   "cell_type": "code",
   "execution_count": 6,
   "metadata": {},
   "outputs": [
    {
     "data": {
      "text/plain": [
       "[1, 4, 9, 16, 25]"
      ]
     },
     "execution_count": 6,
     "metadata": {},
     "output_type": "execute_result"
    }
   ],
   "source": [
    "def myMap(fn, C) :\n",
    "    newC= []\n",
    "    for x in C :\n",
    "        newC.append(fn(x))\n",
    "    return newC\n",
    "A = [1, 2, 3, 4, 5]\n",
    "# Xây dựng một phép toán dùng lambda\n",
    "myMap(lambda y:y**2, A)"
   ]
  },
  {
   "cell_type": "code",
   "execution_count": null,
   "metadata": {},
   "outputs": [],
   "source": []
  }
 ],
 "metadata": {
  "interpreter": {
   "hash": "bc0b6f3b0029d7a090d756cc63e60e5df88cf356e071dd8fd9c43da2a41c2a7a"
  },
  "kernelspec": {
   "display_name": "Python 3.10.2 64-bit (windows store)",
   "language": "python",
   "name": "python3"
  },
  "language_info": {
   "codemirror_mode": {
    "name": "ipython",
    "version": 3
   },
   "file_extension": ".py",
   "mimetype": "text/x-python",
   "name": "python",
   "nbconvert_exporter": "python",
   "pygments_lexer": "ipython3",
   "version": "3.10.2"
  },
  "orig_nbformat": 4
 },
 "nbformat": 4,
 "nbformat_minor": 2
}
