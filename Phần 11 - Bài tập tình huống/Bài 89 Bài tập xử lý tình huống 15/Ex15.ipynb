{
 "cells": [
  {
   "cell_type": "markdown",
   "metadata": {},
   "source": [
    "Bài 16: Xây dựng hàm kiểm tra chuỗi có chứa phần tử số hay không alnum()"
   ]
  },
  {
   "cell_type": "markdown",
   "metadata": {},
   "source": [
    "Bài 17: Xây dựng hàm đếm ký tự số lần xuất hiện trong chuỗi"
   ]
  },
  {
   "cell_type": "code",
   "execution_count": 7,
   "metadata": {},
   "outputs": [
    {
     "name": "stdout",
     "output_type": "stream",
     "text": [
      "{'a': 6, 'b': 1, 'c': 1, 'd': 3, 'e': 1, 'f': 1, 'g': 1, 'h': 1, 'i': 5, 's': 3, 'r': 1, 'u': 2, 'w': 2, 'y': 1}\n"
     ]
    }
   ],
   "source": [
    "def CharCount (s) :\n",
    "    alpha = \"abcdefghijklmnopqstruvwxyz\"\n",
    "    alphaD = {c : 0 for c in alpha}\n",
    "\n",
    "    outD = {}\n",
    "\n",
    "    for c in s :\n",
    "        if (c == \" \") : continue\n",
    "        alphaD[c.lower()] += 1\n",
    "    for k, v in alphaD.items() :\n",
    "        if (v > 0) :\n",
    "            outD[k] = v\n",
    "    print(outD)\n",
    "\n",
    "CharCount(\"abcderahfasiuaiwuagywidsadiis\")"
   ]
  },
  {
   "cell_type": "code",
   "execution_count": null,
   "metadata": {},
   "outputs": [],
   "source": [
    "\n"
   ]
  }
 ],
 "metadata": {
  "interpreter": {
   "hash": "bc0b6f3b0029d7a090d756cc63e60e5df88cf356e071dd8fd9c43da2a41c2a7a"
  },
  "kernelspec": {
   "display_name": "Python 3.10.2 64-bit (windows store)",
   "language": "python",
   "name": "python3"
  },
  "language_info": {
   "codemirror_mode": {
    "name": "ipython",
    "version": 3
   },
   "file_extension": ".py",
   "mimetype": "text/x-python",
   "name": "python",
   "nbconvert_exporter": "python",
   "pygments_lexer": "ipython3",
   "version": "3.10.2"
  },
  "orig_nbformat": 4
 },
 "nbformat": 4,
 "nbformat_minor": 2
}
