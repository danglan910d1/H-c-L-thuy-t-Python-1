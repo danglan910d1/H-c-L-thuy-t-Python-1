{
 "cells": [
  {
   "cell_type": "code",
   "execution_count": 16,
   "metadata": {},
   "outputs": [
    {
     "name": "stdout",
     "output_type": "stream",
     "text": [
      "  2   4   6   8  10  12  14  16  18  20 20 \n",
      " 22  24  26  28  30  32  34  36  38  40 40 \n",
      " 42  44  46  48  50  52  54  56  58  60 60 \n",
      " 62  64  66  68  70  72  74  76  78  80 80 \n",
      " 82  84  86  88  90  92  94  96  98 100 100 \n",
      "102 104 106 108 110 112 114 116 118 120 120 \n",
      "122 124 126 128 130 132 134 136 138 140 140 \n",
      "142 144 146 148 150 152 154 156 158 160 160 \n",
      "162 164 166 168 170 172 174 176 178 180 180 \n",
      "182 184 186 188 190 192 194 196 198 200 200 \n"
     ]
    }
   ],
   "source": [
    "#  Viết 1 vòng lặp từ 0 đến 200 chỉ in ra số chẵn. Xây dựng thành 10 dòng và sắp xếp thành các cột thẳng hàng\n",
    "for i in range(1, 201) :\n",
    "    if i % 2 == 0 :\n",
    "        print(\"{:>3}\".format(str(i)), end = \" \")\n",
    "        if i % 20 == 0 :\n",
    "            print( i, \"\")"
   ]
  },
  {
   "cell_type": "code",
   "execution_count": null,
   "metadata": {},
   "outputs": [],
   "source": [
    "# Xây dựng hàm kiểm tra số nguyên tố, trả ra True nếu số đó là số nguyên tố, ngược lại trả ra False\n",
    "def songuyento(n) :\n",
    "    if n <= 1 :\n",
    "        return False\n",
    "    else :\n",
    "        for i in range(2, n) :\n",
    "            if n % i == 0 :\n",
    "                return False\n",
    "            return True"
   ]
  },
  {
   "cell_type": "code",
   "execution_count": null,
   "metadata": {},
   "outputs": [],
   "source": [
    "x = range(2,7)\n",
    "list(x)"
   ]
  },
  {
   "cell_type": "code",
   "execution_count": null,
   "metadata": {},
   "outputs": [],
   "source": []
  }
 ],
 "metadata": {
  "interpreter": {
   "hash": "bc0b6f3b0029d7a090d756cc63e60e5df88cf356e071dd8fd9c43da2a41c2a7a"
  },
  "kernelspec": {
   "display_name": "Python 3.10.2 64-bit (windows store)",
   "language": "python",
   "name": "python3"
  },
  "language_info": {
   "codemirror_mode": {
    "name": "ipython",
    "version": 3
   },
   "file_extension": ".py",
   "mimetype": "text/x-python",
   "name": "python",
   "nbconvert_exporter": "python",
   "pygments_lexer": "ipython3",
   "version": "3.10.2"
  },
  "orig_nbformat": 4
 },
 "nbformat": 4,
 "nbformat_minor": 2
}
