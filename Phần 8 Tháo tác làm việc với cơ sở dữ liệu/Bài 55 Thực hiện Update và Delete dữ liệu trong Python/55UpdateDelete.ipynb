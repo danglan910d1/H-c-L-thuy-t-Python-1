{
 "cells": [
  {
   "cell_type": "code",
   "execution_count": 19,
   "metadata": {},
   "outputs": [
    {
     "ename": "OperationalError",
     "evalue": "database is locked",
     "output_type": "error",
     "traceback": [
      "\u001b[1;31m---------------------------------------------------------------------------\u001b[0m",
      "\u001b[1;31mOperationalError\u001b[0m                          Traceback (most recent call last)",
      "\u001b[1;32mf:\\landang\\Lập trình Python từ hero-zero\\Phần 8 Tháo tác làm việc với cơ sở dữ liệu\\Bài 55 Thực hiện Update và Delete dữ liệu trong Python\\55UpdateDelete.ipynb Cell 1'\u001b[0m in \u001b[0;36m<module>\u001b[1;34m\u001b[0m\n\u001b[0;32m      <a href='vscode-notebook-cell:/f%3A/landang/L%E1%BA%ADp%20tr%C3%ACnh%20Python%20t%E1%BB%AB%20hero-zero/Ph%E1%BA%A7n%208%20Th%C3%A1o%20t%C3%A1c%20l%C3%A0m%20vi%E1%BB%87c%20v%E1%BB%9Bi%20c%C6%A1%20s%E1%BB%9F%20d%E1%BB%AF%20li%E1%BB%87u/B%C3%A0i%2055%20Th%E1%BB%B1c%20hi%E1%BB%87n%20Update%20v%C3%A0%20Delete%20d%E1%BB%AF%20li%E1%BB%87u%20trong%20Python/55UpdateDelete.ipynb#ch0000000?line=1'>2</a>\u001b[0m db \u001b[39m=\u001b[39m sqlite3\u001b[39m.\u001b[39mconnect(\u001b[39m\"\u001b[39m\u001b[39msholl.sql\u001b[39m\u001b[39m\"\u001b[39m) \u001b[39m# Tạo database\u001b[39;00m\n\u001b[0;32m      <a href='vscode-notebook-cell:/f%3A/landang/L%E1%BA%ADp%20tr%C3%ACnh%20Python%20t%E1%BB%AB%20hero-zero/Ph%E1%BA%A7n%208%20Th%C3%A1o%20t%C3%A1c%20l%C3%A0m%20vi%E1%BB%87c%20v%E1%BB%9Bi%20c%C6%A1%20s%E1%BB%9F%20d%E1%BB%AF%20li%E1%BB%87u/B%C3%A0i%2055%20Th%E1%BB%B1c%20hi%E1%BB%87n%20Update%20v%C3%A0%20Delete%20d%E1%BB%AF%20li%E1%BB%87u%20trong%20Python/55UpdateDelete.ipynb#ch0000000?line=2'>3</a>\u001b[0m \u001b[39m# Kiểm tra nếu mà bảng tồn tại rồi thì không tạo -> xóa tất cả các bảng giống tên\u001b[39;00m\n\u001b[1;32m----> <a href='vscode-notebook-cell:/f%3A/landang/L%E1%BA%ADp%20tr%C3%ACnh%20Python%20t%E1%BB%AB%20hero-zero/Ph%E1%BA%A7n%208%20Th%C3%A1o%20t%C3%A1c%20l%C3%A0m%20vi%E1%BB%87c%20v%E1%BB%9Bi%20c%C6%A1%20s%E1%BB%9F%20d%E1%BB%AF%20li%E1%BB%87u/B%C3%A0i%2055%20Th%E1%BB%B1c%20hi%E1%BB%87n%20Update%20v%C3%A0%20Delete%20d%E1%BB%AF%20li%E1%BB%87u%20trong%20Python/55UpdateDelete.ipynb#ch0000000?line=3'>4</a>\u001b[0m db\u001b[39m.\u001b[39;49mexecute(\u001b[39m\"\u001b[39;49m\u001b[39mDROP TABLE IF EXISTS student\u001b[39;49m\u001b[39m\"\u001b[39;49m)\n\u001b[0;32m      <a href='vscode-notebook-cell:/f%3A/landang/L%E1%BA%ADp%20tr%C3%ACnh%20Python%20t%E1%BB%AB%20hero-zero/Ph%E1%BA%A7n%208%20Th%C3%A1o%20t%C3%A1c%20l%C3%A0m%20vi%E1%BB%87c%20v%E1%BB%9Bi%20c%C6%A1%20s%E1%BB%9F%20d%E1%BB%AF%20li%E1%BB%87u/B%C3%A0i%2055%20Th%E1%BB%B1c%20hi%E1%BB%87n%20Update%20v%C3%A0%20Delete%20d%E1%BB%AF%20li%E1%BB%87u%20trong%20Python/55UpdateDelete.ipynb#ch0000000?line=4'>5</a>\u001b[0m \u001b[39m# Tạo\u001b[39;00m\n\u001b[0;32m      <a href='vscode-notebook-cell:/f%3A/landang/L%E1%BA%ADp%20tr%C3%ACnh%20Python%20t%E1%BB%AB%20hero-zero/Ph%E1%BA%A7n%208%20Th%C3%A1o%20t%C3%A1c%20l%C3%A0m%20vi%E1%BB%87c%20v%E1%BB%9Bi%20c%C6%A1%20s%E1%BB%9F%20d%E1%BB%AF%20li%E1%BB%87u/B%C3%A0i%2055%20Th%E1%BB%B1c%20hi%E1%BB%87n%20Update%20v%C3%A0%20Delete%20d%E1%BB%AF%20li%E1%BB%87u%20trong%20Python/55UpdateDelete.ipynb#ch0000000?line=5'>6</a>\u001b[0m db\u001b[39m.\u001b[39mexecute(\u001b[39m\"\u001b[39m\u001b[39mCREATE TABLE student (id INTEGER PRIMARY KEY AUTOINCREMENT NOT NULL,name VARCHAR NOT NULL)\u001b[39m\u001b[39m\"\u001b[39m)\n",
      "\u001b[1;31mOperationalError\u001b[0m: database is locked"
     ]
    }
   ],
   "source": [
    "import sqlite3 \n",
    "db = sqlite3.connect(\"sholl.sql\") # Tạo database\n",
    "# Kiểm tra nếu mà bảng tồn tại rồi thì không tạo -> xóa tất cả các bảng giống tên\n",
    "db.execute(\"DROP TABLE IF EXISTS student\")\n",
    "# Tạo\n",
    "db.execute(\"CREATE TABLE student (id INTEGER PRIMARY KEY AUTOINCREMENT NOT NULL,name VARCHAR NOT NULL)\")"
   ]
  },
  {
   "cell_type": "code",
   "execution_count": 17,
   "metadata": {},
   "outputs": [
    {
     "ename": "OperationalError",
     "evalue": "database is locked",
     "output_type": "error",
     "traceback": [
      "\u001b[1;31m---------------------------------------------------------------------------\u001b[0m",
      "\u001b[1;31mOperationalError\u001b[0m                          Traceback (most recent call last)",
      "\u001b[1;32mf:\\landang\\Lập trình Python từ hero-zero\\Phần 8 Tháo tác làm việc với cơ sở dữ liệu\\Bài 55 Thực hiện Update và Delete dữ liệu trong Python\\55UpdateDelete.ipynb Cell 2'\u001b[0m in \u001b[0;36m<module>\u001b[1;34m\u001b[0m\n\u001b[0;32m      <a href='vscode-notebook-cell:/f%3A/landang/L%E1%BA%ADp%20tr%C3%ACnh%20Python%20t%E1%BB%AB%20hero-zero/Ph%E1%BA%A7n%208%20Th%C3%A1o%20t%C3%A1c%20l%C3%A0m%20vi%E1%BB%87c%20v%E1%BB%9Bi%20c%C6%A1%20s%E1%BB%9F%20d%E1%BB%AF%20li%E1%BB%87u/B%C3%A0i%2055%20Th%E1%BB%B1c%20hi%E1%BB%87n%20Update%20v%C3%A0%20Delete%20d%E1%BB%AF%20li%E1%BB%87u%20trong%20Python/55UpdateDelete.ipynb#ch0000001?line=0'>1</a>\u001b[0m \u001b[39m# Thêm dữ liệu\u001b[39;00m\n\u001b[1;32m----> <a href='vscode-notebook-cell:/f%3A/landang/L%E1%BA%ADp%20tr%C3%ACnh%20Python%20t%E1%BB%AB%20hero-zero/Ph%E1%BA%A7n%208%20Th%C3%A1o%20t%C3%A1c%20l%C3%A0m%20vi%E1%BB%87c%20v%E1%BB%9Bi%20c%C6%A1%20s%E1%BB%9F%20d%E1%BB%AF%20li%E1%BB%87u/B%C3%A0i%2055%20Th%E1%BB%B1c%20hi%E1%BB%87n%20Update%20v%C3%A0%20Delete%20d%E1%BB%AF%20li%E1%BB%87u%20trong%20Python/55UpdateDelete.ipynb#ch0000001?line=1'>2</a>\u001b[0m db\u001b[39m.\u001b[39;49mexecute(\u001b[39m\"\u001b[39;49m\u001b[39mINSERT INTO student(name) VALUES (\u001b[39;49m\u001b[39m'\u001b[39;49m\u001b[39mĐặng Thị Ngọc Lan\u001b[39;49m\u001b[39m'\u001b[39;49m\u001b[39m)\u001b[39;49m\u001b[39m\"\u001b[39;49m)\n\u001b[0;32m      <a href='vscode-notebook-cell:/f%3A/landang/L%E1%BA%ADp%20tr%C3%ACnh%20Python%20t%E1%BB%AB%20hero-zero/Ph%E1%BA%A7n%208%20Th%C3%A1o%20t%C3%A1c%20l%C3%A0m%20vi%E1%BB%87c%20v%E1%BB%9Bi%20c%C6%A1%20s%E1%BB%9F%20d%E1%BB%AF%20li%E1%BB%87u/B%C3%A0i%2055%20Th%E1%BB%B1c%20hi%E1%BB%87n%20Update%20v%C3%A0%20Delete%20d%E1%BB%AF%20li%E1%BB%87u%20trong%20Python/55UpdateDelete.ipynb#ch0000001?line=2'>3</a>\u001b[0m db\u001b[39m.\u001b[39mexecute(\u001b[39m\"\u001b[39m\u001b[39mINSERT INTO student(name) VALUES (\u001b[39m\u001b[39m'\u001b[39m\u001b[39mCao Bá Quát\u001b[39m\u001b[39m'\u001b[39m\u001b[39m)\u001b[39m\u001b[39m\"\u001b[39m)\n\u001b[0;32m      <a href='vscode-notebook-cell:/f%3A/landang/L%E1%BA%ADp%20tr%C3%ACnh%20Python%20t%E1%BB%AB%20hero-zero/Ph%E1%BA%A7n%208%20Th%C3%A1o%20t%C3%A1c%20l%C3%A0m%20vi%E1%BB%87c%20v%E1%BB%9Bi%20c%C6%A1%20s%E1%BB%9F%20d%E1%BB%AF%20li%E1%BB%87u/B%C3%A0i%2055%20Th%E1%BB%B1c%20hi%E1%BB%87n%20Update%20v%C3%A0%20Delete%20d%E1%BB%AF%20li%E1%BB%87u%20trong%20Python/55UpdateDelete.ipynb#ch0000001?line=3'>4</a>\u001b[0m db\u001b[39m.\u001b[39mexecute(\u001b[39m\"\u001b[39m\u001b[39mINSERT INTO student(name) VALUES (\u001b[39m\u001b[39m'\u001b[39m\u001b[39mNguyễn Du\u001b[39m\u001b[39m'\u001b[39m\u001b[39m)\u001b[39m\u001b[39m\"\u001b[39m)\n",
      "\u001b[1;31mOperationalError\u001b[0m: database is locked"
     ]
    }
   ],
   "source": [
    "# Thêm dữ liệu\n",
    "db.execute(\"INSERT INTO student(name) VALUES ('Đặng Thị Ngọc Lan')\")\n",
    "db.execute(\"INSERT INTO student(name) VALUES ('Cao Bá Quát')\")\n",
    "db.execute(\"INSERT INTO student(name) VALUES ('Nguyễn Du')\")\n",
    "db.execute(\"INSERT INTO student(name) VALUES ('Lê Quý Đôn')\")\n",
    "db.execute(\"INSERT INTO student(name) VALUES ('Pleiku')\")\n",
    "db.commit()\n"
   ]
  },
  {
   "cell_type": "code",
   "execution_count": null,
   "metadata": {},
   "outputs": [
    {
     "data": {
      "text/plain": [
       "sqlite3.Cursor"
      ]
     },
     "execution_count": 3,
     "metadata": {},
     "output_type": "execute_result"
    }
   ],
   "source": [
    "results = db.execute(\"SELECT * FROM student\")\n",
    "type(results)\n",
    "# sqlite3.Cursor là một list"
   ]
  },
  {
   "cell_type": "code",
   "execution_count": null,
   "metadata": {},
   "outputs": [
    {
     "name": "stdout",
     "output_type": "stream",
     "text": [
      "(1, 'Đặng Thị Ngọc Lan')\n",
      "(2, 'Cao Bá Quát')\n",
      "(3, 'Nguyễn Du')\n",
      "(4, 'Lê Quý Đôn')\n",
      "(5, 'Pleiku')\n"
     ]
    }
   ],
   "source": [
    "for row in results :\n",
    "    print(row)"
   ]
  },
  {
   "cell_type": "code",
   "execution_count": null,
   "metadata": {},
   "outputs": [
    {
     "name": "stdout",
     "output_type": "stream",
     "text": [
      "--------------------\n"
     ]
    }
   ],
   "source": [
    "print(\"-\" * 20)"
   ]
  },
  {
   "cell_type": "code",
   "execution_count": null,
   "metadata": {},
   "outputs": [
    {
     "name": "stdout",
     "output_type": "stream",
     "text": [
      "<sqlite3.Cursor object at 0x0000028A359806C0>\n"
     ]
    }
   ],
   "source": [
    "# Gọi thẳng giá trị đối tượng\n",
    "results = db.execute(\"SELECT * FROM student WHERE name = 'Đặng Thị Ngọc Lan'\")\n",
    "print(results)"
   ]
  },
  {
   "cell_type": "code",
   "execution_count": null,
   "metadata": {},
   "outputs": [
    {
     "name": "stdout",
     "output_type": "stream",
     "text": [
      "(1, 'Đặng Thị Ngọc Lan')\n"
     ]
    }
   ],
   "source": [
    "for row in results :\n",
    "    print(row)"
   ]
  },
  {
   "cell_type": "code",
   "execution_count": null,
   "metadata": {},
   "outputs": [
    {
     "name": "stdout",
     "output_type": "stream",
     "text": [
      "<sqlite3.Cursor object at 0x0000028A35980730>\n",
      "(3, 'Nguyễn Du')\n"
     ]
    }
   ],
   "source": [
    "# Gọi đối tượng bằng id\n",
    "results = db.execute(\"SELECT * FROM student WHERE id = 3\")\n",
    "print(results)\n",
    "for row in results :\n",
    "    print(row)"
   ]
  },
  {
   "cell_type": "code",
   "execution_count": null,
   "metadata": {},
   "outputs": [
    {
     "name": "stdout",
     "output_type": "stream",
     "text": [
      "<sqlite3.Cursor object at 0x0000028A35980880>\n",
      "(5, 'Pleiku')\n",
      "(4, 'Lê Quý Đôn')\n",
      "(3, 'Nguyễn Du')\n",
      "(2, 'Cao Bá Quát')\n",
      "(1, 'Đặng Thị Ngọc Lan')\n",
      "<sqlite3.Cursor object at 0x0000028A35980B20>\n",
      "(1, 'Đặng Thị Ngọc Lan')\n",
      "(2, 'Cao Bá Quát')\n",
      "(3, 'Nguyễn Du')\n",
      "(4, 'Lê Quý Đôn')\n",
      "(5, 'Pleiku')\n"
     ]
    }
   ],
   "source": [
    "# Gọi đối tượng bằng lệnh ORDER BY id DESC / ASC (GIẢM DẦN / TĂNG DẦN )\n",
    "results = db.execute(\"SELECT * FROM student ORDER BY id DESC\")\n",
    "print(results)\n",
    "for row in results :\n",
    "    print(row)\n",
    "\n",
    "results = db.execute(\"SELECT * FROM student ORDER BY id ASC\")\n",
    "print(results)\n",
    "for row in results :\n",
    "    print(row)"
   ]
  },
  {
   "cell_type": "code",
   "execution_count": 18,
   "metadata": {},
   "outputs": [
    {
     "ename": "OperationalError",
     "evalue": "database is locked",
     "output_type": "error",
     "traceback": [
      "\u001b[1;31m---------------------------------------------------------------------------\u001b[0m",
      "\u001b[1;31mOperationalError\u001b[0m                          Traceback (most recent call last)",
      "\u001b[1;32mf:\\landang\\Lập trình Python từ hero-zero\\Phần 8 Tháo tác làm việc với cơ sở dữ liệu\\Bài 55 Thực hiện Update và Delete dữ liệu trong Python\\55UpdateDelete.ipynb Cell 10'\u001b[0m in \u001b[0;36m<module>\u001b[1;34m\u001b[0m\n\u001b[1;32m----> <a href='vscode-notebook-cell:/f%3A/landang/L%E1%BA%ADp%20tr%C3%ACnh%20Python%20t%E1%BB%AB%20hero-zero/Ph%E1%BA%A7n%208%20Th%C3%A1o%20t%C3%A1c%20l%C3%A0m%20vi%E1%BB%87c%20v%E1%BB%9Bi%20c%C6%A1%20s%E1%BB%9F%20d%E1%BB%AF%20li%E1%BB%87u/B%C3%A0i%2055%20Th%E1%BB%B1c%20hi%E1%BB%87n%20Update%20v%C3%A0%20Delete%20d%E1%BB%AF%20li%E1%BB%87u%20trong%20Python/55UpdateDelete.ipynb#ch0000009?line=0'>1</a>\u001b[0m db\u001b[39m.\u001b[39;49mexecute(\u001b[39m\"\u001b[39;49m\u001b[39mDELETE FROM student WHERE id = 4 \u001b[39;49m\u001b[39m\"\u001b[39;49m)\n\u001b[0;32m      <a href='vscode-notebook-cell:/f%3A/landang/L%E1%BA%ADp%20tr%C3%ACnh%20Python%20t%E1%BB%AB%20hero-zero/Ph%E1%BA%A7n%208%20Th%C3%A1o%20t%C3%A1c%20l%C3%A0m%20vi%E1%BB%87c%20v%E1%BB%9Bi%20c%C6%A1%20s%E1%BB%9F%20d%E1%BB%AF%20li%E1%BB%87u/B%C3%A0i%2055%20Th%E1%BB%B1c%20hi%E1%BB%87n%20Update%20v%C3%A0%20Delete%20d%E1%BB%AF%20li%E1%BB%87u%20trong%20Python/55UpdateDelete.ipynb#ch0000009?line=1'>2</a>\u001b[0m results \u001b[39m=\u001b[39m db\u001b[39m.\u001b[39mexecute(\u001b[39m\"\u001b[39m\u001b[39mSELECT * FROM student ORDER BY id ASC\u001b[39m\u001b[39m\"\u001b[39m)\n\u001b[0;32m      <a href='vscode-notebook-cell:/f%3A/landang/L%E1%BA%ADp%20tr%C3%ACnh%20Python%20t%E1%BB%AB%20hero-zero/Ph%E1%BA%A7n%208%20Th%C3%A1o%20t%C3%A1c%20l%C3%A0m%20vi%E1%BB%87c%20v%E1%BB%9Bi%20c%C6%A1%20s%E1%BB%9F%20d%E1%BB%AF%20li%E1%BB%87u/B%C3%A0i%2055%20Th%E1%BB%B1c%20hi%E1%BB%87n%20Update%20v%C3%A0%20Delete%20d%E1%BB%AF%20li%E1%BB%87u%20trong%20Python/55UpdateDelete.ipynb#ch0000009?line=2'>3</a>\u001b[0m \u001b[39mprint\u001b[39m(results)\n",
      "\u001b[1;31mOperationalError\u001b[0m: database is locked"
     ]
    }
   ],
   "source": [
    "db.execute(\"DELETE FROM student WHERE id = 4 \")\n",
    "results = db.execute(\"SELECT * FROM student ORDER BY id ASC\")\n",
    "print(results)\n",
    "for row in results :\n",
    "    print(row)"
   ]
  },
  {
   "cell_type": "code",
   "execution_count": null,
   "metadata": {},
   "outputs": [],
   "source": []
  }
 ],
 "metadata": {
  "interpreter": {
   "hash": "c7bee57b26c58cc7fda6ebbba85bbc81dac28551bf90007b61a71bf47794e6d8"
  },
  "kernelspec": {
   "display_name": "Python 3.9.9 64-bit",
   "language": "python",
   "name": "python3"
  },
  "language_info": {
   "codemirror_mode": {
    "name": "ipython",
    "version": 3
   },
   "file_extension": ".py",
   "mimetype": "text/x-python",
   "name": "python",
   "nbconvert_exporter": "python",
   "pygments_lexer": "ipython3",
   "version": "3.9.9"
  },
  "orig_nbformat": 4
 },
 "nbformat": 4,
 "nbformat_minor": 2
}
