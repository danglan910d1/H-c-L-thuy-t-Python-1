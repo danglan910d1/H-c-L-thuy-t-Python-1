{
 "cells": [
  {
   "cell_type": "markdown",
   "metadata": {},
   "source": [
    "Conditionals\n",
    "+ If Statement \n",
    "x = 10\n",
    "y = 5\n",
    "if x > y :\n",
    "    printf(\"x lớn hơn y\")\n",
    "\n",
    "+ If - else Statement\n",
    "x = 10\n",
    "y = 5\n",
    "if x > y :\n",
    "    print(\"x lớn hơn y\")\n",
    "else : \n",
    "     printf(\"x nhỏ hơn y\")\n",
    "\n",
    "+ If - elif - else Statement\n",
    "diem = 6\n",
    "if diem > 8 :\n",
    "    printf(\"Mẹ mua xe SH\")\n",
    "elif diem <= 8 and diem >= 6 :\n",
    "    print(\"Me mua xe Dream\")\n",
    "else :\n",
    "     print(\"Mẹ cho ăn đòn\")"
   ]
  },
  {
   "cell_type": "code",
   "execution_count": 1,
   "metadata": {},
   "outputs": [
    {
     "name": "stdout",
     "output_type": "stream",
     "text": [
      "x is better than y\n"
     ]
    }
   ],
   "source": [
    "x = 20 \n",
    "y = 10\n",
    "\n",
    "if x > y :\n",
    "    print(\"x is better than y\")"
   ]
  },
  {
   "cell_type": "code",
   "execution_count": 38,
   "metadata": {},
   "outputs": [
    {
     "name": "stdout",
     "output_type": "stream",
     "text": [
      "x is better than y\n",
      "That right! x > y\n"
     ]
    }
   ],
   "source": [
    "x = 20\n",
    "y = 10\n",
    "if x > y :\n",
    "    print(\"x is better than y\") # Nếu điều kiện đúng thì thực hiện vòng lệnh if xong rồi thực hiện dòng lệnh tiếp theo\n",
    "print(\"That right!\", \"x > y\")"
   ]
  },
  {
   "cell_type": "code",
   "execution_count": 37,
   "metadata": {},
   "outputs": [
    {
     "name": "stdout",
     "output_type": "stream",
     "text": [
      "x < y is False!\n"
     ]
    }
   ],
   "source": [
    "x = 20 \n",
    "y = 10\n",
    "if x < y :\n",
    "    print(\"x is smaller than y\") # Nếu điều kiện sai thì thoát khỏi vòng lệnh if thực hiện dòng lệnh tiếp theo\n",
    "print(\"x < y is False!\")"
   ]
  },
  {
   "cell_type": "code",
   "execution_count": 40,
   "metadata": {},
   "outputs": [
    {
     "name": "stdout",
     "output_type": "stream",
     "text": [
      "x : 20\n",
      "y : 10\n",
      "x is better than y\n",
      "That right!\n"
     ]
    }
   ],
   "source": [
    "x = 20\n",
    "y = 10\n",
    "if x > y :\n",
    "    print(\"x :\", x)\n",
    "    print(\"y :\", y)\n",
    "    print(\"x is better than y\")\n",
    "if x < y :\n",
    "    print(\"x :\", x)\n",
    "    print(\"y :\", y)\n",
    "    print(x, \"smaller than\", y)\n",
    "print(\"That right!\")"
   ]
  },
  {
   "cell_type": "code",
   "execution_count": 41,
   "metadata": {},
   "outputs": [
    {
     "name": "stdout",
     "output_type": "stream",
     "text": [
      "20 is better than 10\n"
     ]
    }
   ],
   "source": [
    "x = 20\n",
    "y = 10\n",
    "if x > y :\n",
    "    print(x, \"is better than\", y)\n",
    "else :\n",
    "     print(y, \"is better than\", x)"
   ]
  },
  {
   "cell_type": "code",
   "execution_count": 42,
   "metadata": {},
   "outputs": [
    {
     "name": "stdout",
     "output_type": "stream",
     "text": [
      "x is equal than y\n"
     ]
    }
   ],
   "source": [
    "x = 20\n",
    "y = 20\n",
    "if x > y :\n",
    "    print(\"x is better than y\")\n",
    "elif x == y :\n",
    "    print(\"x is equal than y\")\n",
    "else :\n",
    "    print(\"y better than x\")"
   ]
  },
  {
   "cell_type": "code",
   "execution_count": 44,
   "metadata": {},
   "outputs": [
    {
     "ename": "SyntaxError",
     "evalue": "invalid syntax (2864901316.py, line 8)",
     "output_type": "error",
     "traceback": [
      "\u001b[1;36m  Input \u001b[1;32mIn [44]\u001b[1;36m\u001b[0m\n\u001b[1;33m    elif x == y :\u001b[0m\n\u001b[1;37m    ^\u001b[0m\n\u001b[1;31mSyntaxError\u001b[0m\u001b[1;31m:\u001b[0m invalid syntax\n"
     ]
    }
   ],
   "source": [
    "# elif phải đứng giữa if và else\n",
    "x = 20\n",
    "y = 20\n",
    "if x > y :\n",
    "    print(\"x is better than y\")\n",
    "else :\n",
    "    print(\"y better than x\")\n",
    "elif x == y :\n",
    "    print(\"x is equal than y\")"
   ]
  },
  {
   "cell_type": "code",
   "execution_count": null,
   "metadata": {},
   "outputs": [],
   "source": []
  }
 ],
 "metadata": {
  "interpreter": {
   "hash": "cc5f16ed1e8213855e14cde998c704f4766ebded5720537ab94f972a6c458cc7"
  },
  "kernelspec": {
   "display_name": "Python 3.9.9 64-bit",
   "language": "python",
   "name": "python3"
  },
  "language_info": {
   "codemirror_mode": {
    "name": "ipython",
    "version": 3
   },
   "file_extension": ".py",
   "mimetype": "text/x-python",
   "name": "python",
   "nbconvert_exporter": "python",
   "pygments_lexer": "ipython3",
   "version": "3.9.9"
  },
  "orig_nbformat": 4
 },
 "nbformat": 4,
 "nbformat_minor": 2
}
