{
 "cells": [
  {
   "cell_type": "code",
   "execution_count": 2,
   "metadata": {},
   "outputs": [
    {
     "name": "stdout",
     "output_type": "stream",
     "text": [
      "<class 'tuple'>\n"
     ]
    }
   ],
   "source": [
    "t = (1, 2, 3, 4 ,5)\n",
    "print(type(t))"
   ]
  },
  {
   "cell_type": "code",
   "execution_count": 3,
   "metadata": {},
   "outputs": [
    {
     "name": "stdout",
     "output_type": "stream",
     "text": [
      "1 2 3 4 5 "
     ]
    }
   ],
   "source": [
    "for n in t :\n",
    "    print(n, end = ' ')"
   ]
  },
  {
   "cell_type": "code",
   "execution_count": 7,
   "metadata": {},
   "outputs": [
    {
     "name": "stdout",
     "output_type": "stream",
     "text": [
      "0 1 2 3 4 "
     ]
    }
   ],
   "source": [
    "# Duyệt phần tử\n",
    "t = (1, 3, 5, 7, 9)\n",
    "i = 0\n",
    "for n in t :\n",
    "    print (i, end= ' ')\n",
    "    i = i + 1"
   ]
  },
  {
   "cell_type": "code",
   "execution_count": 9,
   "metadata": {},
   "outputs": [
    {
     "name": "stdout",
     "output_type": "stream",
     "text": [
      "My name is Lan\n",
      "My name is Lan\n",
      "My name is Lan\n",
      "My name is Lan\n",
      "My name is Lan\n"
     ]
    }
   ],
   "source": [
    "# Duyệt phần tử\n",
    "t = (1, 3, 5, 7, 9)\n",
    "for n in t :\n",
    "    print(\"My name is Lan\")"
   ]
  },
  {
   "cell_type": "code",
   "execution_count": 10,
   "metadata": {},
   "outputs": [
    {
     "name": "stdout",
     "output_type": "stream",
     "text": [
      "<class 'list'>\n",
      "10 20 30 40 50 60 70 80 90 100 "
     ]
    }
   ],
   "source": [
    "l = [10, 20, 30, 40, 50, 60, 70, 80, 90, 100]\n",
    "print(type(l))\n",
    "for n in l :\n",
    "    print(n, end = \" \")"
   ]
  },
  {
   "cell_type": "code",
   "execution_count": 14,
   "metadata": {},
   "outputs": [
    {
     "name": "stdout",
     "output_type": "stream",
     "text": [
      "<class 'dict'>\n",
      "Mai\n",
      "Minh\n",
      "Toàn\n"
     ]
    }
   ],
   "source": [
    "# Lấy phần tử key trong dic\n",
    "d = {\"Mai\" : 10, \"Minh\" : 11, \"Toàn\" : 12} \n",
    "print(type(d))\n",
    "for key in d:\n",
    "    print(key)"
   ]
  },
  {
   "cell_type": "code",
   "execution_count": 15,
   "metadata": {},
   "outputs": [
    {
     "name": "stdout",
     "output_type": "stream",
     "text": [
      "<class 'dict'>\n",
      "10\n",
      "11\n",
      "12\n"
     ]
    }
   ],
   "source": [
    "# Lấy d (phần tử thứ key)\n",
    "d = {\"Mai\" : 10, \"Minh\" : 11, \"Toàn\" : 12} \n",
    "print(type(d))\n",
    "for key in d:\n",
    "    print(d[key])"
   ]
  },
  {
   "cell_type": "code",
   "execution_count": 16,
   "metadata": {},
   "outputs": [
    {
     "name": "stdout",
     "output_type": "stream",
     "text": [
      "ĐĐĐĐĐĐĐĐĐĐ\n",
      "ặặặặặặặặặặ\n",
      "nnnnnnnnnn\n",
      "gggggggggg\n",
      "TTTTTTTTTT\n",
      "hhhhhhhhhh\n",
      "ịịịịịịịịịị\n",
      "NNNNNNNNNN\n",
      "gggggggggg\n",
      "ọọọọọọọọọọ\n",
      "cccccccccc\n",
      "LLLLLLLLLL\n",
      "aaaaaaaaaa\n",
      "nnnnnnnnnn\n"
     ]
    }
   ],
   "source": [
    "str = \"Đặng Thị Ngọc Lan\"\n",
    "for ss in str :\n",
    "    if ss != ' ' : \n",
    "        print(ss * 10)"
   ]
  },
  {
   "cell_type": "code",
   "execution_count": null,
   "metadata": {},
   "outputs": [],
   "source": []
  }
 ],
 "metadata": {
  "interpreter": {
   "hash": "cc5f16ed1e8213855e14cde998c704f4766ebded5720537ab94f972a6c458cc7"
  },
  "kernelspec": {
   "display_name": "Python 3.9.9 64-bit",
   "language": "python",
   "name": "python3"
  },
  "language_info": {
   "codemirror_mode": {
    "name": "ipython",
    "version": 3
   },
   "file_extension": ".py",
   "mimetype": "text/x-python",
   "name": "python",
   "nbconvert_exporter": "python",
   "pygments_lexer": "ipython3",
   "version": "3.9.9"
  },
  "orig_nbformat": 4
 },
 "nbformat": 4,
 "nbformat_minor": 2
}
