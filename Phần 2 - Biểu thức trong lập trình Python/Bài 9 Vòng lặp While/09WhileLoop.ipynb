{
 "cells": [
  {
   "cell_type": "code",
   "execution_count": 2,
   "metadata": {},
   "outputs": [
    {
     "name": "stdout",
     "output_type": "stream",
     "text": [
      "10 student\n",
      "11 student\n",
      "12 student\n",
      "13 student\n",
      "14 student\n",
      "15 student\n",
      "16 student\n",
      "17 student\n",
      "18 student\n",
      "19 student\n",
      "20 student\n",
      "21 student\n",
      "22 student\n",
      "23 student\n",
      "24 student\n",
      "25 student\n",
      "26 student\n",
      "27 student\n",
      "28 student\n",
      "29 student\n",
      "30 student\n",
      "31 student\n",
      "32 student\n",
      "33 student\n",
      "34 student\n",
      "35 student\n",
      "36 student\n",
      "37 student\n",
      "38 student\n",
      "39 student\n",
      "40 student\n",
      "41 student\n",
      "42 student\n",
      "43 student\n",
      "44 student\n",
      "45 student\n",
      "46 student\n",
      "47 student\n",
      "48 student\n",
      "49 student\n",
      "50 student\n",
      "51 student\n",
      "52 student\n",
      "53 student\n",
      "54 student\n",
      "55 student\n",
      "56 student\n",
      "57 student\n",
      "58 student\n",
      "59 student\n",
      "60 student\n",
      "61 student\n",
      "62 student\n",
      "63 student\n",
      "64 student\n",
      "65 student\n",
      "66 student\n",
      "67 student\n",
      "68 student\n",
      "69 student\n",
      "70 student\n",
      "71 student\n",
      "72 student\n",
      "73 student\n",
      "74 student\n",
      "75 student\n",
      "76 student\n",
      "77 student\n",
      "78 student\n",
      "79 student\n",
      "80 student\n",
      "81 student\n",
      "82 student\n",
      "83 student\n",
      "84 student\n",
      "85 student\n",
      "86 student\n",
      "87 student\n",
      "88 student\n",
      "89 student\n",
      "90 student\n",
      "91 student\n",
      "92 student\n",
      "93 student\n",
      "94 student\n",
      "95 student\n",
      "96 student\n",
      "97 student\n",
      "98 student\n",
      "99 student\n",
      "100 student\n"
     ]
    }
   ],
   "source": [
    "# Vòng lặp while\n",
    "n = 10\n",
    "while (n <= 100) :\n",
    "    print(n, \"student\")\n",
    "    n = n + 1"
   ]
  },
  {
   "cell_type": "code",
   "execution_count": 7,
   "metadata": {},
   "outputs": [
    {
     "name": "stdout",
     "output_type": "stream",
     "text": [
      "10 student 11 student 12 student 13 student 14 student 15 student 16 student 17 student 18 student 19 student 20 student 21 student 22 student 23 student 24 student 25 student 26 student 27 student 28 student 29 student 30 student 31 student 32 student 33 student 34 student 35 student 36 student 37 student 38 student 39 student 40 student 41 student 42 student 43 student 44 student 45 student 46 student 47 student 48 student 49 student 50 student 51 student 52 student 53 student 54 student 55 student 56 student 57 student 58 student 59 student 60 student 61 student 62 student 63 student 64 student 65 student 66 student 67 student 68 student 69 student 70 student 71 student 72 student 73 student 74 student 75 student 76 student 77 student 78 student 79 student 80 student 81 student 82 student 83 student 84 student 85 student 86 student 87 student 88 student 89 student 90 student 91 student 92 student 93 student 94 student 95 student 96 student 97 student 98 student 99 student 100 student "
     ]
    }
   ],
   "source": [
    "n = 10\n",
    "while(n <=100) :\n",
    "    print(n, \"student\", end = ' ')\n",
    "    n = n + 1"
   ]
  },
  {
   "cell_type": "code",
   "execution_count": 8,
   "metadata": {},
   "outputs": [
    {
     "name": "stdout",
     "output_type": "stream",
     "text": [
      "0 1 2 3 4 5 6 7 8 9 10 11 12 13 14 15 16 17 18 19 20 21 22 23 24 25 26 27 28 29 30 31 32 33 34 35 36 37 38 39 40 41 42 43 44 45 46 47 48 49 50 51 52 53 54 55 56 57 58 59 60 61 62 63 64 65 66 67 68 69 70 71 72 73 74 75 76 77 78 79 80 81 82 83 84 85 86 87 88 89 90 91 92 93 94 95 96 97 98 99 100 "
     ]
    }
   ],
   "source": [
    "n = 0\n",
    "while (n <= 100) :\n",
    "    print(n, end = ' ')\n",
    "    n = n + 1"
   ]
  },
  {
   "cell_type": "code",
   "execution_count": 1,
   "metadata": {},
   "outputs": [
    {
     "name": "stdout",
     "output_type": "stream",
     "text": [
      "0 "
     ]
    }
   ],
   "source": [
    "#  Vòng lặp lấy ra các số chẵn\n",
    "n = 0\n",
    "while (n <= 100) :\n",
    "    if n % 2 == 0 :\n",
    "        print(n, end = ' ')\n",
    "        n = n + 1"
   ]
  },
  {
   "cell_type": "code",
   "execution_count": 6,
   "metadata": {},
   "outputs": [
    {
     "name": "stdout",
     "output_type": "stream",
     "text": [
      "<class 'list'>\n"
     ]
    }
   ],
   "source": [
    "n = 1\n",
    "A = [];\n",
    "print(type(A))"
   ]
  },
  {
   "cell_type": "code",
   "execution_count": 7,
   "metadata": {},
   "outputs": [
    {
     "name": "stdout",
     "output_type": "stream",
     "text": [
      "[10]\n"
     ]
    }
   ],
   "source": [
    "A.append(10)\n",
    "print(A)"
   ]
  },
  {
   "cell_type": "code",
   "execution_count": 9,
   "metadata": {},
   "outputs": [
    {
     "name": "stdout",
     "output_type": "stream",
     "text": [
      "[10, 20]\n"
     ]
    }
   ],
   "source": [
    "A.append(20)\n",
    "print(A)"
   ]
  },
  {
   "cell_type": "code",
   "execution_count": 13,
   "metadata": {},
   "outputs": [
    {
     "name": "stdout",
     "output_type": "stream",
     "text": [
      "[1, 2, 3, 4, 5, 6, 7, 8, 9, 10, 11, 12, 13, 14, 15, 16, 17, 18, 19, 20, 21, 22, 23, 24, 25, 26, 27, 28, 29, 30, 31, 32, 33, 34, 35, 36, 37, 38, 39, 40, 41, 42, 43, 44, 45, 46, 47, 48, 49, 50, 51, 52, 53, 54, 55, 56, 57, 58, 59, 60, 61, 62, 63, 64, 65, 66, 67, 68, 69, 70, 71, 72, 73, 74, 75, 76, 77, 78, 79, 80, 81, 82, 83, 84, 85, 86, 87, 88, 89, 90, 91, 92, 93, 94, 95, 96, 97, 98, 99, 100]\n"
     ]
    }
   ],
   "source": [
    "n = 1\n",
    "A = []\n",
    "while (n <= 100) :\n",
    "    if (n % 1 == 0):\n",
    "        A.append(n)\n",
    "    n = n + 1\n",
    "print(A)"
   ]
  },
  {
   "cell_type": "code",
   "execution_count": 14,
   "metadata": {},
   "outputs": [
    {
     "name": "stdout",
     "output_type": "stream",
     "text": [
      "[0, 10, 20, 30, 40, 50, 60, 70, 80, 90, 100]\n"
     ]
    }
   ],
   "source": [
    "n = 0\n",
    "A = []\n",
    "while (n <= 100) :\n",
    "    if n % 10 == 0 :\n",
    "        A.append(n)\n",
    "    n = n + 1\n",
    "print(A)"
   ]
  },
  {
   "cell_type": "code",
   "execution_count": 16,
   "metadata": {},
   "outputs": [
    {
     "name": "stdout",
     "output_type": "stream",
     "text": [
      "[10, 20, 30, 40, 50, 60, 70, 80, 90, 100, 110, 120, 130, 140, 150, 160, 170, 180, 190, 200, 210, 220, 230, 240, 250, 260, 270, 280, 290, 300, 310, 320, 330, 340, 350, 360, 370, 380, 390, 400, 410, 420, 430, 440, 450, 460, 470, 480, 490, 500, 510, 520, 530, 540, 550, 560, 570, 580, 590, 600, 610, 620, 630, 640, 650, 660, 670, 680, 690, 700, 710, 720, 730, 740, 750, 760, 770, 780, 790, 800, 810, 820, 830, 840, 850, 860, 870, 880, 890, 900, 910, 920, 930, 940, 950, 960, 970, 980, 990, 1000]\n"
     ]
    }
   ],
   "source": [
    "n = 1\n",
    "A = []\n",
    "while (n <= 1000): \n",
    "    if n % 10 == 0 :\n",
    "        A.append(n)\n",
    "    n = n + 1\n",
    "print(A)"
   ]
  },
  {
   "cell_type": "code",
   "execution_count": 19,
   "metadata": {},
   "outputs": [
    {
     "name": "stdout",
     "output_type": "stream",
     "text": [
      "[1]\n"
     ]
    }
   ],
   "source": [
    "A = []\n",
    "A.append(1)\n",
    "print(A)"
   ]
  },
  {
   "cell_type": "code",
   "execution_count": null,
   "metadata": {},
   "outputs": [],
   "source": []
  }
 ],
 "metadata": {
  "interpreter": {
   "hash": "cc5f16ed1e8213855e14cde998c704f4766ebded5720537ab94f972a6c458cc7"
  },
  "kernelspec": {
   "display_name": "Python 3.9.9 64-bit",
   "language": "python",
   "name": "python3"
  },
  "language_info": {
   "codemirror_mode": {
    "name": "ipython",
    "version": 3
   },
   "file_extension": ".py",
   "mimetype": "text/x-python",
   "name": "python",
   "nbconvert_exporter": "python",
   "pygments_lexer": "ipython3",
   "version": "3.9.9"
  },
  "orig_nbformat": 4
 },
 "nbformat": 4,
 "nbformat_minor": 2
}
