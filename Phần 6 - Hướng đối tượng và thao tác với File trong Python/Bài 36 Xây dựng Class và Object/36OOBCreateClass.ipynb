{
 "cells": [
  {
   "cell_type": "code",
   "execution_count": 6,
   "metadata": {},
   "outputs": [],
   "source": [
    "# Ví dụ về Attribute\n",
    "class Car :\n",
    "    fuel = \"Xăng\"\n",
    "    maxspeed = 150\n"
   ]
  },
  {
   "cell_type": "code",
   "execution_count": 7,
   "metadata": {},
   "outputs": [],
   "source": [
    "polo = Car()"
   ]
  },
  {
   "cell_type": "code",
   "execution_count": 8,
   "metadata": {},
   "outputs": [
    {
     "name": "stdout",
     "output_type": "stream",
     "text": [
      "Xăng\n"
     ]
    }
   ],
   "source": [
    "print(polo.fuel)"
   ]
  },
  {
   "cell_type": "code",
   "execution_count": 9,
   "metadata": {},
   "outputs": [
    {
     "name": "stdout",
     "output_type": "stream",
     "text": [
      "you\n",
      "you\n"
     ]
    }
   ],
   "source": [
    "class Love :\n",
    "    darling = \"you\"\n",
    "    wife = \"you\"\n",
    "life = Love()\n",
    "print(life.darling)\n",
    "print(life.wife)\n"
   ]
  },
  {
   "cell_type": "code",
   "execution_count": 10,
   "metadata": {},
   "outputs": [],
   "source": [
    "# Ví dụ Methods\n",
    "class Car :\n",
    "    fuel = \"Xăng\"\n",
    "    maxspeed = 150\n",
    "\n",
    "    def drive(self) :\n",
    "        print(\"Xe chạy với tốc độ: \", self.maxspeed)"
   ]
  },
  {
   "cell_type": "code",
   "execution_count": 11,
   "metadata": {},
   "outputs": [
    {
     "name": "stdout",
     "output_type": "stream",
     "text": [
      "Xe chạy với tốc độ:  150\n"
     ]
    }
   ],
   "source": [
    "mini = Car()\n",
    "mini.drive()"
   ]
  },
  {
   "cell_type": "code",
   "execution_count": 15,
   "metadata": {},
   "outputs": [
    {
     "name": "stdout",
     "output_type": "stream",
     "text": [
      "Xe chạy với tốc độ:  300\n"
     ]
    }
   ],
   "source": [
    "class Car :\n",
    "    fuel = \"Xăng\"\n",
    "    maxspeed = 150\n",
    "\n",
    "    def drive(self, maxspeed) :\n",
    "        print(\"Xe chạy với tốc độ: \", maxspeed)\n",
    "lan = Car()\n",
    "lan.drive(300)"
   ]
  },
  {
   "cell_type": "code",
   "execution_count": null,
   "metadata": {},
   "outputs": [],
   "source": []
  }
 ],
 "metadata": {
  "interpreter": {
   "hash": "c7bee57b26c58cc7fda6ebbba85bbc81dac28551bf90007b61a71bf47794e6d8"
  },
  "kernelspec": {
   "display_name": "Python 3.9.9 64-bit",
   "language": "python",
   "name": "python3"
  },
  "language_info": {
   "codemirror_mode": {
    "name": "ipython",
    "version": 3
   },
   "file_extension": ".py",
   "mimetype": "text/x-python",
   "name": "python",
   "nbconvert_exporter": "python",
   "pygments_lexer": "ipython3",
   "version": "3.9.9"
  },
  "orig_nbformat": 4
 },
 "nbformat": 4,
 "nbformat_minor": 2
}
