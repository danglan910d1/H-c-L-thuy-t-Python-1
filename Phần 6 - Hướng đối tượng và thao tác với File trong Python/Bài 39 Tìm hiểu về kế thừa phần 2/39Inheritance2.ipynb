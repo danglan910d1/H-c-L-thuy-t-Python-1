{
 "cells": [
  {
   "cell_type": "code",
   "execution_count": 9,
   "metadata": {},
   "outputs": [
    {
     "name": "stdout",
     "output_type": "stream",
     "text": [
      "Chào bạn tôi tên là:  Đặng Thị Ngọc Lan Tuổi của tôi là:  20\n"
     ]
    }
   ],
   "source": [
    "class Person :\n",
    "    def __init__(self, name, age) :\n",
    "        self.name = name # Tạo thuộc tính cho lớp Person bằng name, gắn giá trị của name cho person\n",
    "        self.age = age \n",
    "    def infor (self) :\n",
    "        print(\"Chào bạn tôi tên là: \", self.name, \"Tuổi của tôi là: \", self.age)\n",
    "asian = Person(\"Đặng Thị Ngọc Lan\", 20)\n",
    "asian.infor()"
   ]
  },
  {
   "cell_type": "code",
   "execution_count": 13,
   "metadata": {},
   "outputs": [
    {
     "name": "stdout",
     "output_type": "stream",
     "text": [
      "Lớp của bạn là:  9/5\n"
     ]
    }
   ],
   "source": [
    "class Student :\n",
    "    def __init__ (self,grade) :\n",
    "        self.grade = grade\n",
    "    def inforgrade (self) :\n",
    "        print(\"Lớp của bạn là: \", self.grade)\n",
    "hsa = Student(\"9/5\")\n",
    "hsa.inforgrade()"
   ]
  },
  {
   "cell_type": "code",
   "execution_count": 21,
   "metadata": {},
   "outputs": [
    {
     "name": "stdout",
     "output_type": "stream",
     "text": [
      "Lớp của bạn là:  12\n",
      "Chào bạn tôi tên là:  Trần Thị Thu Hà Tuổi của tôi là:  23\n"
     ]
    }
   ],
   "source": [
    "#  Kế thừa Person ở trên\n",
    "class Person :\n",
    "    def __init__(self, name, age) :\n",
    "        self.name = name # Tạo thuộc tính cho lớp Person bằng name, gắn giá trị của name cho person\n",
    "        self.age = age \n",
    "    def infor (self) :\n",
    "        print(\"Chào bạn tôi tên là: \", self.name, \"Tuổi của tôi là: \", self.age)\n",
    "\n",
    "class Student (Person):\n",
    "    def __init__ (self, name, age,grade) :\n",
    "        Person.__init__(self, name, age)\n",
    "        self.grade = grade\n",
    "    def inforgrade (self) :\n",
    "        print(\"Lớp của bạn là: \", self.grade)\n",
    "hsb = Student(\"Trần Thị Thu Hà\", \"23\", \"12\")\n",
    "hsb.inforgrade()\n",
    "hsb.infor()\n"
   ]
  },
  {
   "cell_type": "code",
   "execution_count": null,
   "metadata": {},
   "outputs": [],
   "source": []
  },
  {
   "cell_type": "code",
   "execution_count": null,
   "metadata": {},
   "outputs": [],
   "source": []
  }
 ],
 "metadata": {
  "interpreter": {
   "hash": "c7bee57b26c58cc7fda6ebbba85bbc81dac28551bf90007b61a71bf47794e6d8"
  },
  "kernelspec": {
   "display_name": "Python 3.9.9 64-bit",
   "language": "python",
   "name": "python3"
  },
  "language_info": {
   "codemirror_mode": {
    "name": "ipython",
    "version": 3
   },
   "file_extension": ".py",
   "mimetype": "text/x-python",
   "name": "python",
   "nbconvert_exporter": "python",
   "pygments_lexer": "ipython3",
   "version": "3.9.9"
  },
  "orig_nbformat": 4
 },
 "nbformat": 4,
 "nbformat_minor": 2
}
