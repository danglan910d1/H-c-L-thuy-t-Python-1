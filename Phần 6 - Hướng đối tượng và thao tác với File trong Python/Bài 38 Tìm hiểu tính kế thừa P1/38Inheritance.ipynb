{
 "cells": [
  {
   "cell_type": "code",
   "execution_count": 6,
   "metadata": {},
   "outputs": [],
   "source": [
    "class Person :\n",
    "    def name (self, ten) :\n",
    "        return(\"My darling is: \", ten)\n"
   ]
  },
  {
   "cell_type": "code",
   "execution_count": 7,
   "metadata": {},
   "outputs": [
    {
     "name": "stdout",
     "output_type": "stream",
     "text": [
      "('My darling is: ', 'Trần Thu Hà')\n"
     ]
    }
   ],
   "source": [
    "asian = Person()\n",
    "print(asian.name(\"Trần Thu Hà\"))"
   ]
  },
  {
   "cell_type": "code",
   "execution_count": 10,
   "metadata": {},
   "outputs": [
    {
     "data": {
      "text/plain": [
       "('Tuổi là :', 22)"
      ]
     },
     "execution_count": 10,
     "metadata": {},
     "output_type": "execute_result"
    }
   ],
   "source": [
    "class Student :\n",
    "    def age (self, tuoi) :\n",
    "        return(\"Tuổi là :\", tuoi)\n",
    "ha = Student()\n",
    "ha.age(22)\n"
   ]
  },
  {
   "cell_type": "code",
   "execution_count": 13,
   "metadata": {},
   "outputs": [
    {
     "name": "stdout",
     "output_type": "stream",
     "text": [
      "('My darling is: ', 'Trần Thu Hà')\n"
     ]
    },
    {
     "data": {
      "text/plain": [
       "('Tuổi là :', 22)"
      ]
     },
     "execution_count": 13,
     "metadata": {},
     "output_type": "execute_result"
    }
   ],
   "source": [
    "# Kế thừa lớp thứ nhất thì lớp 2(lớp 1)\n",
    "class Student (Person) :\n",
    "    def age (self, tuoi) :\n",
    "        return(\"Tuổi là :\", tuoi)\n",
    "ha = Student()\n",
    "print(ha.name(\"Trần Thu Hà\"))\n",
    "ha.age(22)\n",
    "\n"
   ]
  },
  {
   "cell_type": "code",
   "execution_count": null,
   "metadata": {},
   "outputs": [],
   "source": []
  }
 ],
 "metadata": {
  "interpreter": {
   "hash": "c7bee57b26c58cc7fda6ebbba85bbc81dac28551bf90007b61a71bf47794e6d8"
  },
  "kernelspec": {
   "display_name": "Python 3.9.9 64-bit",
   "language": "python",
   "name": "python3"
  },
  "language_info": {
   "codemirror_mode": {
    "name": "ipython",
    "version": 3
   },
   "file_extension": ".py",
   "mimetype": "text/x-python",
   "name": "python",
   "nbconvert_exporter": "python",
   "pygments_lexer": "ipython3",
   "version": "3.9.9"
  },
  "orig_nbformat": 4
 },
 "nbformat": 4,
 "nbformat_minor": 2
}
