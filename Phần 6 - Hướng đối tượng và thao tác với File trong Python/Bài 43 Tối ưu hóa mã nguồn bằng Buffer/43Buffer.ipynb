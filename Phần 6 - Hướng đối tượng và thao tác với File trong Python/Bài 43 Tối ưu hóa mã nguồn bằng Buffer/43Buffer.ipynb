{
 "cells": [
  {
   "cell_type": "code",
   "execution_count": 11,
   "metadata": {},
   "outputs": [
    {
     "name": "stdout",
     "output_type": "stream",
     "text": [
      "1 250 bye\n",
      "2 250 bye\n",
      "3 250 bye\n",
      "4 250 bye\n",
      "5 143 bye\n",
      "done\n"
     ]
    }
   ],
   "source": [
    "BUFFERSIZE = 250\n",
    "rFile = open(\"data/text.txt\", \"r\")\n",
    "wFile = open(\"data/Write.txt\", \"w\")\n",
    "buffer = rFile.read(BUFFERSIZE)\n",
    "\n",
    "i = 0\n",
    "while (len(buffer)) :\n",
    "    i = i + 1\n",
    "    wFile.write(buffer)\n",
    "    print(i, \"{} bye\".format(len(buffer)))\n",
    "    buffer = rFile.read(BUFFERSIZE)\n",
    "print(\"done\")\n",
    "\n",
    "\n"
   ]
  },
  {
   "cell_type": "code",
   "execution_count": null,
   "metadata": {},
   "outputs": [],
   "source": []
  }
 ],
 "metadata": {
  "interpreter": {
   "hash": "c7bee57b26c58cc7fda6ebbba85bbc81dac28551bf90007b61a71bf47794e6d8"
  },
  "kernelspec": {
   "display_name": "Python 3.9.9 64-bit",
   "language": "python",
   "name": "python3"
  },
  "language_info": {
   "codemirror_mode": {
    "name": "ipython",
    "version": 3
   },
   "file_extension": ".py",
   "mimetype": "text/x-python",
   "name": "python",
   "nbconvert_exporter": "python",
   "pygments_lexer": "ipython3",
   "version": "3.9.9"
  },
  "orig_nbformat": 4
 },
 "nbformat": 4,
 "nbformat_minor": 2
}
