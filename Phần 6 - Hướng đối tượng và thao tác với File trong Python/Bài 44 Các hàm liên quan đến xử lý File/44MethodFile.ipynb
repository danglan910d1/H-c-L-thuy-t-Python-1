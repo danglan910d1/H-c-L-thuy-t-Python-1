{
 "cells": [
  {
   "cell_type": "code",
   "execution_count": 3,
   "metadata": {},
   "outputs": [
    {
     "name": "stdout",
     "output_type": "stream",
     "text": [
      "Đọc tới vị trí 0\n",
      "cmdcmdmcmdawquqywgdhxisytauqwQQEWQEJQHDGSVSACuhssjshjswyyywyadbakdhJKDSJDJSJFDSLFJKSUIcmdcmdmcmdawquqywgdhxisytauqwQQEWQEJQHDGSVSACuhssjshjswyyywyadbakdhJKDSJDJSJFDSLFJKSUIV\n",
      "Đọc tới vị trí 175\n",
      "cmdcmdmcmdawquqywgdhxisytauqwQQEWQEJQHDGSVSACuhssjshjswyyywyadbakdhJKDSJDJSJFDSLFJKSUI\n",
      "Đọc tới vị trí 263\n",
      "cmdcmdmcmdawquqywgdhxisytauqwQQEWQEJQHDGSVSACuhssjshjswyyywyadbakdhJKDSJDJSJFDSLFJKSUI\n",
      "Đọc tới vị trí 351\n",
      "cmdcmdmcmdawquqywgdhxisytauqwQQEWQEJQHDGSVSACuhssjshjswyyywyadbakdhJKDSJDJSJFDSLFJKSUI\n",
      "Đọc tới vị trí 439\n"
     ]
    }
   ],
   "source": [
    "f = open(\"data/text.txt\", \"r\")\n",
    "# Tiến trình đọc được bao nhiêu phần trăm\n",
    "fpos = f.tell()\n",
    "print(\"Đọc tới vị trí\", fpos)\n",
    "\n",
    "line = f.readline()\n",
    "print(line, end=\"\")\n",
    "fpos = f.tell()\n",
    "print(\"Đọc tới vị trí\", fpos)\n",
    "\n",
    "line = f.readline()\n",
    "print(line, end=\"\")\n",
    "fpos = f.tell()\n",
    "print(\"Đọc tới vị trí\", fpos)\n",
    "\n",
    "line = f.readline()\n",
    "print(line, end=\"\")\n",
    "fpos = f.tell()\n",
    "print(\"Đọc tới vị trí\", fpos)\n",
    "\n",
    "line = f.readline()\n",
    "print(line, end=\"\")\n",
    "fpos = f.tell()\n",
    "print(\"Đọc tới vị trí\", fpos)\n",
    "\n"
   ]
  },
  {
   "cell_type": "code",
   "execution_count": 5,
   "metadata": {},
   "outputs": [
    {
     "name": "stdout",
     "output_type": "stream",
     "text": [
      "Đọc tới vị trí 0\n",
      "--------------------------------------------------\n",
      "882\n",
      "cmdcmdmcmdawquqywgdhxisytauqwQQEWQEJQHDGSVSACuhssjshjswyyywyadbakdhJKDSJDJSJFDSLFJKSUI\n",
      "cmdcmdmcmdawquqywgdhxisytauqwQQEWQEJQHDGSVSACuhssjshjswyyywyadbakdhJKDSJDJSJFDSLFJKSUI\n",
      "cmdcmdmcmdawquqywgdhxisytauqwQQEWQEJQHDGSVSACuhssjshjswyyywyadbakdhJKDSJDJSJFDSLFJKSUI\n",
      "V\n",
      "V\n",
      "cmdcmdmcmdawquqywgdhxisytauqwQQEWQEJQHDGSVSACuhssjshjswyyywyadbakdhJKDSJDJSJFDSLFJKSUI\n",
      "V\n",
      "cmdcmdmcmdawquqywgdhxisytauqwQQEWQEJQHDGSVSACuhssjshjswyyywyadbakdhJKDSJDJSJFDSLFJKSUI\n",
      "cmdcmdmcmdawquqywgdhxisytauqwQQEWQEJQHDGSVSACuhssjshjswyyywyadbakdhJKDSJDJSJFDSLFJKSUI\n",
      "V\n",
      "cmdcmdmcmdawquqywgdhxisytauqwQQEWQEJQHDGSVSACuhssjshjswyyywyadbakdhJKDSJDJSJFDSLFJKSUI\n",
      "cmdcmdmcmdawquqywgdhxisytauqwQQEWQEJQHDGSVSACuhssjshjswyyywyadbakdhJKDSJDJSJFDSLFJKSUI\n",
      ";\n",
      "B\n",
      "cmdcmdmcmdawquqywgdhxisytauqwQQEWQEJQHDGSVSACuhssjshjswyyywyadbakdhJKDSJDJSJFDSLFJKSUIcmdcmdmcmdawquqywgdhxisytauqwQQEWQEJQHDGSVSACuhssjshjswyyywyadbakdhJKDSJDJSJFDSLFJKSUIVV\n"
     ]
    }
   ],
   "source": [
    "f = open(\"data/text.txt\", \"r\")\n",
    "# Yêu cầu đọc từ vị trí nào\n",
    "fpos = f.tell()\n",
    "print(\"Đọc tới vị trí\", fpos)\n",
    "\n",
    "f.seek(263)\n",
    "print(\"-\" * 50)\n",
    "\n",
    "data = f.read()\n",
    "print(len(data))\n",
    "print(data)\n"
   ]
  },
  {
   "cell_type": "code",
   "execution_count": null,
   "metadata": {},
   "outputs": [],
   "source": []
  }
 ],
 "metadata": {
  "interpreter": {
   "hash": "c7bee57b26c58cc7fda6ebbba85bbc81dac28551bf90007b61a71bf47794e6d8"
  },
  "kernelspec": {
   "display_name": "Python 3.9.9 64-bit",
   "language": "python",
   "name": "python3"
  },
  "language_info": {
   "codemirror_mode": {
    "name": "ipython",
    "version": 3
   },
   "file_extension": ".py",
   "mimetype": "text/x-python",
   "name": "python",
   "nbconvert_exporter": "python",
   "pygments_lexer": "ipython3",
   "version": "3.9.9"
  },
  "orig_nbformat": 4
 },
 "nbformat": 4,
 "nbformat_minor": 2
}
