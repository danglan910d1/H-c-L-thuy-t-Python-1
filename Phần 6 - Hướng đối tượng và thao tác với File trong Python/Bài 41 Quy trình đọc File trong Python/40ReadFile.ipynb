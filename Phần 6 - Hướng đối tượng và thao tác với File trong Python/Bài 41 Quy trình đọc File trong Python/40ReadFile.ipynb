{
 "cells": [
  {
   "cell_type": "code",
   "execution_count": 17,
   "metadata": {},
   "outputs": [
    {
     "name": "stdout",
     "output_type": "stream",
     "text": [
      "xcvbhjkuaytsgdwuejdf\n",
      "gÃ¡hdtwyuikjndbhgstyudikw\n",
      "aghsvdqgfweyuhdjnsa\n",
      "dfasdvasb xbanx\n",
      "Äƒtgetdwgbakxmnd\n",
      "agtwgavbxvashb\n"
     ]
    }
   ],
   "source": [
    "#  Mở và đọc file\n",
    "fp = open(\"data/python.txt.txt\",\"r\")\n",
    "for line in fp :\n",
    "    print(line, end=\"\")\n",
    "fp.close()"
   ]
  },
  {
   "cell_type": "code",
   "execution_count": 22,
   "metadata": {},
   "outputs": [
    {
     "name": "stdout",
     "output_type": "stream",
     "text": [
      "1 xcvbhjkuaytsgdwuejdf\n",
      "2 gÃ¡hdtwyuikjndbhgstyudikw\n",
      "3 aghsvdqgfweyuhdjnsa\n",
      "4 dfasdvasb xbanx\n",
      "5 Äƒtgetdwgbakxmnd\n",
      "6 agtwgavbxvashb\n",
      "\n",
      "Tổng số dòng 6\n"
     ]
    }
   ],
   "source": [
    "# Đếm số dòng\n",
    "fp = open(\"data/python.txt.txt\",\"r\")\n",
    "i = 0\n",
    "for line in fp :\n",
    "    i = i + 1\n",
    "    print(i, line, end=\"\")\n",
    "fp.close()\n",
    "\n",
    "print()\n",
    "print(\"Tổng số dòng\", i)"
   ]
  },
  {
   "cell_type": "code",
   "execution_count": null,
   "metadata": {},
   "outputs": [],
   "source": []
  }
 ],
 "metadata": {
  "interpreter": {
   "hash": "c7bee57b26c58cc7fda6ebbba85bbc81dac28551bf90007b61a71bf47794e6d8"
  },
  "kernelspec": {
   "display_name": "Python 3.9.9 64-bit",
   "language": "python",
   "name": "python3"
  },
  "language_info": {
   "codemirror_mode": {
    "name": "ipython",
    "version": 3
   },
   "file_extension": ".py",
   "mimetype": "text/x-python",
   "name": "python",
   "nbconvert_exporter": "python",
   "pygments_lexer": "ipython3",
   "version": "3.9.9"
  },
  "orig_nbformat": 4
 },
 "nbformat": 4,
 "nbformat_minor": 2
}
