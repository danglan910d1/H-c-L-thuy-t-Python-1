{
 "cells": [
  {
   "cell_type": "code",
   "execution_count": 4,
   "metadata": {},
   "outputs": [],
   "source": [
    "class Student :\n",
    "    def infor (self, name, age) :\n",
    "        print(\"Name :\", name, \"Age :\", age)"
   ]
  },
  {
   "cell_type": "code",
   "execution_count": 6,
   "metadata": {},
   "outputs": [
    {
     "name": "stdout",
     "output_type": "stream",
     "text": [
      "Name : Thu Hà Age : 22\n"
     ]
    }
   ],
   "source": [
    "Ha = Student()\n",
    "Ha .infor(\"Thu Hà\", 22)"
   ]
  },
  {
   "cell_type": "code",
   "execution_count": 13,
   "metadata": {},
   "outputs": [],
   "source": [
    "# Constructor: Khi tạo một đối tượng thì ra luôn\n",
    "# init: Trong init không được dùng return\n",
    "class Student :\n",
    "    def __init__ (self, name, age) :\n",
    "        print(\"Name :\", name, \"Age :\", age)\n",
    "         "
   ]
  },
  {
   "cell_type": "code",
   "execution_count": 12,
   "metadata": {},
   "outputs": [
    {
     "name": "stdout",
     "output_type": "stream",
     "text": [
      "Name : Hà Age : 23\n"
     ]
    }
   ],
   "source": [
    "ha = Student(\"Hà\", 23)"
   ]
  },
  {
   "cell_type": "code",
   "execution_count": 15,
   "metadata": {},
   "outputs": [
    {
     "name": "stdout",
     "output_type": "stream",
     "text": [
      "Name : Thu Ha Age : 22\n",
      "--------------------------\n"
     ]
    }
   ],
   "source": [
    "class Student :\n",
    "    def __init__ (self, name, age) :\n",
    "        print(\"Name :\", name, \"Age :\", age)\n",
    "    def __str__ (self) :\n",
    "        return(\"--------------------------\")\n",
    "ha = Student(\"Thu Ha\", 22)\n",
    "print(ha)"
   ]
  },
  {
   "cell_type": "code",
   "execution_count": 21,
   "metadata": {},
   "outputs": [
    {
     "name": "stdout",
     "output_type": "stream",
     "text": [
      "Name : Canh Quan Xuyen Age : 100\n",
      "--------------------------\n",
      "destroyed\n"
     ]
    }
   ],
   "source": [
    "# Del\n",
    "class Student :\n",
    "    def __init__ (self, name, age) :\n",
    "        print(\"Name :\", name, \"Age :\", age)\n",
    "    def __str__ (self) :\n",
    "        return(\"--------------------------\")\n",
    "    def __del__ (self) :\n",
    "        print(\"destroyed\")\n",
    "\n",
    "ngu = Student(\"Canh Quan Xuyen\", 100)\n",
    "print(ngu)\n",
    "del ngu"
   ]
  },
  {
   "cell_type": "code",
   "execution_count": 23,
   "metadata": {},
   "outputs": [
    {
     "ename": "NameError",
     "evalue": "name 'ngu' is not defined",
     "output_type": "error",
     "traceback": [
      "\u001b[1;31m---------------------------------------------------------------------------\u001b[0m",
      "\u001b[1;31mNameError\u001b[0m                                 Traceback (most recent call last)",
      "\u001b[1;32mf:\\landang\\Lập trình Python từ hero-zero\\Phần 6 - Hướng đối tượng và thao tác với File trong Python\\Bài 37 Tìm hiểu Constructor và Destructor\\37ConstructorDestructor.ipynb Cell 7'\u001b[0m in \u001b[0;36m<module>\u001b[1;34m\u001b[0m\n\u001b[0;32m      <a href='vscode-notebook-cell:/f%3A/landang/L%E1%BA%ADp%20tr%C3%ACnh%20Python%20t%E1%BB%AB%20hero-zero/Ph%E1%BA%A7n%206%20-%20H%C6%B0%E1%BB%9Bng%20%C4%91%E1%BB%91i%20t%C6%B0%E1%BB%A3ng%20v%C3%A0%20thao%20t%C3%A1c%20v%E1%BB%9Bi%20File%20trong%20Python/B%C3%A0i%2037%20T%C3%ACm%20hi%E1%BB%83u%20Constructor%20v%C3%A0%20Destructor/37ConstructorDestructor.ipynb#ch0000006?line=0'>1</a>\u001b[0m \u001b[39m# Đã xóa nên báo lỗi\u001b[39;00m\n\u001b[1;32m----> <a href='vscode-notebook-cell:/f%3A/landang/L%E1%BA%ADp%20tr%C3%ACnh%20Python%20t%E1%BB%AB%20hero-zero/Ph%E1%BA%A7n%206%20-%20H%C6%B0%E1%BB%9Bng%20%C4%91%E1%BB%91i%20t%C6%B0%E1%BB%A3ng%20v%C3%A0%20thao%20t%C3%A1c%20v%E1%BB%9Bi%20File%20trong%20Python/B%C3%A0i%2037%20T%C3%ACm%20hi%E1%BB%83u%20Constructor%20v%C3%A0%20Destructor/37ConstructorDestructor.ipynb#ch0000006?line=1'>2</a>\u001b[0m \u001b[39mprint\u001b[39m(ngu)\n",
      "\u001b[1;31mNameError\u001b[0m: name 'ngu' is not defined"
     ]
    }
   ],
   "source": [
    "# Đã xóa nên báo lỗi\n",
    "print(ngu)"
   ]
  },
  {
   "cell_type": "code",
   "execution_count": null,
   "metadata": {},
   "outputs": [],
   "source": []
  }
 ],
 "metadata": {
  "interpreter": {
   "hash": "c7bee57b26c58cc7fda6ebbba85bbc81dac28551bf90007b61a71bf47794e6d8"
  },
  "kernelspec": {
   "display_name": "Python 3.9.9 64-bit",
   "language": "python",
   "name": "python3"
  },
  "language_info": {
   "codemirror_mode": {
    "name": "ipython",
    "version": 3
   },
   "file_extension": ".py",
   "mimetype": "text/x-python",
   "name": "python",
   "nbconvert_exporter": "python",
   "pygments_lexer": "ipython3",
   "version": "3.9.9"
  },
  "orig_nbformat": 4
 },
 "nbformat": 4,
 "nbformat_minor": 2
}
