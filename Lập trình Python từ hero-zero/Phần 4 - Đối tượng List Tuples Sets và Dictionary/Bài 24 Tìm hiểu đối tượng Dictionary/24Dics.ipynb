{
 "cells": [
  {
   "cell_type": "code",
   "execution_count": 2,
   "metadata": {},
   "outputs": [
    {
     "name": "stdout",
     "output_type": "stream",
     "text": [
      "{'hs1': 'Lan', 'hs2': 'Hà', 'hs3': 'Đặng', 'hs4': 'Trần'} <class 'dict'>\n"
     ]
    }
   ],
   "source": [
    "std = {\"hs1\":\"Lan\", \"hs2\":\"Hà\", \"hs3\":\"Đặng\", \"hs4\":\"Trần\"}\n",
    "print(std, type(std))"
   ]
  },
  {
   "cell_type": "code",
   "execution_count": 9,
   "metadata": {},
   "outputs": [
    {
     "data": {
      "text/plain": [
       "4"
      ]
     },
     "execution_count": 9,
     "metadata": {},
     "output_type": "execute_result"
    }
   ],
   "source": [
    "# Đếm tổng số phần tử trong Dictionary\n",
    "len(std)"
   ]
  },
  {
   "cell_type": "code",
   "execution_count": 3,
   "metadata": {},
   "outputs": [
    {
     "ename": "NameError",
     "evalue": "name 'std' is not defined",
     "output_type": "error",
     "traceback": [
      "\u001b[1;31m---------------------------------------------------------------------------\u001b[0m",
      "\u001b[1;31mNameError\u001b[0m                                 Traceback (most recent call last)",
      "\u001b[1;32mf:\\landang\\Lập trình Python từ hero-zero\\Lập trình Python từ hero-zero\\Phần 4 - Đối tượng List Tuples Sets và Dictionary\\Bài 24 Tìm hiểu đối tượng Dictionary\\24Dics.ipynb Cell 3'\u001b[0m in \u001b[0;36m<module>\u001b[1;34m\u001b[0m\n\u001b[0;32m      <a href='vscode-notebook-cell:/f%3A/landang/L%E1%BA%ADp%20tr%C3%ACnh%20Python%20t%E1%BB%AB%20hero-zero/L%E1%BA%ADp%20tr%C3%ACnh%20Python%20t%E1%BB%AB%20hero-zero/Ph%E1%BA%A7n%204%20-%20%C4%90%E1%BB%91i%20t%C6%B0%E1%BB%A3ng%20List%20Tuples%20Sets%20v%C3%A0%20Dictionary/B%C3%A0i%2024%20T%C3%ACm%20hi%E1%BB%83u%20%C4%91%E1%BB%91i%20t%C6%B0%E1%BB%A3ng%20Dictionary/24Dics.ipynb#ch0000002?line=0'>1</a>\u001b[0m \u001b[39m# Xoá một phần tử ở vị trí index\u001b[39;00m\n\u001b[1;32m----> <a href='vscode-notebook-cell:/f%3A/landang/L%E1%BA%ADp%20tr%C3%ACnh%20Python%20t%E1%BB%AB%20hero-zero/L%E1%BA%ADp%20tr%C3%ACnh%20Python%20t%E1%BB%AB%20hero-zero/Ph%E1%BA%A7n%204%20-%20%C4%90%E1%BB%91i%20t%C6%B0%E1%BB%A3ng%20List%20Tuples%20Sets%20v%C3%A0%20Dictionary/B%C3%A0i%2024%20T%C3%ACm%20hi%E1%BB%83u%20%C4%91%E1%BB%91i%20t%C6%B0%E1%BB%A3ng%20Dictionary/24Dics.ipynb#ch0000002?line=1'>2</a>\u001b[0m \u001b[39mdel\u001b[39;00m std[\u001b[39m'\u001b[39m\u001b[39mhs2\u001b[39m\u001b[39m'\u001b[39m]\n",
      "\u001b[1;31mNameError\u001b[0m: name 'std' is not defined"
     ]
    }
   ],
   "source": [
    "# Xoá một phần tử ở vị trí index\n",
    "del std['hs2']"
   ]
  },
  {
   "cell_type": "code",
   "execution_count": 6,
   "metadata": {},
   "outputs": [],
   "source": [
    "# Lấy ra khoá của Dictionary\n",
    "print(std[\"hs1\"], std[\"hs3\"])\n",
    "print(std[\"hs2\"], std[\"hs4\"])"
   ]
  },
  {
   "cell_type": "code",
   "execution_count": 7,
   "metadata": {},
   "outputs": [],
   "source": [
    "# Lấy ra giá trị của Dictionary"
   ]
  },
  {
   "cell_type": "code",
   "execution_count": 8,
   "metadata": {},
   "outputs": [],
   "source": [
    "# Hiển thị ra đầy đủ key và values của Dictionary"
   ]
  },
  {
   "cell_type": "code",
   "execution_count": null,
   "metadata": {},
   "outputs": [],
   "source": []
  }
 ],
 "metadata": {
  "interpreter": {
   "hash": "c7bee57b26c58cc7fda6ebbba85bbc81dac28551bf90007b61a71bf47794e6d8"
  },
  "kernelspec": {
   "display_name": "Python 3.9.9 64-bit",
   "language": "python",
   "name": "python3"
  },
  "language_info": {
   "codemirror_mode": {
    "name": "ipython",
    "version": 3
   },
   "file_extension": ".py",
   "mimetype": "text/x-python",
   "name": "python",
   "nbconvert_exporter": "python",
   "pygments_lexer": "ipython3",
   "version": "3.9.9"
  },
  "orig_nbformat": 4
 },
 "nbformat": 4,
 "nbformat_minor": 2
}
