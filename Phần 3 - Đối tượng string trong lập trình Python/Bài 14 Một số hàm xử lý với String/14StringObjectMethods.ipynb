{
 "cells": [
  {
   "cell_type": "markdown",
   "metadata": {},
   "source": [
    "Hàm: Ý nghĩa\n",
    "- s.capitalize(): In hoa các chữ đầu tiên của chuỗi.\n",
    "- s.upper(): In hoa toàn bộ chuỗi\n",
    "- s.lower: In thường toàn bộ chuỗi\n",
    "- s.swapcase: Chuyển hoa thành thường, thường thành hoa\n",
    "- s.ljust(n,'*'): Thêm vào sau một chuỗi ký tự n phần tử với tổng số phần tử bao gồm luôn chuỗi gốc\n",
    "- s.rjust(n,'*'): Thêm vào trước mỗi chuỗi ký tự n phần tử với tổng số phần tử bao gồm luôn chuỗi gốc\n",
    "- s.center(n,'+'): Thêm vào trước và sau mỗi chuỗi ký tự n phần tử với tổng số phần tử bao gồm luôn chuỗi gốc\n",
    "- s.lstrip() hoặc s1.lstrip('*'): Hủy bỏ khoảng trắng hoặc các ký tự bên trái\n",
    "- s.rstrip() hoặc s1.('*'): Hủy bỏ khoảng trắng hoặc các ký tự bên phải\n",
    "- s.strip() hoặc s1.strip('*'): Hủy bỏ khoảng trắng hoặc ký tự cả hai bên"
   ]
  },
  {
   "cell_type": "code",
   "execution_count": 1,
   "metadata": {},
   "outputs": [
    {
     "name": "stdout",
     "output_type": "stream",
     "text": [
      "Đặng thị ngọc lan\n",
      "Trần thị thu hà\n"
     ]
    }
   ],
   "source": [
    "# In hoa chữ cái đầu tiên của chuỗi\n",
    "name = \"đặng thị ngọc lan\"\n",
    "name1 = \"trần thị thu hà\"\n",
    "print(name.capitalize())\n",
    "print(name1.capitalize())\n"
   ]
  },
  {
   "cell_type": "code",
   "execution_count": 2,
   "metadata": {},
   "outputs": [
    {
     "name": "stdout",
     "output_type": "stream",
     "text": [
      "đặng thị ngọc lan   trần thị thu hà\n",
      "ĐẶNG THỊ NGỌC LAN\n",
      "TRẦN THỊ THU HÀ\n",
      "ĐẶNG THỊ NGỌC LAN   TRẦN THỊ THU HÀ\n"
     ]
    }
   ],
   "source": [
    "# In hoa toàn bộ chuỗi\n",
    "print(name, ' ', name1)\n",
    "print(name.upper())\n",
    "print(name1.upper())\n",
    "print(name.upper(), ' ', name1.upper())"
   ]
  },
  {
   "cell_type": "code",
   "execution_count": 3,
   "metadata": {},
   "outputs": [
    {
     "name": "stdout",
     "output_type": "stream",
     "text": [
      "đặng thị ngọc lan   trần thị thu hà\n",
      "đặng thị ngọc lan\n",
      "trần thị thu hà\n",
      "đặng thị ngọc lan   trần thị thu hà\n"
     ]
    }
   ],
   "source": [
    "# In thường toàn bộ chuỗi\n",
    "print(name, ' ', name1)\n",
    "print(name.lower())\n",
    "print(name1.lower())\n",
    "print(name.lower(), ' ', name1.lower())"
   ]
  },
  {
   "cell_type": "code",
   "execution_count": 4,
   "metadata": {},
   "outputs": [
    {
     "name": "stdout",
     "output_type": "stream",
     "text": [
      "đặng thị ngọc lan   trần thị thu hà\n",
      "ĐẶNG THỊ NGỌC LAN   TRẦN THỊ THU HÀ\n"
     ]
    }
   ],
   "source": [
    "# Chuyển hoa thành thường, thường thành hoa\n",
    "x = \"ĐẶNG THỊ NGỌC LAN\"\n",
    "x1 = \"đặng thị ngọc lan\"\n",
    "y = \"TRẦN THỊ THU HÀ\"\n",
    "y1 = \"trần thị thu hà\"\n",
    "print(x.swapcase(), ' ', y.swapcase())\n",
    "print(x1.swapcase(), ' ', y1.swapcase())\n"
   ]
  },
  {
   "cell_type": "code",
   "execution_count": 5,
   "metadata": {},
   "outputs": [
    {
     "name": "stdout",
     "output_type": "stream",
     "text": [
      "Lan***\n"
     ]
    }
   ],
   "source": [
    "# Thêm vào sau chuỗi n phần tử\n",
    "a =\"Lan\"\n",
    "print(a.ljust(6,'*')) "
   ]
  },
  {
   "cell_type": "code",
   "execution_count": 6,
   "metadata": {},
   "outputs": [
    {
     "name": "stdout",
     "output_type": "stream",
     "text": [
      "*****Hà\n"
     ]
    }
   ],
   "source": [
    "# Thêm vào đầu chuỗi n phần tử\n",
    "b = \"Hà\"\n",
    "print(b.rjust(7, '*'))"
   ]
  },
  {
   "cell_type": "code",
   "execution_count": 7,
   "metadata": {},
   "outputs": [
    {
     "name": "stdout",
     "output_type": "stream",
     "text": [
      "love\n"
     ]
    }
   ],
   "source": [
    "# Thêm vào đầu và cuối chuỗi n phần tử\n",
    "c = \"love\"\n",
    "print(c.center(2, '+'))"
   ]
  },
  {
   "cell_type": "code",
   "execution_count": 8,
   "metadata": {},
   "outputs": [
    {
     "name": "stdout",
     "output_type": "stream",
     "text": [
      "My name is Lan\n"
     ]
    }
   ],
   "source": [
    "# Hủy bỏ khoảng trắng hoặc ký tự bên trái\n",
    "d = \"                      My name is Lan\"\n",
    "print(d.lstrip())"
   ]
  },
  {
   "cell_type": "code",
   "execution_count": 9,
   "metadata": {},
   "outputs": [
    {
     "name": "stdout",
     "output_type": "stream",
     "text": [
      "My name is\n"
     ]
    }
   ],
   "source": [
    "# Hủy bỏ khoảng trắng hoặc ký tự bên phải\n",
    "e = 'My name is                   '\n",
    "print(e.rstrip())"
   ]
  }
 ],
 "metadata": {
  "interpreter": {
   "hash": "c7bee57b26c58cc7fda6ebbba85bbc81dac28551bf90007b61a71bf47794e6d8"
  },
  "kernelspec": {
   "display_name": "Python 3.9.9 64-bit",
   "language": "python",
   "name": "python3"
  },
  "language_info": {
   "codemirror_mode": {
    "name": "ipython",
    "version": 3
   },
   "file_extension": ".py",
   "mimetype": "text/x-python",
   "name": "python",
   "nbconvert_exporter": "python",
   "pygments_lexer": "ipython3",
   "version": "3.9.9"
  },
  "orig_nbformat": 4
 },
 "nbformat": 4,
 "nbformat_minor": 2
}
