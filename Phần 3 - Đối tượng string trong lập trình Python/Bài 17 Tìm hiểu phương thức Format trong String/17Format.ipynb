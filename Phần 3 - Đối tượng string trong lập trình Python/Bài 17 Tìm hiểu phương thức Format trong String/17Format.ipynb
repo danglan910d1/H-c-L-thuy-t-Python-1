{
 "cells": [
  {
   "cell_type": "markdown",
   "metadata": {},
   "source": [
    "https://pyformat.info/\n"
   ]
  },
  {
   "cell_type": "code",
   "execution_count": 2,
   "metadata": {},
   "outputs": [
    {
     "name": "stdout",
     "output_type": "stream",
     "text": [
      "Tôi tên là Đặng Thị Ngọc Lanvà tuổi là 20\n"
     ]
    }
   ],
   "source": [
    "name = \"Đặng Thị Ngọc Lan\"\n",
    "old = \"20\"\n",
    "s = \"Tôi tên là \" + name + \"và tuổi là \" + old\n",
    "print(s)"
   ]
  },
  {
   "cell_type": "code",
   "execution_count": 5,
   "metadata": {},
   "outputs": [
    {
     "name": "stdout",
     "output_type": "stream",
     "text": [
      "Tôi tên là: Đặng Thị Ngọc Lan và tuổi của tôi là: 20\n"
     ]
    }
   ],
   "source": [
    "# Format theo kiểu điền thẳng vào chỗ trống\n",
    "s = \"Tôi tên là: {} và tuổi của tôi là: {}\".format(\"Đặng Thị Ngọc Lan\", \"20\")\n",
    "print(s)"
   ]
  },
  {
   "cell_type": "code",
   "execution_count": 14,
   "metadata": {},
   "outputs": [
    {
     "name": "stdout",
     "output_type": "stream",
     "text": [
      "Học sinh 1: Lan học sinh 2: Y học sinh: 3 Bao\n",
      "Con lớn là Phong con Nhì là Ý con Ba là Lan con Út là Bảo\n"
     ]
    }
   ],
   "source": [
    "# Format theo kiểu điền vào chỗ trống theo số thứ tự định sẵn \n",
    "hs = \"Học sinh 1: {0} học sinh 2: {1} học sinh: 3 {2}\".format(\"Lan\", \"Y\", \"Bao\")\n",
    "print(hs)\n",
    "childs = \"Con lớn là {2} con Nhì là {0} con Ba là {1} con Út là {3}\". format(\"Ý\", \"Lan\", \"Phong\", \"Bảo\")\n",
    "print(childs)"
   ]
  },
  {
   "cell_type": "markdown",
   "metadata": {},
   "source": [
    "Nếu sử dụng format thêm biến (biểu diễn kiểu danh sách) thì phải thêm dấu *trước biến\n",
    "- vd: ... .format(*a)"
   ]
  },
  {
   "cell_type": "code",
   "execution_count": 18,
   "metadata": {},
   "outputs": [
    {
     "name": "stdout",
     "output_type": "stream",
     "text": [
      "<class 'list'>\n",
      "Các món ăn tôi nghĩ bạn thích là Trái cây, Bún, Nem nướng, Bánh mì\n"
     ]
    }
   ],
   "source": [
    "# Format theo kiểu list\n",
    "ds = [\"Trái cây\", \"Bánh mì\", \"Nem nướng\", \"Bún\"]\n",
    "print(type(ds))\n",
    "monan = \"Các món ăn tôi nghĩ bạn thích là {0}, {3}, {2}, {1}\".format(*ds)\n",
    "print(monan)"
   ]
  },
  {
   "cell_type": "code",
   "execution_count": 19,
   "metadata": {},
   "outputs": [
    {
     "name": "stdout",
     "output_type": "stream",
     "text": [
      "<class 'tuple'>\n",
      "Các món ăn tôi nghĩ bạn thích là Trái cây, Bún, Nem nướng, Bánh mì\n"
     ]
    }
   ],
   "source": [
    "# Format theo kiểu list\n",
    "ds = (\"Trái cây\", \"Bánh mì\", \"Nem nướng\", \"Bún\")\n",
    "print(type(ds))\n",
    "monan = \"Các món ăn tôi nghĩ bạn thích là {0}, {3}, {2}, {1}\".format(*ds)\n",
    "print(monan)"
   ]
  },
  {
   "cell_type": "code",
   "execution_count": 78,
   "metadata": {},
   "outputs": [
    {
     "name": "stdout",
     "output_type": "stream",
     "text": [
      "My love is     \n",
      "My name is-----\n",
      "     My love is\n",
      "-----My name is\n",
      "  My love is   \n",
      "--My name is---\n"
     ]
    }
   ],
   "source": [
    "# Thêm ký tự vào chuỗi bằng format (Phần nối chuỗi)\n",
    "# Thêm kí tự phía sau nội dung dùng <\n",
    "s = '{:<15}'.format(\"My love is\")\n",
    "print(s)\n",
    "\n",
    "k = '{:-<15}'.format(\"My name is\")\n",
    "print(k)\n",
    "# Thêm kí tự phía trước nội dung dùng >\n",
    "m = '{:>15}'.format(\"My love is\")\n",
    "print(m)\n",
    "\n",
    "n = '{:->15}'.format(\"My name is\")\n",
    "print(n)\n",
    "# Thêm kí tự hai bên nội dung dùng ^ để nội dung đều nhau\n",
    "a = '{:^15}'.format(\"My love is\")\n",
    "print(a)\n",
    "\n",
    "b = '{:-^15}'.format(\"My name is\")\n",
    "print(b)"
   ]
  },
  {
   "cell_type": "code",
   "execution_count": 88,
   "metadata": {},
   "outputs": [
    {
     "name": "stdout",
     "output_type": "stream",
     "text": [
      "Số thứ tự: 11\n",
      "Số thứ tự: 11 và 12 và 2\n"
     ]
    }
   ],
   "source": [
    "s = \"Số thứ tự: {}\".format(11)\n",
    "print(s)\n",
    "# Tránh sử dụng số trong format gây hiểu nhầm ta dùng index:d. X là hecxa, b là nhị phân, o là...opto\n",
    "s = \"Số thứ tự: {0:d} và {1:d} và {2:X}\".format(11, 12, 2)\n",
    "print(s)"
   ]
  },
  {
   "cell_type": "code",
   "execution_count": 94,
   "metadata": {},
   "outputs": [
    {
     "data": {
      "text/plain": [
       "'30,000,000'"
      ]
     },
     "execution_count": 94,
     "metadata": {},
     "output_type": "execute_result"
    }
   ],
   "source": [
    "price = 30000000\n",
    "'{:,}'.format(price)\n",
    "# Làm sao chuyển , thành ."
   ]
  },
  {
   "cell_type": "code",
   "execution_count": null,
   "metadata": {},
   "outputs": [],
   "source": []
  }
 ],
 "metadata": {
  "interpreter": {
   "hash": "c7bee57b26c58cc7fda6ebbba85bbc81dac28551bf90007b61a71bf47794e6d8"
  },
  "kernelspec": {
   "display_name": "Python 3.9.9 64-bit",
   "language": "python",
   "name": "python3"
  },
  "language_info": {
   "codemirror_mode": {
    "name": "ipython",
    "version": 3
   },
   "file_extension": ".py",
   "mimetype": "text/x-python",
   "name": "python",
   "nbconvert_exporter": "python",
   "pygments_lexer": "ipython3",
   "version": "3.9.9"
  },
  "orig_nbformat": 4
 },
 "nbformat": 4,
 "nbformat_minor": 2
}
