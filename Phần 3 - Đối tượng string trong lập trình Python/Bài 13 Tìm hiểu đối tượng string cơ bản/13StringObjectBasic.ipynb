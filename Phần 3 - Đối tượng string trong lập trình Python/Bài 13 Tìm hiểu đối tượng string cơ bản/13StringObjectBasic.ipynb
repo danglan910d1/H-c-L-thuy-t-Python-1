{
 "cells": [
  {
   "cell_type": "code",
   "execution_count": 7,
   "metadata": {},
   "outputs": [
    {
     "name": "stdout",
     "output_type": "stream",
     "text": [
      "<class 'str'> 2030809413936\n",
      "17\n"
     ]
    }
   ],
   "source": [
    "name = \"Đặng Thị Ngọc Lan\"\n",
    "print(type(name), id(name))\n",
    "print(len(name)) # In ra chiều dài của chuỗi\n"
   ]
  },
  {
   "cell_type": "code",
   "execution_count": 8,
   "metadata": {},
   "outputs": [
    {
     "name": "stdout",
     "output_type": "stream",
     "text": [
      "<class 'str'> 2030781163184\n",
      "15\n"
     ]
    }
   ],
   "source": [
    "name1 = \"Trần Thị Thu Hà\"\n",
    "print(type(name1), id(name1))\n",
    "print(len(name1))"
   ]
  },
  {
   "cell_type": "markdown",
   "metadata": {},
   "source": [
    "Hàm                             Ý nghĩa\n",
    "len(str)                        Lấy chiều dài của một chuỗi\n",
    "str[index]                      Lấy chữ ở vị trí thứ index của chuỗi\n",
    "str[from:to]                    Lấy chữ từ vị trí from đến vị trí to\n",
    "str[from:]                      Lấy chữ từ vị trí from đến hết\n",
    "str[:to]                        Lấy chữ từ 0 đến vị trí to"
   ]
  },
  {
   "cell_type": "code",
   "execution_count": 22,
   "metadata": {},
   "outputs": [
    {
     "name": "stdout",
     "output_type": "stream",
     "text": [
      "L\n",
      "H\n"
     ]
    }
   ],
   "source": [
    "print(name[-3])\n",
    "print(name1[-2])\n"
   ]
  },
  {
   "cell_type": "code",
   "execution_count": 23,
   "metadata": {},
   "outputs": [
    {
     "name": "stdout",
     "output_type": "stream",
     "text": [
      "Lan\n",
      "Hà\n"
     ]
    }
   ],
   "source": [
    "print(name[-3:])\n",
    "print(name1[-2:])"
   ]
  },
  {
   "cell_type": "code",
   "execution_count": 20,
   "metadata": {},
   "outputs": [
    {
     "name": "stdout",
     "output_type": "stream",
     "text": [
      "Lan\n",
      "Hà\n"
     ]
    }
   ],
   "source": [
    "print(name[14:17])\n",
    "print(name1[13:15])"
   ]
  }
 ],
 "metadata": {
  "interpreter": {
   "hash": "c7bee57b26c58cc7fda6ebbba85bbc81dac28551bf90007b61a71bf47794e6d8"
  },
  "kernelspec": {
   "display_name": "Python 3.9.9 64-bit",
   "language": "python",
   "name": "python3"
  },
  "language_info": {
   "codemirror_mode": {
    "name": "ipython",
    "version": 3
   },
   "file_extension": ".py",
   "mimetype": "text/x-python",
   "name": "python",
   "nbconvert_exporter": "python",
   "pygments_lexer": "ipython3",
   "version": "3.9.9"
  },
  "orig_nbformat": 4
 },
 "nbformat": 4,
 "nbformat_minor": 2
}
