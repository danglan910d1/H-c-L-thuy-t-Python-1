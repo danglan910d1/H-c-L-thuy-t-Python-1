{
 "cells": [
  {
   "cell_type": "markdown",
   "metadata": {},
   "source": [
    "Hàm: Ý nghĩa\n",
    "- s.find('string', start, end): Tìm kiếm từ trong một chuỗi\n",
    "- 'string' in s: Kiểm tra có trong một chuỗi hay không\n",
    "- s.index('string'): Lấy ra vị trí của một từ đang tìm\n",
    "- s.replace(find, replace): Tìm và thay thế từ\n",
    "- s.isalnum(): Trả về True nếu chuỗi có ít nhất một ký tự\n",
    "- s.isalpha(): Trả về True nếu chuỗi không có ký tự nào\n",
    "- s.isdigit(): Trả về True nếu chuỗi có số\n",
    "- s.isspace(): Trả về True nếu chuỗi là khoảng trắng"
   ]
  },
  {
   "cell_type": "code",
   "execution_count": 26,
   "metadata": {},
   "outputs": [
    {
     "name": "stdout",
     "output_type": "stream",
     "text": [
      "20\n",
      "2\n",
      "-1\n",
      "7\n"
     ]
    }
   ],
   "source": [
    "# Tìm kiếm từ trong một chuỗi, kết quả trả về số dương là có, -1 là không\n",
    "name = \"I love you very much\"\n",
    "print(len(name))\n",
    "print(name.find(\"love\"))\n",
    "print(name.find(\"My\"))\n",
    "print(name.find(\"you\", 1, 20))"
   ]
  },
  {
   "cell_type": "code",
   "execution_count": 13,
   "metadata": {},
   "outputs": [
    {
     "name": "stdout",
     "output_type": "stream",
     "text": [
      "True\n"
     ]
    },
    {
     "data": {
      "text/plain": [
       "False"
      ]
     },
     "execution_count": 13,
     "metadata": {},
     "output_type": "execute_result"
    }
   ],
   "source": [
    "# Kiểm tra có trong một chuỗi hay không\n",
    "name = \"I love you very much\"\n",
    "s = \"I\" in name\n",
    "print(s)\n",
    "\"My\" in name"
   ]
  },
  {
   "cell_type": "code",
   "execution_count": 31,
   "metadata": {},
   "outputs": [
    {
     "data": {
      "text/plain": [
       "0"
      ]
     },
     "execution_count": 31,
     "metadata": {},
     "output_type": "execute_result"
    }
   ],
   "source": [
    "# Lấy ra vị trí của một từ đang tìm\n",
    "name = \"I love you very much\"\n",
    "name.index(\"I love\")"
   ]
  },
  {
   "cell_type": "code",
   "execution_count": 36,
   "metadata": {},
   "outputs": [
    {
     "data": {
      "text/plain": [
       "'My love is family'"
      ]
     },
     "execution_count": 36,
     "metadata": {},
     "output_type": "execute_result"
    }
   ],
   "source": [
    "# Tìm và thay thế từ\n",
    "name1 = \"My love is you\"\n",
    "name1.replace(\"you\",\"family\")"
   ]
  },
  {
   "cell_type": "code",
   "execution_count": 42,
   "metadata": {},
   "outputs": [
    {
     "data": {
      "text/plain": [
       "True"
      ]
     },
     "execution_count": 42,
     "metadata": {},
     "output_type": "execute_result"
    }
   ],
   "source": [
    "# Kiểm tra chuỗi có ít nhất một ký tự, đúng trả về true, không chấp nhận ký tự đặc biệt kể cả khoảng trắng\n",
    "a = \"Hà\"\n",
    "a.isalnum()"
   ]
  },
  {
   "cell_type": "code",
   "execution_count": 47,
   "metadata": {},
   "outputs": [
    {
     "data": {
      "text/plain": [
       "True"
      ]
     },
     "execution_count": 47,
     "metadata": {},
     "output_type": "execute_result"
    }
   ],
   "source": [
    "# Kiểm tra chuỗi có phải không có kí tự nào, đúng trả về true, không chấp nhận ký tự đặc biệt kể cả khoảng trắng, số\n",
    "a = \"Hà\"\n",
    "a.isalpha()"
   ]
  },
  {
   "cell_type": "code",
   "execution_count": 48,
   "metadata": {},
   "outputs": [
    {
     "data": {
      "text/plain": [
       "False"
      ]
     },
     "execution_count": 48,
     "metadata": {},
     "output_type": "execute_result"
    }
   ],
   "source": [
    "# Kiểm tra chuỗi có chứa số không\n",
    "a.isdigit()"
   ]
  },
  {
   "cell_type": "code",
   "execution_count": 57,
   "metadata": {},
   "outputs": [
    {
     "data": {
      "text/plain": [
       "True"
      ]
     },
     "execution_count": 57,
     "metadata": {},
     "output_type": "execute_result"
    }
   ],
   "source": [
    "# Kiểm tra chuỗi có phải là trống không\n",
    "d = \" \"\n",
    "d.isspace()"
   ]
  },
  {
   "cell_type": "code",
   "execution_count": null,
   "metadata": {},
   "outputs": [],
   "source": []
  }
 ],
 "metadata": {
  "interpreter": {
   "hash": "c7bee57b26c58cc7fda6ebbba85bbc81dac28551bf90007b61a71bf47794e6d8"
  },
  "kernelspec": {
   "display_name": "Python 3.9.9 64-bit",
   "language": "python",
   "name": "python3"
  },
  "language_info": {
   "codemirror_mode": {
    "name": "ipython",
    "version": 3
   },
   "file_extension": ".py",
   "mimetype": "text/x-python",
   "name": "python",
   "nbconvert_exporter": "python",
   "pygments_lexer": "ipython3",
   "version": "3.9.9"
  },
  "orig_nbformat": 4
 },
 "nbformat": 4,
 "nbformat_minor": 2
}
