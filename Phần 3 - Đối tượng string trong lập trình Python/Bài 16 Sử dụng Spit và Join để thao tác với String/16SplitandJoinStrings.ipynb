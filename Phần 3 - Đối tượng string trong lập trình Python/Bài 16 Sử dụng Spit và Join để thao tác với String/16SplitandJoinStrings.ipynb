{
 "cells": [
  {
   "cell_type": "markdown",
   "metadata": {},
   "source": [
    "- s.split(): Cắt chuỗi dựa vào khoảng trắng\n",
    "- s.split(\"t\"): Cắt chuỗi dựa vào ký tự\n",
    "- s.split(\"\", cắt chuỗi dựa vào ký tự và số lần cắt)\n",
    "- s.john(list): Gộp list thành chuỗi"
   ]
  },
  {
   "cell_type": "code",
   "execution_count": 1,
   "metadata": {},
   "outputs": [],
   "source": [
    "b = \"Bổ sung dự án Luật Khám bệnh, chữa bệnh (sửa đổi) vào Chương trình xây dựng luật, pháp lệnh\""
   ]
  },
  {
   "cell_type": "code",
   "execution_count": 2,
   "metadata": {},
   "outputs": [
    {
     "data": {
      "text/plain": [
       "'Bổ sung dự án Luật Khám bệnh, chữa bệnh (sửa đổi) vào Chương trình xây dựng luật, pháp lệnh'"
      ]
     },
     "execution_count": 2,
     "metadata": {},
     "output_type": "execute_result"
    }
   ],
   "source": [
    "b"
   ]
  },
  {
   "cell_type": "code",
   "execution_count": 7,
   "metadata": {},
   "outputs": [
    {
     "data": {
      "text/plain": [
       "['Bổ',\n",
       " 'sung',\n",
       " 'dự',\n",
       " 'án',\n",
       " 'Luật',\n",
       " 'Khám',\n",
       " 'bệnh,',\n",
       " 'chữa',\n",
       " 'bệnh',\n",
       " '(sửa',\n",
       " 'đổi)',\n",
       " 'vào',\n",
       " 'Chương',\n",
       " 'trình',\n",
       " 'xây',\n",
       " 'dựng',\n",
       " 'luật,',\n",
       " 'pháp',\n",
       " 'lệnh']"
      ]
     },
     "execution_count": 7,
     "metadata": {},
     "output_type": "execute_result"
    }
   ],
   "source": [
    "# Cắt chuỗi dựa vào khoảng trắng\n",
    "b.split()"
   ]
  },
  {
   "cell_type": "code",
   "execution_count": 8,
   "metadata": {},
   "outputs": [
    {
     "data": {
      "text/plain": [
       "list"
      ]
     },
     "execution_count": 8,
     "metadata": {},
     "output_type": "execute_result"
    }
   ],
   "source": [
    "c = b.split()\n",
    "type(c)"
   ]
  },
  {
   "cell_type": "code",
   "execution_count": 14,
   "metadata": {},
   "outputs": [
    {
     "data": {
      "text/plain": [
       "['Bổ sung ',\n",
       " 'ự án Luật Khám bệnh, chữa bệnh (sửa đổi) vào Chương trình xây ',\n",
       " 'ựng luật, pháp lệnh']"
      ]
     },
     "execution_count": 14,
     "metadata": {},
     "output_type": "execute_result"
    }
   ],
   "source": [
    "# Cắt dựa vào ký tự\n",
    "b.split(\"d\")"
   ]
  },
  {
   "cell_type": "code",
   "execution_count": 15,
   "metadata": {},
   "outputs": [
    {
     "data": {
      "text/plain": [
       "['Bổ',\n",
       " 'sung',\n",
       " 'dự',\n",
       " 'án',\n",
       " 'Luật',\n",
       " 'Khám',\n",
       " 'bệnh, chữa bệnh (sửa đổi) vào Chương trình xây dựng luật, pháp lệnh']"
      ]
     },
     "execution_count": 15,
     "metadata": {},
     "output_type": "execute_result"
    }
   ],
   "source": [
    "# Cắt dựa vào kí tự và số lần cắt\n",
    "b.split(' ', 6)"
   ]
  },
  {
   "cell_type": "code",
   "execution_count": 16,
   "metadata": {},
   "outputs": [
    {
     "name": "stdout",
     "output_type": "stream",
     "text": [
      "Bổ\n",
      "sung\n",
      "dự\n",
      "án\n",
      "Luật\n",
      "Khám\n",
      "bệnh,\n",
      "chữa\n",
      "bệnh\n",
      "(sửa\n",
      "đổi)\n",
      "vào\n",
      "Chương\n",
      "trình\n",
      "xây\n",
      "dựng\n",
      "luật,\n",
      "pháp\n",
      "lệnh\n"
     ]
    }
   ],
   "source": [
    "for item in c :\n",
    "    print(item)"
   ]
  },
  {
   "cell_type": "code",
   "execution_count": 20,
   "metadata": {},
   "outputs": [
    {
     "data": {
      "text/plain": [
       "'Bổ sung dự án Luật Khám bệnh, chữa bệnh (sửa đổi) vào Chương trình xây dựng luật, pháp lệnh'"
      ]
     },
     "execution_count": 20,
     "metadata": {},
     "output_type": "execute_result"
    }
   ],
   "source": [
    "# Gộp chuỗi, chuỗi trong join phải là list\n",
    "k = \" \"\n",
    "k.join(c)"
   ]
  },
  {
   "cell_type": "code",
   "execution_count": null,
   "metadata": {},
   "outputs": [],
   "source": []
  }
 ],
 "metadata": {
  "interpreter": {
   "hash": "c7bee57b26c58cc7fda6ebbba85bbc81dac28551bf90007b61a71bf47794e6d8"
  },
  "kernelspec": {
   "display_name": "Python 3.9.9 64-bit",
   "language": "python",
   "name": "python3"
  },
  "language_info": {
   "codemirror_mode": {
    "name": "ipython",
    "version": 3
   },
   "file_extension": ".py",
   "mimetype": "text/x-python",
   "name": "python",
   "nbconvert_exporter": "python",
   "pygments_lexer": "ipython3",
   "version": "3.9.9"
  },
  "orig_nbformat": 4
 },
 "nbformat": 4,
 "nbformat_minor": 2
}
