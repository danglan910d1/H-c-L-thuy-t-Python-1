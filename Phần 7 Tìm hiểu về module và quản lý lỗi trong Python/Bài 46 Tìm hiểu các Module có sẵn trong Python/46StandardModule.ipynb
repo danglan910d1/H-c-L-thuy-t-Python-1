{
 "cells": [
  {
   "cell_type": "code",
   "execution_count": 2,
   "metadata": {},
   "outputs": [
    {
     "name": "stdout",
     "output_type": "stream",
     "text": [
      "6\n"
     ]
    }
   ],
   "source": [
    "# Ví dụ 1: Random\n",
    "import random as ra\n",
    "a = ra.randint(1, 10)\n",
    "print(a)"
   ]
  },
  {
   "cell_type": "code",
   "execution_count": 4,
   "metadata": {},
   "outputs": [
    {
     "name": "stdout",
     "output_type": "stream",
     "text": [
      "[0, 1, 2, 3, 4, 5, 6, 7, 8, 9, 10, 11, 12, 13, 14, 15, 16, 17, 18, 19, 20, 21, 22, 23, 24]\n",
      "[22, 9, 14, 16, 0, 3, 12, 11, 10, 4, 21, 20, 1, 7, 6, 19, 15, 18, 5, 2, 17, 24, 8, 13, 23]\n"
     ]
    }
   ],
   "source": [
    "x = list(range(25))\n",
    "print(x)\n",
    "ra.shuffle(x)\n",
    "print(x)"
   ]
  },
  {
   "cell_type": "code",
   "execution_count": 6,
   "metadata": {},
   "outputs": [
    {
     "name": "stdout",
     "output_type": "stream",
     "text": [
      "2022-02-22 09:44:45.349403\n"
     ]
    }
   ],
   "source": [
    "# Ví dụ 2: Datetime\n",
    "# Lấy ra thời gian hiện tại\n",
    "import datetime as dt\n",
    "t = dt.datetime.now()\n",
    "print(t)"
   ]
  },
  {
   "cell_type": "code",
   "execution_count": 11,
   "metadata": {},
   "outputs": [
    {
     "name": "stdout",
     "output_type": "stream",
     "text": [
      "9\n",
      "44\n",
      "22\n",
      "2\n",
      "2022\n"
     ]
    }
   ],
   "source": [
    "print(t.hour)\n",
    "print(t.minute)\n",
    "print(t.day)\n",
    "print(t.month)\n",
    "print(t.year)"
   ]
  },
  {
   "cell_type": "code",
   "execution_count": 12,
   "metadata": {},
   "outputs": [
    {
     "name": "stdout",
     "output_type": "stream",
     "text": [
      "f:\\landang\\Lập trình Python từ hero-zero\\Phần 7 Tìm hiểu về module và quản lý lỗi trong Python\\Bài 46 Tìm hiểu các Module có sẵn trong Python\n"
     ]
    }
   ],
   "source": [
    "# Lấy địa chỉ của file đang làm\n",
    "import os as o\n",
    "print(o.getcwd())\n"
   ]
  },
  {
   "cell_type": "code",
   "execution_count": 13,
   "metadata": {},
   "outputs": [
    {
     "name": "stdout",
     "output_type": "stream",
     "text": [
      "C:\\Program Files (x86)\\Common Files\\Oracle\\Java\\javapath;C:\\Windows\\system32;C:\\Windows;C:\\Windows\\System32\\Wbem;C:\\Windows\\System32\\WindowsPowerShell\\v1.0\\;C:\\Windows\\System32\\OpenSSH\\;C:\\Program Files\\Git\\cmd;C:\\Users\\phong\\AppData\\Local\\Microsoft\\WindowsApps;;C:\\Users\\phong\\AppData\\Local\\Programs\\Microsoft VS Code\\bin\n"
     ]
    }
   ],
   "source": [
    "print(o.getenv(\"PATH\"))"
   ]
  },
  {
   "cell_type": "code",
   "execution_count": null,
   "metadata": {},
   "outputs": [],
   "source": []
  }
 ],
 "metadata": {
  "interpreter": {
   "hash": "c7bee57b26c58cc7fda6ebbba85bbc81dac28551bf90007b61a71bf47794e6d8"
  },
  "kernelspec": {
   "display_name": "Python 3.9.9 64-bit",
   "language": "python",
   "name": "python3"
  },
  "language_info": {
   "codemirror_mode": {
    "name": "ipython",
    "version": 3
   },
   "file_extension": ".py",
   "mimetype": "text/x-python",
   "name": "python",
   "nbconvert_exporter": "python",
   "pygments_lexer": "ipython3",
   "version": "3.9.9"
  },
  "orig_nbformat": 4
 },
 "nbformat": 4,
 "nbformat_minor": 2
}
