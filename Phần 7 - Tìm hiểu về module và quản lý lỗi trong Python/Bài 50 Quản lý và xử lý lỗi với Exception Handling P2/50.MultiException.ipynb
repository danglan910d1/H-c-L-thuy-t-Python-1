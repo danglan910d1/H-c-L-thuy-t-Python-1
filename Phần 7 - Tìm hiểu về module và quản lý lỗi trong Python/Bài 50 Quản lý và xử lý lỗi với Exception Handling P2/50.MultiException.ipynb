{
 "cells": [
  {
   "cell_type": "code",
   "execution_count": 19,
   "metadata": {},
   "outputs": [
    {
     "name": "stdout",
     "output_type": "stream",
     "text": [
      "x = 11000.0\n"
     ]
    },
    {
     "ename": "FileNotFoundError",
     "evalue": "[Errno 2] No such file or directory: 'minh.txt'",
     "output_type": "error",
     "traceback": [
      "\u001b[1;31m---------------------------------------------------------------------------\u001b[0m",
      "\u001b[1;31mFileNotFoundError\u001b[0m                         Traceback (most recent call last)",
      "\u001b[1;32mf:\\landang\\Lập trình Python từ hero-zero\\Phần 7 Tìm hiểu về module và quản lý lỗi trong Python\\Bài 50 Quản lý và xử lý lỗi với Exception Handling P2\\50.MultiException.ipynb Cell 1'\u001b[0m in \u001b[0;36m<module>\u001b[1;34m\u001b[0m\n\u001b[0;32m      <a href='vscode-notebook-cell:/f%3A/landang/L%E1%BA%ADp%20tr%C3%ACnh%20Python%20t%E1%BB%AB%20hero-zero/Ph%E1%BA%A7n%207%20T%C3%ACm%20hi%E1%BB%83u%20v%E1%BB%81%20module%20v%C3%A0%20qu%E1%BA%A3n%20l%C3%BD%20l%E1%BB%97i%20trong%20Python/B%C3%A0i%2050%20Qu%E1%BA%A3n%20l%C3%BD%20v%C3%A0%20x%E1%BB%AD%20l%C3%BD%20l%E1%BB%97i%20v%E1%BB%9Bi%20Exception%20Handling%20P2/50.MultiException.ipynb#ch0000000?line=2'>3</a>\u001b[0m x \u001b[39m=\u001b[39m ( a \u001b[39m*\u001b[39m b ) \u001b[39m+\u001b[39m (\u001b[39m1000\u001b[39m \u001b[39m*\u001b[39m a) \u001b[39m/\u001b[39m (a\u001b[39m/\u001b[39mb)\n\u001b[0;32m      <a href='vscode-notebook-cell:/f%3A/landang/L%E1%BA%ADp%20tr%C3%ACnh%20Python%20t%E1%BB%AB%20hero-zero/Ph%E1%BA%A7n%207%20T%C3%ACm%20hi%E1%BB%83u%20v%E1%BB%81%20module%20v%C3%A0%20qu%E1%BA%A3n%20l%C3%BD%20l%E1%BB%97i%20trong%20Python/B%C3%A0i%2050%20Qu%E1%BA%A3n%20l%C3%BD%20v%C3%A0%20x%E1%BB%AD%20l%C3%BD%20l%E1%BB%97i%20v%E1%BB%9Bi%20Exception%20Handling%20P2/50.MultiException.ipynb#ch0000000?line=3'>4</a>\u001b[0m \u001b[39mprint\u001b[39m(\u001b[39m\"\u001b[39m\u001b[39mx =\u001b[39m\u001b[39m\"\u001b[39m, x)\n\u001b[1;32m----> <a href='vscode-notebook-cell:/f%3A/landang/L%E1%BA%ADp%20tr%C3%ACnh%20Python%20t%E1%BB%AB%20hero-zero/Ph%E1%BA%A7n%207%20T%C3%ACm%20hi%E1%BB%83u%20v%E1%BB%81%20module%20v%C3%A0%20qu%E1%BA%A3n%20l%C3%BD%20l%E1%BB%97i%20trong%20Python/B%C3%A0i%2050%20Qu%E1%BA%A3n%20l%C3%BD%20v%C3%A0%20x%E1%BB%AD%20l%C3%BD%20l%E1%BB%97i%20v%E1%BB%9Bi%20Exception%20Handling%20P2/50.MultiException.ipynb#ch0000000?line=4'>5</a>\u001b[0m f \u001b[39m=\u001b[39m \u001b[39mopen\u001b[39;49m(\u001b[39m\"\u001b[39;49m\u001b[39mminh.txt\u001b[39;49m\u001b[39m\"\u001b[39;49m, \u001b[39m\"\u001b[39;49m\u001b[39mr\u001b[39;49m\u001b[39m\"\u001b[39;49m)\n\u001b[0;32m      <a href='vscode-notebook-cell:/f%3A/landang/L%E1%BA%ADp%20tr%C3%ACnh%20Python%20t%E1%BB%AB%20hero-zero/Ph%E1%BA%A7n%207%20T%C3%ACm%20hi%E1%BB%83u%20v%E1%BB%81%20module%20v%C3%A0%20qu%E1%BA%A3n%20l%C3%BD%20l%E1%BB%97i%20trong%20Python/B%C3%A0i%2050%20Qu%E1%BA%A3n%20l%C3%BD%20v%C3%A0%20x%E1%BB%AD%20l%C3%BD%20l%E1%BB%97i%20v%E1%BB%9Bi%20Exception%20Handling%20P2/50.MultiException.ipynb#ch0000000?line=5'>6</a>\u001b[0m \u001b[39mfor\u001b[39;00m line \u001b[39min\u001b[39;00m f: \n\u001b[0;32m      <a href='vscode-notebook-cell:/f%3A/landang/L%E1%BA%ADp%20tr%C3%ACnh%20Python%20t%E1%BB%AB%20hero-zero/Ph%E1%BA%A7n%207%20T%C3%ACm%20hi%E1%BB%83u%20v%E1%BB%81%20module%20v%C3%A0%20qu%E1%BA%A3n%20l%C3%BD%20l%E1%BB%97i%20trong%20Python/B%C3%A0i%2050%20Qu%E1%BA%A3n%20l%C3%BD%20v%C3%A0%20x%E1%BB%AD%20l%C3%BD%20l%E1%BB%97i%20v%E1%BB%9Bi%20Exception%20Handling%20P2/50.MultiException.ipynb#ch0000000?line=6'>7</a>\u001b[0m     \u001b[39mprint\u001b[39m(line)\n",
      "\u001b[1;31mFileNotFoundError\u001b[0m: [Errno 2] No such file or directory: 'minh.txt'"
     ]
    }
   ],
   "source": [
    "a = 100\n",
    "b = 10\n",
    "x = ( a * b ) + (1000 * a) / (a/b)\n",
    "print(\"x =\", x)\n",
    "f = open(\"minh.txt\", \"r\")\n",
    "for line in f: \n",
    "    print(line)"
   ]
  },
  {
   "cell_type": "code",
   "execution_count": 23,
   "metadata": {},
   "outputs": [
    {
     "name": "stdout",
     "output_type": "stream",
     "text": [
      "Lỗi:  division by zero\n"
     ]
    }
   ],
   "source": [
    "try :\n",
    "    a = 100\n",
    "    b = 0\n",
    "    x = ( a * b ) + (1000 * a) / (a/b)\n",
    "    print(\"x =\", x)\n",
    "    f = open(\"minh.txt\", \"r\")\n",
    "    for line in f: \n",
    "        print(line)\n",
    "except ZeroDivisionError as error :\n",
    "    print(\"Lỗi: \", error)\n",
    "except FileNotFoundError as error :\n",
    "    print(\"Lỗi: \", error)"
   ]
  },
  {
   "cell_type": "code",
   "execution_count": 25,
   "metadata": {},
   "outputs": [
    {
     "name": "stdout",
     "output_type": "stream",
     "text": [
      "x = 11000.0\n",
      "Lỗi:  [Errno 2] No such file or directory: 'minh.txt'\n"
     ]
    }
   ],
   "source": [
    "try :\n",
    "    a = 100\n",
    "    b = 10\n",
    "    x = ( a * b ) + (1000 * a) / (a/b)\n",
    "    print(\"x =\", x)\n",
    "    f = open(\"minh.txt\", \"r\")\n",
    "    for line in f: \n",
    "        print(line)\n",
    "except ZeroDivisionError as error :\n",
    "    print(\"Lỗi: \", error)\n",
    "except FileNotFoundError as error :\n",
    "    print(\"Lỗi: \", error)"
   ]
  },
  {
   "cell_type": "code",
   "execution_count": null,
   "metadata": {},
   "outputs": [],
   "source": []
  }
 ],
 "metadata": {
  "interpreter": {
   "hash": "c7bee57b26c58cc7fda6ebbba85bbc81dac28551bf90007b61a71bf47794e6d8"
  },
  "kernelspec": {
   "display_name": "Python 3.9.9 64-bit",
   "language": "python",
   "name": "python3"
  },
  "language_info": {
   "codemirror_mode": {
    "name": "ipython",
    "version": 3
   },
   "file_extension": ".py",
   "mimetype": "text/x-python",
   "name": "python",
   "nbconvert_exporter": "python",
   "pygments_lexer": "ipython3",
   "version": "3.9.9"
  },
  "orig_nbformat": 4
 },
 "nbformat": 4,
 "nbformat_minor": 2
}
